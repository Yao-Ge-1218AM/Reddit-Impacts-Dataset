{
  "nbformat": 4,
  "nbformat_minor": 0,
  "metadata": {
    "colab": {
      "provenance": []
    },
    "kernelspec": {
      "name": "python3",
      "display_name": "Python 3"
    },
    "language_info": {
      "name": "python"
    }
  },
  "cells": [
    {
      "cell_type": "code",
      "source": [
        "file = \"/content/converted_OtisLukas\""
      ],
      "metadata": {
        "id": "yxpqNyZKdbp3"
      },
      "execution_count": null,
      "outputs": []
    },
    {
      "cell_type": "code",
      "source": [
        "file = \"/content/reddit-impacts-dev\""
      ],
      "metadata": {
        "id": "WNT7zT129sLl"
      },
      "execution_count": null,
      "outputs": []
    },
    {
      "cell_type": "code",
      "source": [
        "file = \"/content/reddit-impacts-train\""
      ],
      "metadata": {
        "id": "_wr-S5KufPXb"
      },
      "execution_count": null,
      "outputs": []
    },
    {
      "cell_type": "code",
      "source": [
        "file = \"/content/reddit-impacts-test\""
      ],
      "metadata": {
        "id": "YShjxi_YgH9X"
      },
      "execution_count": null,
      "outputs": []
    },
    {
      "cell_type": "markdown",
      "source": [
        "对于只有三列的："
      ],
      "metadata": {
        "id": "IlH6ZUjzs8xO"
      }
    },
    {
      "cell_type": "code",
      "source": [
        "with open(file + \".tsv\",\"r\") as f:\n",
        "  with open(file + \"-4.tsv\",\"w\") as wf:\n",
        "    lines = f.readlines()\n",
        "    for line in lines:\n",
        "      if(line!=\"\\n\"):\n",
        "          new_line = line.strip(\"\\n\").split(\"\\t\")\n",
        "          if(new_line[0][0]!=\"#\"):\n",
        "            if(new_line[3]!=\"_\"):\n",
        "              #print(new_line)\n",
        "              if(new_line[3].endswith(\"]\")):\n",
        "                wf.write(new_line[0] + \"\\t\" + new_line[1] +\"\\t\" + new_line[2] + \"\\t\" + \"*[\" + new_line[3].split(\"[\")[1] + \"\\t\" + new_line[3] + \"\\t\" + \"\\n\")\n",
        "                #print(\" \")\n",
        "              else:\n",
        "                #print(line)\n",
        "                wf.write(new_line[0] + \"\\t\" + new_line[1] +\"\\t\" + new_line[2] + \"\\t\" + \"*\" + \"\\t\" + new_line[3] + \"\\t\" + \"\\n\")\n",
        "            else:\n",
        "              wf.write(new_line[0] + \"\\t\" + new_line[1] +\"\\t\" + new_line[2] + \"\\t\" + \"_\" + \"\\t\" + new_line[3] + \"\\t\" + \"\\n\")\n",
        "          else:\n",
        "            wf.write(line)\n",
        "      else:\n",
        "        wf.write(line)"
      ],
      "metadata": {
        "id": "ew8Y0iZTs_za"
      },
      "execution_count": null,
      "outputs": []
    },
    {
      "cell_type": "markdown",
      "source": [
        "**smm4h会用：**先删掉submission_text,改了一下第一列的序号"
      ],
      "metadata": {
        "id": "4FdwZcKYjqoq"
      }
    },
    {
      "cell_type": "code",
      "execution_count": null,
      "metadata": {
        "id": "kYd573BVdMkk"
      },
      "outputs": [],
      "source": [
        "with open(file + \"-4.tsv\",\"r\") as f:\n",
        "  with open(file + \"-new.tsv\",\"w\") as wf:\n",
        "    lines = f.readlines()\n",
        "    i= -1\n",
        "    j = 1\n",
        "    for line in lines:\n",
        "      if(line.startswith(\"#Text=submission_text\")):\n",
        "        continue\n",
        "      if(line==\"\\n\"):\n",
        "        i+=1\n",
        "        j=1\n",
        "        wf.write(line)\n",
        "      if(line!=\"\\n\"):\n",
        "        new_line = line.strip(\"\\n\").split(\"\\t\")\n",
        "        if(new_line[0][0]!=\"#\"):\n",
        "          #print(new_line[0])\n",
        "          #line0 = new_line[0].split(\"-\")\n",
        "          #pre = line0[0]\n",
        "          #end = line0[1]\n",
        "          #print(new_line)\n",
        "          wf.write(str(i) + \"-\" + str(j) + \"\\t\" + new_line[1]+\"\\t\" + new_line[2]+ \"\\t\" + new_line[3]+ \"\\t\" + new_line[4] + \"\\t\" + \"\\n\")\n",
        "          j+=1\n",
        "        if(new_line[0][0]==\"#\"):\n",
        "          wf.write(line)\n"
      ]
    },
    {
      "cell_type": "markdown",
      "source": [
        "**smm4h会用：**删掉了submission_text在文本中的内容"
      ],
      "metadata": {
        "id": "PKFC9UdndCux"
      }
    },
    {
      "cell_type": "code",
      "source": [
        "with open(file + \"-new.tsv\",\"r\") as f:\n",
        "  with open(file + \"-new1.tsv\",\"w\") as wf:\n",
        "    lines = f.readlines()\n",
        "    i=0\n",
        "    while(i<len(lines)):\n",
        "      line = lines[i]\n",
        "      if(line!=\"\\n\"):\n",
        "        new_line = line.strip(\"\\n\").split(\"\\t\")\n",
        "        if(new_line[0][0]!=\"#\"):\n",
        "        #print(new_line)\n",
        "          if(new_line[2]==\"submission_text\"):\n",
        "            #print(line)\n",
        "            i = i+40\n",
        "            #continue\n",
        "          else:\n",
        "            wf.write(line)\n",
        "            #print(line)\n",
        "        else:\n",
        "          wf.write(line)\n",
        "      else:\n",
        "        wf.write(line)\n",
        "      i+=1\n"
      ],
      "metadata": {
        "id": "hOTOV0XLOh66"
      },
      "execution_count": null,
      "outputs": []
    },
    {
      "cell_type": "markdown",
      "source": [
        "**smm4h会用：**删掉#Text=\"\\r"
      ],
      "metadata": {
        "id": "OSQf1SDVvGx1"
      }
    },
    {
      "cell_type": "markdown",
      "source": [
        "修改offset"
      ],
      "metadata": {
        "id": "5KU_xtKidIWB"
      }
    },
    {
      "cell_type": "markdown",
      "source": [
        "delete #Text=.\\n"
      ],
      "metadata": {
        "id": "jtA8dJ5Ib5il"
      }
    },
    {
      "cell_type": "code",
      "source": [
        "from functools import total_ordering\n",
        "with open(file + \"-new1.tsv\",\"r\") as f:\n",
        "  with open(file + \"-new2.tsv\",\"w\") as wf:\n",
        "    lines = f.readlines()\n",
        "    i=0\n",
        "    while(i<len(lines)):\n",
        "      line = lines[i]\n",
        "      if(line==\"#Text=.\\n\"):\n",
        "        i+=2\n",
        "      else:\n",
        "        wf.write(line)\n",
        "        i+=1"
      ],
      "metadata": {
        "id": "5zj88-czb9ek"
      },
      "execution_count": null,
      "outputs": []
    },
    {
      "cell_type": "markdown",
      "source": [
        "修改offset"
      ],
      "metadata": {
        "id": "dMPzLdm0g3by"
      }
    },
    {
      "cell_type": "code",
      "source": [
        "from functools import total_ordering\n",
        "with open(file + \"-new2.tsv\",\"r\") as f:\n",
        "  with open(file + \"-new3.tsv\",\"w\") as wf:\n",
        "    lines = f.readlines()\n",
        "    start = 0\n",
        "    end = 0\n",
        "    gap = 0\n",
        "    #prev_offset = ['0','1']\n",
        "    for line in lines:\n",
        "      print(line)\n",
        "      if(line!=\"\\n\"):\n",
        "          new_line = line.strip(\"\\n\").split(\"\\t\")\n",
        "          if(new_line[0][0]!=\"#\"):\n",
        "            if(new_line[0].split(\"-\")[1]==\"1\"):\n",
        "              prev_offset = new_line[1].split(\"-\")\n",
        "            offset = new_line[1].split(\"-\")\n",
        "            diff = int(offset[1]) - int(offset[0])\n",
        "            print(offset,diff)\n",
        "            if(int(offset[0])-end>2):\n",
        "              if(int(offset[0])-int(prev_offset[1])>2):\n",
        "                if(new_line[0].split(\"-\")[1]==\"1\"):\n",
        "                  start = end + 2\n",
        "                else:\n",
        "                  start = end+1\n",
        "                gap = int(offset[0])-start\n",
        "                end = start+diff\n",
        "                wf.write(new_line[0] + \"\\t\" + str(start) + \"-\" + str(end) +\"\\t\" + new_line[2]+ \"\\t\" + new_line[3]+ \"\\t\" + new_line[4] + \"\\t\" + \"\\n\")\n",
        "                #print(end,gap)\n",
        "              else:\n",
        "                start = int(offset[0])-gap\n",
        "                end = start+diff\n",
        "                #print(offset[0],gap,start,end)\n",
        "                wf.write(new_line[0] + \"\\t\" + str(start) + \"-\" + str(end) +\"\\t\" + new_line[2]+ \"\\t\" + new_line[3]+ \"\\t\" + new_line[4] + \"\\t\" + \"\\n\")\n",
        "            else:\n",
        "              start = int(offset[0])\n",
        "              end = int(offset[1])\n",
        "              wf.write(new_line[0] + \"\\t\" + str(start) + \"-\" + str(end) +\"\\t\" + new_line[2]+ \"\\t\" + new_line[3]+ \"\\t\" + new_line[4] + \"\\t\" + \"\\n\")\n",
        "            prev_offset = offset\n",
        "          else:\n",
        "            if(line!=\"#Text=\\n\"):\n",
        "              wf.write(line)\n",
        "      else:\n",
        "        #start += 2\n",
        "        wf.write(line)"
      ],
      "metadata": {
        "id": "NNQHWh7ndIoK"
      },
      "execution_count": null,
      "outputs": []
    },
    {
      "cell_type": "markdown",
      "source": [
        "**2024-1-6** 改动代码：原始的修改offset是因为本身数据的offset是按照顺序排列的，但是impacts数据集它的文本是我randomly select出来的，所以，要修改offset的代码。从头给它赋值就好了。"
      ],
      "metadata": {
        "id": "ZJ4E8GoHGD9R"
      }
    },
    {
      "cell_type": "markdown",
      "source": [
        "1. 修改submission_tilte后面有的两个引号：，说实话挺不好去掉的，要不就加上吧。。。\n",
        "\n"
      ],
      "metadata": {
        "id": "tiF8bbYXGsiY"
      }
    },
    {
      "cell_type": "code",
      "source": [
        "from functools import total_ordering\n",
        "with open(file + \".tsv\",\"r\") as f:\n",
        "  with open(file + \"-4.tsv\",\"w\") as wf:\n",
        "    lines = f.readlines()\n",
        "    i=0\n",
        "    while(i<len(lines)):\n",
        "      line = lines[i]\n",
        "      #print(line)\n",
        "      if(line!=\"\\n\"):\n",
        "          if(line.startswith('#Text=\"submission_title')):\n",
        "            print(line)\n",
        "            j = i+1\n",
        "            while(lines[j].startswith(\"#Text=\")):\n",
        "              wf.write(lines[j])\n",
        "              j = j+1\n",
        "            next_line = lines[j].strip(\"\\n\").split(\"\\t\")\n",
        "            next_next_line = lines[j+1].strip(\"\\n\").split(\"\\t\")\n",
        "            if(next_line[2]==next_next_line[2]=='\"'):\n",
        "              print(next_line,next_next_line)\n",
        "              i = j + 1\n",
        "          else:\n",
        "            wf.write(line)\n",
        "            i=i+1\n",
        "      else:\n",
        "        wf.write(line)\n",
        "        i=i+1\n"
      ],
      "metadata": {
        "id": "GsXYhc4cGDdW"
      },
      "execution_count": null,
      "outputs": []
    },
    {
      "cell_type": "markdown",
      "source": [
        "**smm4h会用：**从头给offset赋值"
      ],
      "metadata": {
        "id": "RPdSbaTsPa0G"
      }
    },
    {
      "cell_type": "code",
      "source": [
        "from functools import total_ordering\n",
        "with open(file + \"-new2.tsv\",\"r\") as f:\n",
        "  with open(file + \"-new3.tsv\",\"w\") as wf:\n",
        "    lines = f.readlines()\n",
        "    start = 0\n",
        "    end = 0\n",
        "    gap = 0\n",
        "    i = 0\n",
        "    while((i+1)<len(lines)):\n",
        "      line = lines[i]\n",
        "     # print(line)\n",
        "      if(line!=\"\\n\"):\n",
        "          new_line = line.strip(\"\\n\").split(\"\\t\")\n",
        "          if(new_line[0][0]!=\"#\"):\n",
        "            offset = new_line[1].split(\"-\")\n",
        "            diff = int(offset[1]) - int(offset[0])\n",
        "            end = start + diff\n",
        "            wf.write(new_line[0] + \"\\t\" + str(start) + \"-\" + str(end) +\"\\t\" + new_line[2]+ \"\\t\" + new_line[3]+ \"\\t\" + new_line[4] + \"\\t\" + \"\\n\")\n",
        "            if(lines[i+1]!=\"\\n\"):\n",
        "              next_line = lines[i+1].strip(\"\\n\").split(\"\\t\")\n",
        "              next_offset = next_line[1].split(\"-\")\n",
        "              #print(next_offset)\n",
        "              diff2 = int(next_offset[0]) - int(offset[1])\n",
        "              start = end + diff2\n",
        "            else:\n",
        "              #wf.write(line)\n",
        "              start = end + 2\n",
        "          else:\n",
        "            wf.write(line)\n",
        "      else:\n",
        "        wf.write(line)\n",
        "      i = i+1\n"
      ],
      "metadata": {
        "id": "JcEJAOaCPGPu"
      },
      "execution_count": null,
      "outputs": []
    },
    {
      "cell_type": "markdown",
      "source": [
        "**smm4h会用：**删掉多余的#Text=\\n"
      ],
      "metadata": {
        "id": "LCvXFOMbg_NE"
      }
    },
    {
      "cell_type": "code",
      "source": [
        "from functools import total_ordering\n",
        "with open(file + \"-new3.tsv\",\"r\") as f:\n",
        "  with open(file + \"-new4.tsv\",\"w\") as wf:\n",
        "    lines = f.readlines()\n",
        "    i=0\n",
        "    while(i<len(lines)-1):\n",
        "      line = lines[i]\n",
        "      if(line.startswith(\"#Text=\") and lines[i+1]==\"\\n\"):\n",
        "        wf.write(line)\n",
        "        wf.write('#Text=\"\\n')\n",
        "        i+=2\n",
        "      else:\n",
        "        wf.write(line)\n",
        "        i+=1"
      ],
      "metadata": {
        "id": "KHeRf9IFg0xk"
      },
      "execution_count": null,
      "outputs": []
    },
    {
      "cell_type": "markdown",
      "source": [
        "**smm4h会用：**4-5需要注意：第5行前空两行"
      ],
      "metadata": {
        "id": "KtsHkr5lhM2N"
      }
    },
    {
      "cell_type": "code",
      "source": [
        "with open(file + \"-new4.tsv\",\"r\") as f:\n",
        "  with open(file + \"-new5.tsv\",\"w\") as wf:\n",
        "    lines = f.readlines()\n",
        "    i= -1\n",
        "    j = 1\n",
        "    for line in lines:\n",
        "      if(line.startswith(\"#Text=submission_text\")):\n",
        "        continue\n",
        "      if(line==\"\\n\"):\n",
        "        i+=1\n",
        "        j=1\n",
        "        wf.write(line)\n",
        "      if(line!=\"\\n\"):\n",
        "        new_line = line.strip(\"\\n\").split(\"\\t\")\n",
        "        if(new_line[0][0]!=\"#\"):\n",
        "          #print(new_line[0])\n",
        "          #line0 = new_line[0].split(\"-\")\n",
        "          #pre = line0[0]\n",
        "          #end = line0[1]\n",
        "          #print(new_line)\n",
        "          wf.write(str(i) + \"-\" + str(j) + \"\\t\" + new_line[1]+\"\\t\" + new_line[2]+ \"\\t\" + new_line[3]+ \"\\t\" + new_line[4] + \"\\t\" + \"\\n\")\n",
        "          j+=1\n",
        "        if(new_line[0][0]==\"#\"):\n",
        "          wf.write(line)\n"
      ],
      "metadata": {
        "id": "d2UBZuO489gf"
      },
      "execution_count": null,
      "outputs": []
    },
    {
      "cell_type": "markdown",
      "source": [
        "annotation序号的规范化"
      ],
      "metadata": {
        "id": "kEbO09v-yxDY"
      }
    },
    {
      "cell_type": "code",
      "source": [
        "from functools import total_ordering\n",
        "with open(file + \"-new5.tsv\",\"r\") as f:\n",
        "  with open(file + \"-new6.tsv\",\"w\") as wf:\n",
        "    lines = f.readlines()\n",
        "    count = 1\n",
        "    i=0\n",
        "    while(i<len(lines)-1):\n",
        "      line = lines[i]\n",
        "      if(line!=\"\\n\"):\n",
        "        new_line = line.strip(\"\\n\").split(\"\\t\")\n",
        "        if(new_line[0][0]!=\"#\"):\n",
        "          if(new_line[3]==\"*\"):\n",
        "            wf.write(new_line[0] + \"\\t\" + new_line[1] +\"\\t\" + new_line[2] + \"\\t\" + \"*[\" + str(count)+ \"]\" + \"\\t\" + new_line[4] + \"\\t\" + \"\\n\")\n",
        "            count+=1\n",
        "          elif(new_line[3].endswith(\"]\")):\n",
        "            if(lines[i+1]==\"\\n\" or not (lines[i+1].strip(\"\\n\").split(\"\\t\")[3].endswith(\"]\"))):\n",
        "              wf.write(new_line[0] + \"\\t\" + new_line[1] +\"\\t\" + new_line[2] + \"\\t\" + \"*[\" + str(count)+ \"]\" + \"\\t\" + new_line[4] + \"\\t\" + \"\\n\")\n",
        "              count+=1\n",
        "            else:\n",
        "              wf.write(new_line[0] + \"\\t\" + new_line[1] +\"\\t\" + new_line[2] + \"\\t\" + \"*[\" + str(count)+ \"]\" + \"\\t\" + new_line[4] + \"\\t\" + \"\\n\")\n",
        "          else:\n",
        "            wf.write(line)\n",
        "        else:\n",
        "          wf.write(line)\n",
        "      else:\n",
        "        wf.write(line)\n",
        "      i+=1\n",
        "    wf.write(lines[i])"
      ],
      "metadata": {
        "id": "gw9qhtovsZPq"
      },
      "execution_count": null,
      "outputs": []
    },
    {
      "cell_type": "markdown",
      "source": [
        "check 是否只做了annotation，忘记标注*了"
      ],
      "metadata": {
        "id": "YV2OegqM_n5L"
      }
    },
    {
      "cell_type": "code",
      "source": [
        "with open(file + \"-new6.tsv\",\"r\") as f:\n",
        "#with open(\"/content/converted_useless_blonde-new7.tsv\",\"r\") as f:\n",
        "  lines = f.readlines()\n",
        "  count = 0\n",
        "  for line in lines:\n",
        "    if(line!=\"\\n\"):\n",
        "        new_line = line.strip(\"\\n\").split(\"\\t\")\n",
        "        if(new_line[0][0]!=\"#\"):\n",
        "          if(new_line[3]==\"_\" and new_line[4]!=\"_\"):\n",
        "            print(line)"
      ],
      "metadata": {
        "id": "rxUegNRK_rvA"
      },
      "execution_count": null,
      "outputs": []
    },
    {
      "cell_type": "markdown",
      "source": [
        "修改annotation的序号"
      ],
      "metadata": {
        "id": "P9Qoi3wEhH_6"
      }
    },
    {
      "cell_type": "code",
      "source": [
        "with open(file + \"-new6.tsv\",\"r\") as f:\n",
        "  with open(file + \"-new7.tsv\",\"w\") as wf:\n",
        "    lines = f.readlines()\n",
        "    for line in lines:\n",
        "      if(line!=\"\\n\"):\n",
        "          new_line = line.strip(\"\\n\").split(\"\\t\")\n",
        "          if(new_line[0][0]!=\"#\"):\n",
        "            if(new_line[3]!=\"_\"):\n",
        "              label = new_line[3].split(\"[\")\n",
        "              label_final = label[1].split(\"]\")[0]\n",
        "              #print(label_final)\n",
        "              label_new = int(label_final)  ###失误了从这里加减弥补就好\n",
        "              annotation = new_line[4].split(\"[\")[0]\n",
        "              #print(annotation)\n",
        "              wf.write(new_line[0] + \"\\t\" + new_line[1] +\"\\t\" + new_line[2] + \"\\t\" + \"*[\" + str(label_new)+ \"]\" + \"\\t\" + annotation + \"[\" + str(label_new)+ \"]\" + \"\\t\" +\"\\n\")\n",
        "            else:\n",
        "              wf.write(line)\n",
        "          else:\n",
        "            wf.write(line)\n",
        "      else:\n",
        "        wf.write(line)\n"
      ],
      "metadata": {
        "id": "CaYYtSeSK6cA"
      },
      "execution_count": null,
      "outputs": []
    },
    {
      "cell_type": "markdown",
      "source": [
        "correct 标注的【】"
      ],
      "metadata": {
        "id": "k7ujfmKmgRim"
      }
    },
    {
      "cell_type": "code",
      "source": [
        "from functools import total_ordering\n",
        "with open(file + \"-new7.tsv\",\"r\") as f:\n",
        "#with open(\"/content/converted_useless_blonde-new7.tsv\",\"r\") as f:\n",
        "  lines = f.readlines()\n",
        "  count = 0\n",
        "  for line in lines:\n",
        "    if(line!=\"\\n\"):\n",
        "        new_line = line.strip(\"\\n\").split(\"\\t\")\n",
        "        if(new_line[0][0]!=\"#\"):\n",
        "          if(new_line[3]!=\"_\"):\n",
        "            if not (new_line[4].endswith(\"]\")):\n",
        "              count+=1\n",
        "              print(line)\n",
        "            #wf.write(new_line[0] + \"\\t\" + new_line[1] +\"\\t\" + new_line[2] + \"\\t\" + \"*[\" + str(count) + \"]\" + \"\\t\" + new_line[4] + \"\\t\" + \"\\n\")\n",
        "print(count)"
      ],
      "metadata": {
        "id": "3y8FAUwQAhhR",
        "colab": {
          "base_uri": "https://localhost:8080/"
        },
        "outputId": "a14597ba-4f49-4bbc-b9b4-daa1cc68d783"
      },
      "execution_count": null,
      "outputs": [
        {
          "output_type": "stream",
          "name": "stdout",
          "text": [
            "0\n"
          ]
        }
      ]
    },
    {
      "cell_type": "markdown",
      "source": [
        "**smm4h会用：**check annotaion是否做了"
      ],
      "metadata": {
        "id": "eGmJSWf5zTi-"
      }
    },
    {
      "cell_type": "code",
      "source": [
        "from functools import total_ordering\n",
        "with open(file + \"-new5.tsv\",\"r\") as f:\n",
        "#with open(\"/content/converted_useless_blonde-new7.tsv\",\"r\") as f:\n",
        "  with open(file + \"-new6.tsv\",\"w\") as wf:\n",
        "    lines = f.readlines()\n",
        "    count = 0\n",
        "    for line in lines:\n",
        "      if(line!=\"\\n\"):\n",
        "          new_line = line.strip(\"\\n\").split(\"\\t\")\n",
        "          if(new_line[0][0]!=\"#\"):\n",
        "            if(new_line[3]!=\"_\" and new_line[4]==\"_\"):\n",
        "              #if (new_line[4].startswith(\"*\")):\n",
        "              #if():\n",
        "              #print(line)\n",
        "              wf.write(new_line[0] + \"\\t\" + new_line[1] +\"\\t\" + new_line[2] + \"\\t\" + \"_\" + \"\\t\" + new_line[4] + \"\\t\" + \"\\n\")\n",
        "            else:\n",
        "              wf.write(line)\n",
        "          else:\n",
        "            wf.write(line)\n",
        "      else:\n",
        "        wf.write(line)"
      ],
      "metadata": {
        "id": "OXkbWAygzV1u"
      },
      "execution_count": null,
      "outputs": []
    },
    {
      "cell_type": "markdown",
      "source": [
        "**smm4h会用：**还是submission_text的引号问题"
      ],
      "metadata": {
        "id": "XQQTjBg2elNW"
      }
    },
    {
      "cell_type": "code",
      "source": [],
      "metadata": {
        "id": "ExKU5m1hekvb"
      },
      "execution_count": null,
      "outputs": []
    },
    {
      "cell_type": "markdown",
      "source": [
        "收尾、查漏补缺"
      ],
      "metadata": {
        "id": "DwFd9UAXB_TZ"
      }
    },
    {
      "cell_type": "code",
      "source": [
        "with open(file + \"-new7.tsv\",\"r\") as f:\n",
        "  with open(file + \"-new8.tsv\",\"w\") as wf:\n",
        "    lines = f.readlines()\n",
        "    for line in lines:\n",
        "      if(line!=\"\\n\"):\n",
        "          new_line = line.strip(\"\\n\").split(\"\\t\")\n",
        "          if(new_line[0][0]!=\"#\"):\n",
        "            if(new_line[3]!=\"_\"):\n",
        "              label = new_line[3].split(\"[\")\n",
        "              label_final = label[1].split(\"]\")[0]\n",
        "              #print(label_final)\n",
        "              if(int(label_final)>18):\n",
        "                label_new = int(label_final) + 1 ###失误了从这里加减弥补就好\n",
        "              else:\n",
        "                label_new = int(label_final)\n",
        "              annotation = new_line[4].split(\"[\")[0]\n",
        "              #print(annotation)\n",
        "              wf.write(new_line[0] + \"\\t\" + new_line[1] +\"\\t\" + new_line[2] + \"\\t\" + \"*[\" + str(label_new)+ \"]\" + \"\\t\" + annotation + \"[\" + str(label_new)+ \"]\" + \"\\t\" +\"\\n\")\n",
        "            else:\n",
        "              wf.write(line)\n",
        "          else:\n",
        "            wf.write(line)\n",
        "      else:\n",
        "        wf.write(line)\n"
      ],
      "metadata": {
        "id": "QayKblsD-1FX"
      },
      "execution_count": null,
      "outputs": []
    }
  ]
}