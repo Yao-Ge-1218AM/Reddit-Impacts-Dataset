{
  "nbformat": 4,
  "nbformat_minor": 0,
  "metadata": {
    "colab": {
      "provenance": []
    },
    "kernelspec": {
      "name": "python3",
      "display_name": "Python 3"
    },
    "language_info": {
      "name": "python"
    }
  },
  "cells": [
    {
      "cell_type": "code",
      "metadata": {
        "id": "Ij8qluDtndOg"
      },
      "source": [
        "import pandas as pd\n",
        "import csv\n",
        "\n",
        "#path = \"/content/converted_Alexis224.tsv\"\n",
        "#path1 = \"/content/converted_Alexis224_new.tsv\"\n",
        "path = \"/content/converted_Canwesurf2.tsv\"\n",
        "path1 = \"/content/converted_Canwesurf2_new.tsv\"\n",
        "\n",
        "with open(path,'r') as f:\n",
        "  with open(path1,'w') as wf:\n",
        "    #train=pd.read_csv(f, sep='\\t')\n",
        "    #print(train)\n",
        "    text = f.readlines()\n",
        "    #print(text)\n",
        "    for line in text:\n",
        "      if(line.startswith(\"#\")==0 and line!=\"\\n\"):\n",
        "        #print(line)\n",
        "        wf.write(line)\n",
        ""
      ],
      "execution_count": null,
      "outputs": []
    },
    {
      "cell_type": "code",
      "metadata": {
        "id": "xj3djpDKxfPz"
      },
      "source": [
        "!unzip /content/tsv.zip"
      ],
      "execution_count": null,
      "outputs": []
    },
    {
      "cell_type": "code",
      "metadata": {
        "id": "oNL9vFdKiNmp"
      },
      "source": [
        "import pandas as pd\n",
        "import csv\n",
        "import os\n",
        "\n",
        "#path = \"/content/converted_Alexis224_new.tsv\"\n",
        "path = \"/content/tsv\"\n",
        "entity = set()\n",
        "\n",
        "\n",
        "for file in os.listdir(path):\n",
        "  #print(file[:6])\n",
        "  with open(path + \"/\" + file, \"r\") as f:\n",
        "    #train=pd.read_csv(f, sep=\"\\t\")\n",
        "    #print(train.head())\n",
        "    text = f.readlines()\n",
        "    for line in text:\n",
        "      if(line.startswith(\"#\")==0 and line!=\"\\n\"):\n",
        "        #print(line)\n",
        "        new_line = line.strip(\"\\n\").split(\"\\t\")\n",
        "        #print(new_line)\n",
        "        if(new_line[3]!=\"_\"):\n",
        "          print(new_line)\n",
        "          \"\"\"if(new_line[3].endswith(\"]\")):\n",
        "            #print(new_line[0],new_line[4],len(new_line[4]),new_line[4][:len(new_line[4])-4])\n",
        "            if(new_line[3][len(new_line[3])-3]==\"[\"):\n",
        "              entity_string = new_line[3][:len(new_line[3])-3]\n",
        "            elif(new_line[3][len(new_line[3])-4]==\"[\"):\n",
        "              entity_string = new_line[3][:len(new_line[3])-4]\n",
        "            elif(new_line[3][len(new_line[3])-5]==\"[\"):\n",
        "              entity_string = new_line[3][:len(new_line[3])-5]\n",
        "            if(new_line[3][len(new_line[3])-6]==\"[\"):\n",
        "              entity_string = new_line[3][:len(new_line[3])-6]\n",
        "            entity.add(entity_string)\n",
        "          else:\n",
        "            entity.add(new_line[3])\"\"\"\n",
        "\n",
        "print(entity)\n"
      ],
      "execution_count": null,
      "outputs": []
    },
    {
      "cell_type": "code",
      "metadata": {
        "id": "DkW0H_qT86mL"
      },
      "source": [
        "!unzip /content/OK.zip"
      ],
      "execution_count": null,
      "outputs": []
    },
    {
      "cell_type": "code",
      "metadata": {
        "id": "8QuGMvBrSZZF"
      },
      "source": [
        "!unzip /content/NOTOK_new.zip"
      ],
      "execution_count": null,
      "outputs": []
    },
    {
      "cell_type": "code",
      "metadata": {
        "id": "g7cl21di89G3",
        "colab": {
          "base_uri": "https://localhost:8080/"
        },
        "outputId": "3f6ae1f7-aada-4c6e-87ac-4a935c0a4783"
      },
      "source": [
        "import pandas as pd\n",
        "import csv\n",
        "import os\n",
        "\n",
        "#path = \"/content/converted_Alexis224_new.tsv\"\n",
        "path = \"/content/OK\"\n",
        "#path = \"/content/NOTOK_new\"\n",
        "\n",
        "#count = {'B-Age':0,'B-Abuse/Misuse Social Impacts':0,'B-Alcohol: co-ingestion or amount or frequency':0,'B-Abuse/Misuse Clinical Impacts':0,'B-Country of residence':0,'B-Education level':0,'B-Ethnicity':0,'B-Gender':0}\n",
        "#count = {'B-Household income':0,'B-Illegal drug use':0,'B-Location':0,'B-Marital status':0,'B-Medicine intake':0,'B-Medical condition':0,'B-Notes':0,'B-Nonmedical prescription drug use':0}\n",
        "#count = {'B-Occupation':0,'B-Supplements':0,'B-Tobacco Use':0,'B-Vape Flavor':0,'B-Vape Use':0,'B-Advice to':0,'B-IDU: Relapse':0,'B-IDU: amount':0}\n",
        "#count = {'B-IDU: frequency':0,'B-IDU: Method of intake & frequency and amount':0,'B-IDU: co-ingestion':0,'B-IDU: switch from or instead of prescription or in addition to':0,'B-MI: dosage  or frequency or amount':0,'B-NMPDU: amount':0,'B-NMPDU: transition from use to abuse/misuse':0,'B-NMPDU: relapse info':0}\n",
        "#count = {'B-NMPDU: source of drug':0,'B-NMPDU: Method of intake':0,'B-NMPDU: illegal drug use':0}\n",
        "#count = {'B-Medical Conditions/Events':0,'B-IDU: Transition to IDU':0,'B-Information Regarding Relapse':0}\n",
        "#count = {'B-Age/Gender':0,'B-IDU Method of Intake':0,'B-IDU Co ingestion':0,'B-IDU Co-ingestion':0,'B-IDU Co Ingestion':0,'B-Occupation':0}\n",
        "#count = {'B-Supplement':0,'B-Supplements- implied Kratom':0,'B-Supplements - Implied Kratom':0,'B-Supplements - Kratom':0,'B-Supplements':0,'B-Supplements - Kratom subreddit':0}\n",
        "#count = {'B-Information Regarding Relapse':0,'B-Information regarding relapse':0,'B-Social Impacts':0,'B-Vape Flavor':0,'B-Vape Use':0,'B-IDU - Research Chemicals':0}\n",
        "#count = {'B-Locations':0,'B-NMPDU Transition to IDU':0,'B-NMPDU Transition to Illegal Drug Use':0,'B-NMPDU Amount':0,'B-NMPD Amount':0,'B-NMPDU Source of Drug':0,'B-NMPDU Source of drug':0}\n",
        "#count = {'B-NMPDU Method of Intake':0,'B-NMPDU Information regarding relapse':0,'B-NMPDU Info Regarding Relapse':0,'B-NMPDU Information Regarding Relapse':0,'B-NMPDU Co Ingestion':0,'B-NMPDU':0,'B-Household Income':0}\n",
        "#count = {'B-Transition to IDU':0,'B-IDU: Transition to IDU':0,'B-IDU':0,'B-IDU Source of Drug':0,'B-IDU Amount':0,'B-Tobacco':0,'B-Tobacco Use':0}\n",
        "#count = {'B-Marital Status':0,'B-Medicine Intake':0,'B-Medicine Intake Dosage/Frquency':0,'B-Medicine Intake/IDU':0,'B-Medicine Intake Dosage/Frequency':0,'B-Medicine intake':0,'B-Medince Intake':0,'B-Medication Intake':0,'B-Medine Intake':0}\n",
        "#count = {'B-Medical Conditions/Events':0,'B-Medical Conditions/Evetnts':0,'B-Medical Conditions/Events (HIV)':0,'B-Alcohol':0,'B-Alcohol Co Ingestion':0,'B-Alcohol Use':0,'B-Advice to':0,\"B-Source of Drug'\":0,'B-Clinical Impacts':0,'B-Race/Ethnicity':0}\n",
        "#count = {'B-NMPDU: Source of drug':0,'B-Alcohol: Co-ingestion':0,'B-IDU: Method of Intake':0,'B-IDU Transition to IDU':0,'B-NMPDU Source of Drugs':0,'B-IDU CoIngestion':0,'B-NMPDU Transition from use to misuse':0,\"NMPDU Amount'\":0,'B-Medicine Intake - Narc':0,'B-IDU Coingestion':0}\n",
        "#count = {'B-NMPDU: Amount':0,'B-Income':0,'B-IDU Information regarding relapse':0,'B-IDU Amoung':0,'B-IDU: Amount':0,'B-IDU Co-Ingestion':0,'B-NMPDU Co-Ingestion':0,\"B-NMPDU Amount'\":0,'B-NMPDU Co-ingestion':0,'B-Notes: Selling':0}\n",
        "#count = {'B-Education Level':0,'B-IDU Transition to NMPDU':0,'B-Social Impacts - Implied ED':0,'B-null':0,'B-*':0}\n",
        "#count = {'B-Age':0,'I-Age':0}\n",
        "#count = {'B-Gender':0,'I-Gender':0,'B-Age/Gender':0,'I-Age/Gender':0}\n",
        "#count = {'B-Illegal drug use':0,'I-Illegal drug use':0,'B-NMPDU: illegal drug use':0,'I-NMPDU: illegal drug use':0,'B-NMPDU Transition to Illegal Drug Use':0,'I-NMPDU Transition to Illegal Drug Use':0}\n",
        "#count = {'B-Marital status':0,'I-Marital status':0,'B-Marital Status':0,'I-Marital Status':0}\n",
        "#count = {'B-IDU: Method of intake & frequency and amount':0,'I-IDU: Method of intake & frequency and amount':0,'B-NMPDU: Method of intake':0,'I-NMPDU: Method of intake':0}\n",
        "#count = {'B-IDU':0, 'I-IDU':0, 'B-Illegal drug use':0,'I-Illegal drug use':0,'B-NMPDU: illegal drug use':0,'I-NMPDU: illegal drug use':0,'B-NMPDU Transition to Illegal Drug Use':0,'I-NMPDU Transition to Illegal Drug Use':0,'B-Medicine intake':0, 'I-Medicine intake':0,'B-Medicine Intake':0,'I-Medicine Intake':0,'B-Medicine Intake Dosage/Frquency':0,'I-Medicine Intake Dosage/Frquency':0,'B-Medicine Intake/IDU':0,'I-Medicine Intake/IDU':0,'B-Medicine Intake Dosage/Frequency':0,'I-Medicine Intake Dosage/Frequency':0,'B-IDU: Relapse':0,'I-IDU: Relapse':0,'B-Nonmedical prescription drug use': 0, 'I-Nonmedical prescription drug use': 0, 'B-NMPDU: relapse info':0, 'I-NMPDU: relapse info':0, 'B-NMPDU: transition from use to abuse/misuse':0, 'I-NMPDU: transition from use to abuse/misuse':0, 'B-IDU: switch from or instead of prescription or in addition to':0, 'I-IDU: switch from or instead of prescription or in addition to':0}\n",
        "count = {'B-Abuse/Misuse Social Impacts':0, 'I-Abuse/Misuse Social Impacts':0, 'B-Abuse/Misuse Clinical Impacts':0, 'I-Abuse/Misuse Clinical Impacts':0,'B-Social Impacts':0, 'I-Social Impacts':0,'B-Clinical Impacts':0,'I-Clinical Impacts':0}\n",
        "#entity_set = set()\n",
        "\n",
        "for file in os.listdir(path):\n",
        "  #print(file[:6])\n",
        "  with open(path + \"/\" + file, \"r\") as f:\n",
        "    #train=pd.read_csv(f, sep=\"\\t\")\n",
        "    #print(train.head())\n",
        "    text = f.readlines()\n",
        "    #print(text)\n",
        "    for line in text:\n",
        "      new_line = line.strip(\"\\n\")\n",
        "      new_line = new_line.replace(\" B-\",\"\\tB-\")\n",
        "      new_line = new_line.replace(\" I-\",\"\\tI-\")\n",
        "      new_line = new_line.replace(\" O\",\"\\tO\")\n",
        "      new_line = new_line.split(\"\\t\")\n",
        "      #print(line)\n",
        "      \"\"\"if(line!=\"\\n\" and new_line[1]!=\"O\" and new_line[1]==\"I-Research Chemicals\"):\n",
        "        print(file,new_line)\n",
        "        #entity_set.add(new_line[1])\"\"\"\n",
        "      for word in new_line:\n",
        "        #print(word)\n",
        "        if word in count:\n",
        "          count[word]+=1\n",
        "          print(line)\n",
        "\n",
        "print(count)\n",
        "#print(entity_set)"
      ],
      "execution_count": null,
      "outputs": [
        {
          "output_type": "stream",
          "text": [
            "but B-Abuse/Misuse Social Impacts\n",
            "\n",
            "the I-Abuse/Misuse Social Impacts\n",
            "\n",
            "shame I-Abuse/Misuse Social Impacts\n",
            "\n",
            ", I-Abuse/Misuse Social Impacts\n",
            "\n",
            "the I-Abuse/Misuse Social Impacts\n",
            "\n",
            "isolation I-Abuse/Misuse Social Impacts\n",
            "\n",
            "and I-Abuse/Misuse Social Impacts\n",
            "\n",
            "the I-Abuse/Misuse Social Impacts\n",
            "\n",
            "heavy I-Abuse/Misuse Social Impacts\n",
            "\n",
            "secrets I-Abuse/Misuse Social Impacts\n",
            "\n",
            "were I-Abuse/Misuse Social Impacts\n",
            "\n",
            ". I-Abuse/Misuse Social Impacts\n",
            "\n",
            "age B-Abuse/Misuse Social Impacts\n",
            "\n",
            "40 I-Abuse/Misuse Social Impacts\n",
            "\n",
            "shame B-Abuse/Misuse Social Impacts\n",
            "\n",
            ", I-Abuse/Misuse Social Impacts\n",
            "\n",
            "lies I-Abuse/Misuse Social Impacts\n",
            "\n",
            "and I-Abuse/Misuse Social Impacts\n",
            "\n",
            "isolation I-Abuse/Misuse Social Impacts\n",
            "\n",
            "just I-Abuse/Misuse Social Impacts\n",
            "\n",
            "became I-Abuse/Misuse Social Impacts\n",
            "\n",
            "too I-Abuse/Misuse Social Impacts\n",
            "\n",
            "much I-Abuse/Misuse Social Impacts\n",
            "\n",
            ". I-Abuse/Misuse Social Impacts\n",
            "\n",
            "He B-Abuse/Misuse Social Impacts\n",
            "\n",
            "is I-Abuse/Misuse Social Impacts\n",
            "\n",
            "a I-Abuse/Misuse Social Impacts\n",
            "\n",
            "very I-Abuse/Misuse Social Impacts\n",
            "\n",
            "frightened I-Abuse/Misuse Social Impacts\n",
            "\n",
            "man I-Abuse/Misuse Social Impacts\n",
            "\n",
            ", I-Abuse/Misuse Social Impacts\n",
            "\n",
            "and I-Abuse/Misuse Social Impacts\n",
            "\n",
            "has I-Abuse/Misuse Social Impacts\n",
            "\n",
            "lost I-Abuse/Misuse Social Impacts\n",
            "\n",
            "the I-Abuse/Misuse Social Impacts\n",
            "\n",
            "ability I-Abuse/Misuse Social Impacts\n",
            "\n",
            "to I-Abuse/Misuse Social Impacts\n",
            "\n",
            "love I-Abuse/Misuse Social Impacts\n",
            "\n",
            "others I-Abuse/Misuse Social Impacts\n",
            "\n",
            ", I-Abuse/Misuse Social Impacts\n",
            "\n",
            "or I-Abuse/Misuse Social Impacts\n",
            "\n",
            "even I-Abuse/Misuse Social Impacts\n",
            "\n",
            "understand I-Abuse/Misuse Social Impacts\n",
            "\n",
            "that I-Abuse/Misuse Social Impacts\n",
            "\n",
            "they I-Abuse/Misuse Social Impacts\n",
            "\n",
            "are I-Abuse/Misuse Social Impacts\n",
            "\n",
            "fully I-Abuse/Misuse Social Impacts\n",
            "\n",
            "human I-Abuse/Misuse Social Impacts\n",
            "\n",
            "Minor B-Abuse/Misuse Clinical Impacts\n",
            "\n",
            "symptoms I-Abuse/Misuse Clinical Impacts\n",
            "\n",
            ", I-Abuse/Misuse Clinical Impacts\n",
            "\n",
            "mostly I-Abuse/Misuse Clinical Impacts\n",
            "\n",
            "body I-Abuse/Misuse Clinical Impacts\n",
            "\n",
            "temp I-Abuse/Misuse Clinical Impacts\n",
            "\n",
            "issues I-Abuse/Misuse Clinical Impacts\n",
            "\n",
            "and I-Abuse/Misuse Clinical Impacts\n",
            "\n",
            "the I-Abuse/Misuse Clinical Impacts\n",
            "\n",
            "wanting-to-crawl-out-of-skin I-Abuse/Misuse Clinical Impacts\n",
            "\n",
            ". I-Abuse/Misuse Clinical Impacts\n",
            "\n",
            "{'B-Abuse/Misuse Social Impacts': 4, 'I-Abuse/Misuse Social Impacts': 44, 'B-Abuse/Misuse Clinical Impacts': 1, 'I-Abuse/Misuse Clinical Impacts': 10, 'B-Social Impacts': 0, 'I-Social Impacts': 0, 'B-Clinical Impacts': 0, 'I-Clinical Impacts': 0}\n"
          ],
          "name": "stdout"
        }
      ]
    },
    {
      "cell_type": "code",
      "metadata": {
        "id": "WMrZAXT39SVA"
      },
      "source": [
        "rm -rf `find -type d -name .ipynb_checkpoints`"
      ],
      "execution_count": null,
      "outputs": []
    },
    {
      "cell_type": "code",
      "metadata": {
        "colab": {
          "base_uri": "https://localhost:8080/"
        },
        "id": "NoOuuu0AgY7i",
        "outputId": "049d10cc-b99d-4e24-9939-ee4cf58ca03a"
      },
      "source": [
        "!unzip /content/NOTOK.zip"
      ],
      "execution_count": null,
      "outputs": [
        {
          "output_type": "stream",
          "text": [
            "Archive:  /content/NOTOK.zip\n",
            "   creating: 真的不OK/\n",
            "  inflating: 真的不OK/converted_recovering4life81.conll  \n",
            "  inflating: 真的不OK/converted_recoverychronicles.conll  \n",
            "  inflating: 真的不OK/converted_schizooffspring.conll  \n",
            "  inflating: 真的不OK/converted_smilesreallyalot.conll  \n",
            "  inflating: 真的不OK/converted_Tacoshaman.conll  \n",
            "  inflating: 真的不OK/converted_useless_blonde.conll  \n"
          ],
          "name": "stdout"
        }
      ]
    },
    {
      "cell_type": "code",
      "metadata": {
        "colab": {
          "base_uri": "https://localhost:8080/",
          "height": 233
        },
        "id": "6fvIFel6glQo",
        "outputId": "09be3f59-bbac-4c39-bd2b-78bab5146f2c"
      },
      "source": [
        "import pandas as pd\n",
        "import csv\n",
        "import os\n",
        "\n",
        "#path = \"/content/converted_Alexis224_new.tsv\"\n",
        "path = \"/content/NOTOK\"\n",
        "count = {'B-Medical Conditions/Events':0,'I-IDU: Transition to IDU':0,'I-Information Regarding Relapse':0}\n",
        "\n",
        "for file in os.listdir(path):\n",
        "  #print(file[:6])\n",
        "  with open(path + \"/\" + file, \"r\") as f:\n",
        "    #train=pd.read_csv(f, sep=\"\\t\")\n",
        "    #print(train.head())\n",
        "    text = f.readlines()\n",
        "    #print(text)\n",
        "    for line in text:\n",
        "      new_line = line.strip(\"\\n\")\n",
        "      new_line = new_line[:len(new_line)-2]\n",
        "      #new_line = new_line.split(\" \")\n",
        "      #if(line!=\"\\n\" and new_line[-1]!=\"O\"):\n",
        "      #print(new_line)\n",
        "      new_line = new_line.replace(\" _ B-\",\"\\tB-\")\n",
        "      new_line = new_line.replace(\" _ I-\",\"\\tI-\")\n",
        "      new_line = new_line.replace(\" _ O\",\"\\tO\")\n",
        "      new_line = new_line.split(\"\\t\")\n",
        "      #if(line!=\"\\n\" and new_line[1]!=\"O\"):\n",
        "        #print(new_line)\n",
        "      for word in new_line:\n",
        "        #print(word)\n",
        "        if word in count:\n",
        "          count[word]+=1\n",
        "\n",
        "print(count)"
      ],
      "execution_count": null,
      "outputs": [
        {
          "output_type": "error",
          "ename": "FileNotFoundError",
          "evalue": "ignored",
          "traceback": [
            "\u001b[0;31m---------------------------------------------------------------------------\u001b[0m",
            "\u001b[0;31mFileNotFoundError\u001b[0m                         Traceback (most recent call last)",
            "\u001b[0;32m<ipython-input-82-6b41af12f27a>\u001b[0m in \u001b[0;36m<module>\u001b[0;34m()\u001b[0m\n\u001b[1;32m      7\u001b[0m \u001b[0mcount\u001b[0m \u001b[0;34m=\u001b[0m \u001b[0;34m{\u001b[0m\u001b[0;34m'B-Medical Conditions/Events'\u001b[0m\u001b[0;34m:\u001b[0m\u001b[0;36m0\u001b[0m\u001b[0;34m,\u001b[0m\u001b[0;34m'I-IDU: Transition to IDU'\u001b[0m\u001b[0;34m:\u001b[0m\u001b[0;36m0\u001b[0m\u001b[0;34m,\u001b[0m\u001b[0;34m'I-Information Regarding Relapse'\u001b[0m\u001b[0;34m:\u001b[0m\u001b[0;36m0\u001b[0m\u001b[0;34m}\u001b[0m\u001b[0;34m\u001b[0m\u001b[0;34m\u001b[0m\u001b[0m\n\u001b[1;32m      8\u001b[0m \u001b[0;34m\u001b[0m\u001b[0m\n\u001b[0;32m----> 9\u001b[0;31m \u001b[0;32mfor\u001b[0m \u001b[0mfile\u001b[0m \u001b[0;32min\u001b[0m \u001b[0mos\u001b[0m\u001b[0;34m.\u001b[0m\u001b[0mlistdir\u001b[0m\u001b[0;34m(\u001b[0m\u001b[0mpath\u001b[0m\u001b[0;34m)\u001b[0m\u001b[0;34m:\u001b[0m\u001b[0;34m\u001b[0m\u001b[0;34m\u001b[0m\u001b[0m\n\u001b[0m\u001b[1;32m     10\u001b[0m   \u001b[0;31m#print(file[:6])\u001b[0m\u001b[0;34m\u001b[0m\u001b[0;34m\u001b[0m\u001b[0;34m\u001b[0m\u001b[0m\n\u001b[1;32m     11\u001b[0m   \u001b[0;32mwith\u001b[0m \u001b[0mopen\u001b[0m\u001b[0;34m(\u001b[0m\u001b[0mpath\u001b[0m \u001b[0;34m+\u001b[0m \u001b[0;34m\"/\"\u001b[0m \u001b[0;34m+\u001b[0m \u001b[0mfile\u001b[0m\u001b[0;34m,\u001b[0m \u001b[0;34m\"r\"\u001b[0m\u001b[0;34m)\u001b[0m \u001b[0;32mas\u001b[0m \u001b[0mf\u001b[0m\u001b[0;34m:\u001b[0m\u001b[0;34m\u001b[0m\u001b[0;34m\u001b[0m\u001b[0m\n",
            "\u001b[0;31mFileNotFoundError\u001b[0m: [Errno 2] No such file or directory: '/content/NOTOK'"
          ]
        }
      ]
    },
    {
      "cell_type": "markdown",
      "metadata": {
        "id": "BN3hPNjbU3mi"
      },
      "source": [
        "I- 改 B-"
      ]
    },
    {
      "cell_type": "code",
      "metadata": {
        "id": "RJqZHTmLU3Fg"
      },
      "source": [
        "import pandas as pd\n",
        "import csv\n",
        "import os\n",
        "\n",
        "#path = \"/content/converted_Alexis224_new.tsv\"\n",
        "path = \"/content/NOTOK\"\n",
        "#path = \"/content/NOTOK_new\"\n",
        "\n",
        "for file in os.listdir(path):\n",
        "  #print(file[:6])\n",
        "  with open(path + \"/\" + file, \"r\") as f:\n",
        "    with open(\"/content/NOTOK_new/\" + file, \"w\") as wf:\n",
        "      #train=pd.read_csv(f, sep=\"\\t\")\n",
        "      #print(train.head())\n",
        "      text = f.readlines()\n",
        "      #print(text)\n",
        "      for i in range(len(text)-1):\n",
        "        #print(text[i])\n",
        "        line = text[i]\n",
        "        new_line = line.strip(\"\\n\")\n",
        "        new_line = new_line.replace(\" B-\",\"\\tB-\")\n",
        "        new_line = new_line.replace(\" I-\",\"\\tI-\")\n",
        "        new_line = new_line.replace(\" O\",\"\\tO\")\n",
        "        new_line = new_line.split(\"\\t\")\n",
        "        next_line = text[i+1]\n",
        "        new_next_line = next_line.strip(\"\\n\")\n",
        "        new_next_line = new_next_line.replace(\" B-\",\"\\tB-\")\n",
        "        new_next_line = new_next_line.replace(\" I-\",\"\\tI-\")\n",
        "        new_next_line = new_next_line.replace(\" O\",\"\\tO\")\n",
        "        new_next_line = new_next_line.split(\"\\t\")\n",
        "\n",
        "        if(line!=\"\\n\" and next_line!=\"\\n\" and new_line[1]==\"O\" and new_next_line[1]!=\"O\" and new_next_line[1].startswith(\"B-\")==0):\n",
        "          #print(file,new_next_line)\n",
        "          modified_next_line = next_line.replace(\"I-\",\"B-\")\n",
        "          wf.write(modified_next_line)\n",
        "        if(i==0):\n",
        "          wf.write(line)\n",
        "        if(line==\"\\n\" and next_line!=\"\\n\" and new_next_line[1]!=\"O\" and new_next_line[1].startswith(\"B-\")==0):\n",
        "          #print(file,new_next_line)\n",
        "          modified_next_line = next_line.replace(\"I-\",\"B-\")\n",
        "          wf.write(modified_next_line)\n",
        "        else:\n",
        "          wf.write(next_line)\n",
        "\n"
      ],
      "execution_count": null,
      "outputs": []
    },
    {
      "cell_type": "code",
      "metadata": {
        "id": "4XZ3-yV-qeS-"
      },
      "source": [
        "!rm -r /content/NOTOK_new"
      ],
      "execution_count": null,
      "outputs": []
    },
    {
      "cell_type": "code",
      "metadata": {
        "id": "4dVw-mV7qgoK"
      },
      "source": [
        "!mkdir /content/NOTOK_new"
      ],
      "execution_count": null,
      "outputs": []
    },
    {
      "cell_type": "markdown",
      "metadata": {
        "id": "KwJ2GFmyxrIG"
      },
      "source": [
        "total TEXT"
      ]
    },
    {
      "cell_type": "code",
      "metadata": {
        "id": "9Eqddc9Gxvdy"
      },
      "source": [
        "!unzip /content/useful.zip"
      ],
      "execution_count": null,
      "outputs": []
    },
    {
      "cell_type": "code",
      "metadata": {
        "id": "1_Q6_9qexsYT"
      },
      "source": [
        "path = \"/content/useful\"\n",
        "\n",
        "import pandas as pd\n",
        "import csv\n",
        "import os\n",
        "\n",
        "c = 0\n",
        "total = 0\n",
        "for file in os.listdir(path):\n",
        "  #print(file[:6])\n",
        "  with open(path + \"/\" + file, \"r\") as f:\n",
        "    c +=1\n",
        "    text = f.readlines()\n",
        "    #print(text[len(text)-1])\n",
        "    ttt = text[len(text)-1]\n",
        "    text_list = ttt.strip(\"\\n\").split(\"\\t\")\n",
        "    #print(text_list)\n",
        "\n",
        "    num = text_list[0].split(\"-\")\n",
        "    print(num)\n",
        "    total += int(num[0])\n",
        "\n",
        "print(c)\n",
        "print(total)"
      ],
      "execution_count": null,
      "outputs": []
    },
    {
      "cell_type": "markdown",
      "metadata": {
        "id": "BDnnpskzzy8V"
      },
      "source": [
        "tokens"
      ]
    },
    {
      "cell_type": "code",
      "metadata": {
        "colab": {
          "base_uri": "https://localhost:8080/"
        },
        "id": "qoFmaVrxzz5k",
        "outputId": "7c4df0f4-bd39-4da4-a8d6-9e59690d10cb"
      },
      "source": [
        "import pandas as pd\n",
        "import csv\n",
        "import os\n",
        "\n",
        "path = \"/content/OK\"\n",
        "path = \"/content/NOTOK_new\"\n",
        "\n",
        "cc = 0\n",
        "for file in os.listdir(path):\n",
        "  #print(file[:6])\n",
        "  with open(path + \"/\" + file, \"r\") as f:\n",
        "    text = f.readlines()\n",
        "    for line in text:\n",
        "      if(text!=\"\\n\"):\n",
        "        cc +=1\n",
        "print(cc)"
      ],
      "execution_count": null,
      "outputs": [
        {
          "output_type": "stream",
          "text": [
            "299187\n"
          ],
          "name": "stdout"
        }
      ]
    },
    {
      "cell_type": "code",
      "metadata": {
        "colab": {
          "base_uri": "https://localhost:8080/"
        },
        "id": "3grGyaqv0YHb",
        "outputId": "e131bde0-8739-4023-ee84-75ad4887bce9"
      },
      "source": [
        "print(2201302 + 299187)"
      ],
      "execution_count": null,
      "outputs": [
        {
          "output_type": "stream",
          "text": [
            "2500489\n"
          ],
          "name": "stdout"
        }
      ]
    },
    {
      "cell_type": "markdown",
      "metadata": {
        "id": "vT8WfeHWfjG9"
      },
      "source": [
        "disagreement"
      ]
    },
    {
      "cell_type": "code",
      "metadata": {
        "id": "K5d1c4RsAGTu"
      },
      "source": [
        "import pandas as pd\n",
        "import csv\n",
        "\n",
        "#path = \"/content/converted_Alexis224.tsv\"\n",
        "#path1 = \"/content/converted_Alexis224_new.tsv\"\n",
        "path = \"/content/ready_brian61907-2.tsv\"\n",
        "path1 = \"/content/ready_brian61907-2_new.tsv\"\n",
        "\n",
        "with open(path,'r') as f:\n",
        "  with open(path1,'w') as wf:\n",
        "    #train=pd.read_csv(f, sep='\\t')\n",
        "    #print(train)\n",
        "    text = f.readlines()\n",
        "    #print(text)\n",
        "    for line in text:\n",
        "      if(line.startswith(\"#\")==0 and line!=\"\\n\"):\n",
        "        #print(line)\n",
        "        wf.write(line)"
      ],
      "execution_count": null,
      "outputs": []
    },
    {
      "cell_type": "code",
      "metadata": {
        "colab": {
          "base_uri": "https://localhost:8080/"
        },
        "id": "xyUQJ2zQfkZo",
        "outputId": "6c284a4a-6306-44a7-b18f-9f68a7a62e95"
      },
      "source": [
        "import pandas as pd\n",
        "\n",
        "pd.set_option(\"display.max_columns\",500)\n",
        "\n",
        "df1 = pd.read_csv('/content/ready_brian61907_new.tsv', sep='\\t', quoting=csv.QUOTE_NONE)\n",
        "df2 = pd.read_csv('/content/ready_brian61907-2_new.tsv', sep='\\t', quoting=csv.QUOTE_NONE)\n",
        "\n",
        "\n",
        "print(df1)\n",
        "print(df2)"
      ],
      "execution_count": null,
      "outputs": [
        {
          "output_type": "stream",
          "text": [
            "            id           span              word tag\n",
            "0          1-1            0-1                 \"   _\n",
            "1          1-2           1-17  submission_title   _\n",
            "2          1-3          17-18                 :   _\n",
            "3          1-4          18-19                 -   _\n",
            "4          1-5          21-23                An   _\n",
            "...        ...            ...               ...  ..\n",
            "35545  581-217  162634-162635                 -   _\n",
            "35546  581-218  162635-162636                 -   _\n",
            "35547  581-219  162636-162637                 -   _\n",
            "35548  581-220  162638-162641               LOL   _\n",
            "35549  581-221  162737-162738                 \"   _\n",
            "\n",
            "[35550 rows x 4 columns]\n",
            "            id           span              word num tag\n",
            "0          1-1            0-1                 \"   _   _\n",
            "1          1-2           1-17  submission_title   _   _\n",
            "2          1-3          17-18                 :   _   _\n",
            "3          1-4          18-19                 -   _   _\n",
            "4          1-5          21-23                An   _   _\n",
            "...        ...            ...               ...  ..  ..\n",
            "35545  581-217  162634-162635                 -   _   _\n",
            "35546  581-218  162635-162636                 -   _   _\n",
            "35547  581-219  162636-162637                 -   _   _\n",
            "35548  581-220  162638-162641               LOL   _   _\n",
            "35549  581-221  162737-162738                 \"   _   _\n",
            "\n",
            "[35550 rows x 5 columns]\n"
          ],
          "name": "stdout"
        }
      ]
    },
    {
      "cell_type": "code",
      "metadata": {
        "colab": {
          "base_uri": "https://localhost:8080/"
        },
        "id": "ESMrQl7nJelm",
        "outputId": "480d8df2-1faf-4fb5-cde6-6d78dacde362"
      },
      "source": [
        "df2 = df2.drop(columns=['num'])\n",
        "print(df2)"
      ],
      "execution_count": null,
      "outputs": [
        {
          "output_type": "stream",
          "text": [
            "            id           span              word tag\n",
            "0          1-1            0-1                 \"   _\n",
            "1          1-2           1-17  submission_title   _\n",
            "2          1-3          17-18                 :   _\n",
            "3          1-4          18-19                 -   _\n",
            "4          1-5          21-23                An   _\n",
            "...        ...            ...               ...  ..\n",
            "35545  581-217  162634-162635                 -   _\n",
            "35546  581-218  162635-162636                 -   _\n",
            "35547  581-219  162636-162637                 -   _\n",
            "35548  581-220  162638-162641               LOL   _\n",
            "35549  581-221  162737-162738                 \"   _\n",
            "\n",
            "[35550 rows x 4 columns]\n"
          ],
          "name": "stdout"
        }
      ]
    },
    {
      "cell_type": "code",
      "metadata": {
        "colab": {
          "base_uri": "https://localhost:8080/"
        },
        "id": "ONAX8Zirqd0j",
        "outputId": "813b4a0b-263e-4e3c-88ef-508523379683"
      },
      "source": [
        "!pip install datacompy"
      ],
      "execution_count": null,
      "outputs": [
        {
          "output_type": "stream",
          "text": [
            "Collecting datacompy\n",
            "  Downloading https://files.pythonhosted.org/packages/94/99/4214e1f970498e8ea6e8d1c279a206bb58cc6cd4e545e7ceb9bb9afee8c7/datacompy-0.7.2-py3-none-any.whl\n",
            "Requirement already satisfied: pandas>=0.25.0 in /usr/local/lib/python3.7/dist-packages (from datacompy) (1.1.5)\n",
            "Requirement already satisfied: numpy>=1.11.3 in /usr/local/lib/python3.7/dist-packages (from datacompy) (1.19.5)\n",
            "Requirement already satisfied: pytz>=2017.2 in /usr/local/lib/python3.7/dist-packages (from pandas>=0.25.0->datacompy) (2018.9)\n",
            "Requirement already satisfied: python-dateutil>=2.7.3 in /usr/local/lib/python3.7/dist-packages (from pandas>=0.25.0->datacompy) (2.8.1)\n",
            "Requirement already satisfied: six>=1.5 in /usr/local/lib/python3.7/dist-packages (from python-dateutil>=2.7.3->pandas>=0.25.0->datacompy) (1.15.0)\n",
            "Installing collected packages: datacompy\n",
            "Successfully installed datacompy-0.7.2\n"
          ],
          "name": "stdout"
        }
      ]
    },
    {
      "cell_type": "code",
      "metadata": {
        "id": "pOkFC8zHIuHc"
      },
      "source": [],
      "execution_count": null,
      "outputs": []
    },
    {
      "cell_type": "code",
      "metadata": {
        "colab": {
          "base_uri": "https://localhost:8080/"
        },
        "id": "5ki0mx1lm5C8",
        "outputId": "861c9716-51cd-4bd6-f56b-b95a69ce0934"
      },
      "source": [
        "import pandas as pd\n",
        "import csv\n",
        "\n",
        "df1 = pd.read_csv('/content/ready_brian61907_diff.tsv', sep='\\t', quoting=csv.QUOTE_NONE)\n",
        "df2 = pd.read_csv('/content/ready_brian61907-2_diff.tsv', sep='\\t', quoting=csv.QUOTE_NONE)\n",
        "\n",
        "\n",
        "print(df1)\n",
        "print(df2)"
      ],
      "execution_count": null,
      "outputs": [
        {
          "output_type": "stream",
          "text": [
            "          id           span     word                           tag\n",
            "0        9-1      2258-2259        I  Medical Conditions/Events[1]\n",
            "1        9-2      2260-2263      had  Medical Conditions/Events[1]\n",
            "2        9-3      2264-2271  surgery  Medical Conditions/Events[1]\n",
            "3        9-4      2272-2274       in  Medical Conditions/Events[1]\n",
            "4        9-5      2275-2280    April  Medical Conditions/Events[1]\n",
            "...      ...            ...      ...                           ...\n",
            "1520  575-34  159462-159466     live                 Location[128]\n",
            "1521  575-35  159467-159469       in                 Location[128]\n",
            "1522  575-36  159470-159472       st                 Location[128]\n",
            "1523  575-37  159473-159479   george                 Location[128]\n",
            "1524  575-38  159480-159484     Utah                 Location[128]\n",
            "\n",
            "[1525 rows x 4 columns]\n",
            "          id           span     word                   tag\n",
            "0        9-1      2258-2259        I                     _\n",
            "1        9-2      2260-2263      had                     _\n",
            "2        9-3      2264-2271  surgery  Medical condition[1]\n",
            "3        9-4      2272-2274       in  Medical condition[1]\n",
            "4        9-5      2275-2280    April  Medical condition[1]\n",
            "...      ...            ...      ...                   ...\n",
            "1520  575-34  159462-159466     live                     _\n",
            "1521  575-35  159467-159469       in                     _\n",
            "1522  575-36  159470-159472       st          Location[80]\n",
            "1523  575-37  159473-159479   george          Location[80]\n",
            "1524  575-38  159480-159484     Utah          Location[80]\n",
            "\n",
            "[1525 rows x 4 columns]\n"
          ],
          "name": "stdout"
        }
      ]
    },
    {
      "cell_type": "code",
      "metadata": {
        "id": "05OQ-5VIjnV3"
      },
      "source": [
        "import pandas as pd\n",
        "import numpy as np\n",
        "from pandas.testing import assert_frame_equal\n",
        "\n",
        "import datacompy\n",
        "\n",
        "#assert_frame_equal(df1, df2, check_dtype=False, check_index_type='equiv', check_column_type='equiv', check_frame_type=True, check_names=True, by_blocks=False, check_exact=False, check_datetimelike_compat=False, check_categorical=True, check_like=False, check_freq=True, rtol=1e-05, atol=1e-08, obj='DataFrame')\n",
        "#df1.equals(df2)\n",
        "#df_all = pd.concat([df1.set_index('id'), df2.set_index('id')],\n",
        "          #axis='columns', keys=['First', 'Second'])\n",
        "#df_all\n",
        "\n",
        "\n",
        "#compare = datacompy.Compare(df1, df2, join_columns=['id','span','word','tag'])\n",
        "compare = datacompy.Compare(df1, df2, join_columns='word')\n",
        "print(compare.report())\n",
        "diff_rows = []\n",
        "print(compare.df1_unq_rows)\n",
        "print(compare.df2_unq_rows)\n",
        "#data_df = compare.df1_unq_rows\n",
        "#data_df2 = compare.df2_unq_rows\n",
        "\n"
      ],
      "execution_count": null,
      "outputs": []
    },
    {
      "cell_type": "code",
      "metadata": {
        "id": "4klqN1Jmoksu"
      },
      "source": [
        "\n",
        "\"\"\"data_df.to_csv('/content/ready_brian61907_diff.tsv',index=False,header=True,sep='\\t')\n",
        "data_df.to_csv('/content/ready_brian61907_diff.csv',index=False,header=True)\n",
        "\n",
        "data_df2.to_csv('/content/ready_brian61907-2_diff.tsv',index=False,header=True,sep='\\t')\n",
        "data_df2.to_csv('/content/ready_brian61907-2_diff.csv',index=False,header=True)\"\"\""
      ],
      "execution_count": null,
      "outputs": []
    },
    {
      "cell_type": "code",
      "metadata": {
        "id": "eRNXFLPcuhu2"
      },
      "source": [
        "print(diff_rows)"
      ],
      "execution_count": null,
      "outputs": []
    },
    {
      "cell_type": "markdown",
      "metadata": {
        "id": "9fDMavJ2r4PM"
      },
      "source": [
        "merge"
      ]
    },
    {
      "cell_type": "code",
      "metadata": {
        "colab": {
          "base_uri": "https://localhost:8080/"
        },
        "id": "oewp40gJr5XE",
        "outputId": "6f73ff05-3f89-4572-b308-3547f99dab32"
      },
      "source": [
        "result = pd.merge(df1,df2,on=['id','span','word'])\n",
        "print(result)\n",
        "result.to_csv('ready_brian61907_diff_merge.tsv',index=False,header=True,sep='\\t')"
      ],
      "execution_count": null,
      "outputs": [
        {
          "output_type": "stream",
          "text": [
            "          id           span  ...                         tag_x                 tag_y\n",
            "0        9-1      2258-2259  ...  Medical Conditions/Events[1]                     _\n",
            "1        9-2      2260-2263  ...  Medical Conditions/Events[1]                     _\n",
            "2        9-3      2264-2271  ...  Medical Conditions/Events[1]  Medical condition[1]\n",
            "3        9-4      2272-2274  ...  Medical Conditions/Events[1]  Medical condition[1]\n",
            "4        9-5      2275-2280  ...  Medical Conditions/Events[1]  Medical condition[1]\n",
            "...      ...            ...  ...                           ...                   ...\n",
            "1520  575-34  159462-159466  ...                 Location[128]                     _\n",
            "1521  575-35  159467-159469  ...                 Location[128]                     _\n",
            "1522  575-36  159470-159472  ...                 Location[128]          Location[80]\n",
            "1523  575-37  159473-159479  ...                 Location[128]          Location[80]\n",
            "1524  575-38  159480-159484  ...                 Location[128]          Location[80]\n",
            "\n",
            "[1525 rows x 5 columns]\n"
          ],
          "name": "stdout"
        }
      ]
    },
    {
      "cell_type": "markdown",
      "metadata": {
        "id": "GAHL81mqxE6c"
      },
      "source": [
        "插入text"
      ]
    },
    {
      "cell_type": "code",
      "metadata": {
        "id": "AxW7L7WqxGhd"
      },
      "source": [
        "import pandas as pd\n",
        "import csv\n",
        "\n",
        "id1 = set()\n",
        "id_1 = []\n",
        "with open(\"/content/ready_brian61907_diff_merge - relax.tsv\",\"r\") as f1:\n",
        "    #text1 = csv.reader(f1)\n",
        "    text1 = f1.readlines()\n",
        "    count = 0\n",
        "    for line in text1:\n",
        "      count +=1\n",
        "      if(count!=1):\n",
        "        #end = str(line).find(\"-\")\n",
        "        #print(str(line)[2:end])\n",
        "        #id1.add(str(line)[2:end])\n",
        "        line = line.strip(\"\\n\").split(\"\\t\")\n",
        "        #print(line[0])\n",
        "        id_1.append(line[0])"
      ],
      "execution_count": null,
      "outputs": []
    },
    {
      "cell_type": "code",
      "metadata": {
        "colab": {
          "base_uri": "https://localhost:8080/"
        },
        "id": "5U6DH7Ab2GYK",
        "outputId": "fe285cfe-ea59-40c5-c64e-85000cc21709"
      },
      "source": [
        "print(id_1)"
      ],
      "execution_count": null,
      "outputs": [
        {
          "output_type": "stream",
          "text": [
            "['10-14', '10-15', '10-16', '10-17', '10-18', '10-19', '10-20', '10-21', '10-22', '14-46', '14-47', '14-48', '14-49', '14-50', '14-51', '14-52', '14-53', '14-54', '14-55', '14-56', '14-57', '14-58', '14-59', '14-60', '14-61', '14-62', '14-63', '14-64', '14-65', '14-66', '14-67', '14-68', '14-69', '14-70', '16-54', '16-55', '16-56', '16-57', '16-58', '16-59', '16-60', '16-61', '16-62', '16-63', '16-64', '16-65', '16-66', '16-67', '16-68', '16-69', '16-70', '21-6', '21-7', '21-8', '21-9', '21-10', '21-11', '32-116', '32-122', '32-123', '32-124', '32-125', '32-138', '32-139', '32-140', '32-159', '32-160', '32-161', '32-162', '32-163', '32-164', '32-165', '32-166', '32-167', '32-168', '33-66', '33-67', '36-46', '36-47', '36-48', '36-49', '36-50', '59-392', '59-393', '59-394', '59-395', '59-396', '59-397', '59-398', '70-82', '70-83', '83-1', '83-2', '83-3', '83-4', '83-5', '83-6', '83-7', '83-8', '83-9', '83-10', '83-11', '83-12', '83-13', '83-14', '83-15', '83-16', '83-17', '83-18', '83-19', '83-20', '86-171', '86-172', '86-173', '86-174', '86-175', '86-176', '86-177', '86-178', '86-179', '86-180', '86-181', '86-182', '86-183', '86-184', '86-185', '86-186', '86-187', '86-188', '86-189', '86-190', '86-191', '86-192', '86-193', '92-7', '92-8', '92-9', '92-10', '92-11', '92-12', '92-13', '92-14', '92-15', '92-16', '92-17', '92-18', '93-1', '93-2', '93-3', '93-4', '93-5', '93-6', '93-7', '93-8', '93-9', '93-10', '95-1', '95-2', '95-3', '95-4', '95-5', '95-6', '95-7', '95-8', '95-9', '95-10', '95-11', '95-12', '95-13', '115-120', '115-121', '115-122', '115-123', '115-124', '115-125', '115-126', '115-127', '115-128', '115-129', '115-130', '115-131', '115-132', '115-133', '115-134', '115-135', '129-102', '129-103', '129-104', '129-105', '129-106', '129-107', '129-108', '129-109', '129-110', '129-111', '129-112', '129-113', '129-114', '129-115', '129-116', '129-117', '129-118', '129-119', '129-120', '129-121', '129-179', '129-180', '129-181', '129-182', '129-245', '129-246', '129-247', '129-248', '129-249', '129-250', '129-251', '129-252', '129-253', '129-254', '129-255', '129-256', '129-257', '129-258', '129-259', '129-260', '129-261', '129-262', '129-263', '129-264', '129-265', '129-266', '129-267', '129-268', '136-8', '136-9', '136-10', '136-11', '136-12', '137-53', '137-54', '137-55', '137-56', '137-57', '137-58', '137-59', '137-60', '141-47', '141-48', '141-49', '141-50', '141-51', '142-46', '142-47', '142-48', '142-49', '142-50', '142-51', '142-52', '142-53', '142-54', '142-55', '142-56', '142-57', '142-58', '142-59', '142-60', '142-61', '142-62', '142-63', '142-64', '142-65', '142-66', '142-67', '142-68', '142-69', '145-52', '145-53', '145-54', '145-55', '145-56', '145-57', '145-58', '145-59', '145-60', '145-61', '145-62', '145-63', '145-64', '145-65', '145-66', '145-67', '147-1', '147-2', '147-3', '147-4', '147-5', '147-6', '147-7', '147-8', '147-9', '148-3', '148-4', '149-10', '149-11', '149-12', '149-13', '149-14', '149-20', '149-21', '149-22', '149-23', '149-24', '149-25', '149-26', '149-27', '149-28', '149-29', '149-30', '149-31', '149-32', '149-33', '149-34', '149-35', '149-36', '149-37', '149-38', '149-39', '149-40', '149-41', '149-42', '149-43', '149-44', '149-45', '149-46', '150-1', '150-2', '150-3', '150-4', '150-5', '150-6', '150-7', '153-11', '153-12', '153-13', '153-14', '153-15', '153-16', '153-17', '153-18', '167-1', '167-2', '167-3', '167-4', '167-5', '167-6', '167-7', '167-8', '167-9', '167-10', '167-11', '167-12', '167-13', '167-14', '173-47', '173-48', '173-64', '173-76', '173-77', '173-78', '173-79', '175-190', '175-191', '175-192', '175-193', '175-194', '175-195', '175-196', '175-197', '175-198', '175-199', '175-200', '175-244', '175-258', '175-259', '175-260', '175-261', '175-262', '175-265', '176-18', '176-19', '176-20', '176-21', '176-22', '176-23', '176-24', '176-25', '176-26', '180-120', '180-121', '180-122', '180-123', '180-124', '180-125', '180-126', '180-127', '180-128', '180-129', '180-135', '180-136', '180-137', '180-138', '180-139', '180-140', '180-141', '180-142', '182-1', '182-2', '182-3', '182-4', '182-5', '182-9', '182-10', '182-11', '182-12', '182-13', '182-14', '182-15', '184-90', '184-91', '191-20', '191-21', '193-1', '193-2', '193-3', '193-4', '193-5', '193-6', '193-7', '193-8', '193-9', '193-10', '193-11', '193-12', '193-13', '193-14', '193-15', '201-74', '201-75', '201-76', '201-77', '201-78', '233-20', '235-33', '273-70', '282-7', '282-8', '282-9', '282-10', '288-71', '288-72', '288-73', '288-74', '288-75', '288-76', '288-77', '291-10', '291-11', '291-12', '291-13', '291-14', '291-15', '291-16', '291-17', '291-18', '292-7', '292-8', '292-9', '292-10', '292-11', '295-13', '295-14', '295-15', '295-16', '295-17', '295-18', '295-19', '295-20', '295-22', '295-23', '295-24', '295-25', '295-26', '295-27', '295-28', '295-29', '295-30', '295-31', '295-32', '295-33', '295-34', '295-35', '295-36', '295-37', '295-38', '295-39', '296-17', '296-18', '296-19', '296-20', '296-21', '296-22', '296-23', '296-24', '296-25', '296-26', '302-18', '302-19', '302-20', '302-21', '302-22', '302-23', '302-24', '302-25', '302-26', '302-27', '302-28', '302-29', '302-30', '302-31', '302-32', '303-58', '303-59', '303-64', '303-65', '303-66', '303-67', '303-68', '303-69', '303-70', '303-71', '303-72', '303-73', '303-74', '303-75', '303-76', '303-77', '303-78', '303-79', '303-80', '303-81', '303-93', '306-274', '306-275', '306-276', '306-277', '306-278', '306-279', '306-280', '306-281', '306-282', '307-98', '309-97', '311-1', '311-2', '311-3', '311-4', '311-5', '311-6', '311-7', '311-8', '311-9', '311-10', '311-19', '311-20', '311-22', '311-24', '311-25', '311-26', '313-5', '313-15', '313-46', '317-67', '317-69', '317-70', '317-71', '317-72', '321-243', '321-244', '321-245', '321-246', '321-247', '321-248', '321-249', '321-250', '321-251', '321-252', '321-253', '321-254', '321-255', '321-256', '321-257', '333-2', '333-3', '333-4', '333-5', '333-6', '333-7', '334-12', '337-27', '349-1', '349-2', '349-3', '349-4', '349-5', '349-6', '349-7', '349-8', '349-9', '349-10', '349-11', '349-12', '349-13', '349-14', '349-15', '349-16', '349-17', '349-18', '349-19', '349-20', '349-21', '349-22', '349-23', '349-24', '349-25', '349-26', '349-27', '349-28', '358-31', '358-33', '367-7', '367-8', '367-9', '367-10', '367-11', '367-12', '367-13', '367-14', '367-15', '367-16', '367-17', '367-18', '367-19', '367-20', '367-21', '367-22', '369-17', '369-18', '369-19', '369-20', '369-21', '369-22', '369-23', '369-24', '369-25', '369-26', '369-27', '369-28', '369-29', '369-30', '369-31', '369-32', '386-23', '386-24', '386-25', '386-26', '386-27', '386-28', '386-29', '386-30', '386-31', '386-32', '386-33', '386-34', '386-35', '386-36', '386-37', '386-41', '386-42', '386-43', '386-44', '386-45', '386-46', '386-47', '386-48', '407-35', '407-36', '407-37', '407-38', '407-39', '407-40', '407-41', '407-42', '407-43', '418-1', '418-2', '418-3', '418-4', '418-5', '418-6', '418-7', '418-8', '419-1', '419-2', '419-3', '419-4', '419-5', '419-6', '419-7', '419-8', '419-9', '419-10', '419-11', '419-12', '419-13', '419-14', '419-15', '419-16', '428-1', '428-2', '428-3', '428-4', '428-5', '447-1', '447-2', '447-3', '447-4', '447-5', '447-6', '447-7', '447-8', '447-9', '447-10', '447-11', '447-12', '447-13', '447-14', '447-15', '447-16', '447-17', '447-18', '447-19', '447-20', '447-21', '447-22', '447-23', '471-14', '471-15', '471-16', '471-17', '471-18', '471-19', '471-20', '471-21', '471-22', '471-23', '473-16', '473-17', '477-1', '477-2', '477-3', '477-4', '477-5', '477-6', '477-7', '477-8', '477-9', '477-10', '477-11', '477-12', '477-13', '477-14', '477-15', '479-11', '492-46', '492-47', '492-48', '492-49', '492-50', '492-51', '492-52', '492-53', '492-54', '492-55', '492-56', '492-57', '492-58', '492-59', '494-15', '496-13', '496-14', '496-15', '496-16', '496-17', '496-18', '496-19', '496-20', '496-21', '496-22', '496-23', '496-24', '496-25', '496-26', '496-27', '496-28', '496-29', '496-30', '512-70', '512-71', '512-72', '512-73', '512-74', '512-75', '512-76', '512-77', '512-78', '512-98', '512-99', '512-100', '512-101', '512-102', '512-103', '512-104', '513-70', '513-71', '518-48', '518-49', '518-50', '518-51', '518-52', '518-53', '518-54', '518-55', '518-56', '518-57', '518-58', '518-59', '518-60', '518-61', '518-67', '518-68', '518-69', '518-70', '518-71', '518-72', '518-73', '518-74', '537-92', '541-59', '541-60', '553-124', '553-125', '553-126', '553-127', '553-128', '575-1', '575-2', '575-3', '575-4', '575-5', '575-6', '575-7', '575-8', '575-9', '575-10', '575-11', '575-12', '575-13', '575-14', '575-15', '575-28', '575-29', '575-30']\n"
          ],
          "name": "stdout"
        }
      ]
    },
    {
      "cell_type": "code",
      "metadata": {
        "id": "9MqCTFZk-1ip"
      },
      "source": [
        "with open(\"/content/ready_brian61907.tsv\",\"r\") as f:\n",
        "  with open(\"/content/ready_brian61907_diff_merge - relax.tsv\",\"r\") as f1:\n",
        "    with open(\"/content/ready_brian61907_diff_merge_relax_new.tsv\",\"w\") as wf:\n",
        "      text = f.readlines()\n",
        "      text1 = f1.readlines()\n",
        "      for line in text:\n",
        "        if(str(line).startswith(\"#Text=\")==0 and line!=\"\\n\"):\n",
        "          line = line.strip(\"\\n\").split(\"\\t\")\n",
        "          if(line[0] in id_1):\n",
        "            f1.seek(0)\n",
        "            for line1 in text1:\n",
        "              new_line1 = line1.strip(\"\\n\").split(\"\\t\")\n",
        "              if(line[0]==new_line1[0]):\n",
        "                #print(line1)\n",
        "                wf.write(line1)\n",
        "\n",
        "        else:\n",
        "          wf.write(line)\n"
      ],
      "execution_count": null,
      "outputs": []
    },
    {
      "cell_type": "code",
      "metadata": {
        "id": "URCYlS-xCB9X"
      },
      "source": [
        "with open(\"/content/ready_brian61907_diff_merge_relax_new.tsv\",\"r\") as f:\n",
        "  with open(\"/content/ready_brian61907_diff_merge_relax_use.tsv\",\"w\") as wf:\n",
        "    text = f.readlines()\n",
        "    text_list = []\n",
        "    for i in range(len(text)-1):\n",
        "      line = text[i]\n",
        "      next_line = text[i+1]\n",
        "      if(str(line).startswith(\"#Text=\") and str(next_line).startswith(\"#Text=\")):\n",
        "        text_list.append(line)\n",
        "      elif(str(line).startswith(\"#Text=\") and next_line==\"\\n\"):\n",
        "        text_list = []\n",
        "      elif(str(line).startswith(\"#Text=\") and next_line!=\"\\n\" and str(next_line).startswith(\"#Text=\")==0):\n",
        "        text_list.append(line)\n",
        "        wf.write(\"\\n\")\n",
        "        for s in text_list:\n",
        "          wf.write(s)\n",
        "        text_list = []\n",
        "      elif(str(line).startswith(\"#Text=\")==0 and line!=\"\\n\"):\n",
        "        wf.write(line)\n"
      ],
      "execution_count": null,
      "outputs": []
    },
    {
      "cell_type": "code",
      "metadata": {
        "id": "uS56GKH3N9tB"
      },
      "source": [
        "import csv\n",
        "with open(\"/content/converted_Johndough1066_2.tsv\",\"r\") as f:\n",
        "  with open(\"/content/converted_Johndough1066_2.csv\",\"w\") as wf:\n",
        "    writer = csv.writer(wf,delimiter=',')\n",
        "    text = f.readlines()\n",
        "    for line in text:\n",
        "      if(str(line).startswith(\"#Text=\")==0 and line!=\"\\n\"):\n",
        "        new_line = line.strip(\"\\n\").split(\"\\t\")\n",
        "        #new_line = line.replace(\"\\t\",\" \")\n",
        "        writer.writerow([new_line[0],new_line[1],new_line[2],new_line[3],new_line[4]])\n",
        "        print(line)\n",
        "        #writer.writerow(line.strip(\"\\n\"))\n",
        "      elif(str(line).startswith(\"#Text=\") and line!=\"\\n\"):\n",
        "        writer.writerow([line.strip(\"\\n\"),\"\",\"\",\"\",\"\",\"\",\"\"])\n",
        "      else:\n",
        "        writer.writerow(line.strip(\"\\n\"))\n"
      ],
      "execution_count": null,
      "outputs": []
    },
    {
      "cell_type": "markdown",
      "metadata": {
        "id": "-j4yfPuWN6Qd"
      },
      "source": [
        "那些很不一样的"
      ]
    },
    {
      "cell_type": "code",
      "metadata": {
        "id": "rCIDZKZ0N8Po"
      },
      "source": [
        "import pandas as pd\n",
        "import csv\n",
        "\n",
        "id1 = set()\n",
        "num_list = {}\n",
        "num = 1\n",
        "count = 1\n",
        "with open(\"/content/ready_Prodigalson27-2_new.tsv\",\"r\") as f1:\n",
        "    #text1 = csv.reader(f1)\n",
        "    text1 = f1.readlines()\n",
        "    for line in text1:\n",
        "      if(str(line).startswith(\"#\")==0 and line!=\"\\n\"):\n",
        "        end = str(line).find(\"-\")\n",
        "        #print(str(line)[:end])\n",
        "        new_num = str(line)[:end]\n",
        "        if(new_num!=num):\n",
        "          num_list[num]=count\n",
        "          num=new_num\n",
        "          count = 1\n",
        "        else:\n",
        "          count += 1\n",
        "\n",
        "        \"\"\"id1.add(str(line)[2:end])\n",
        "        line = line.strip(\"\\n\").split(\"\\t\")\n",
        "        print(line[0])\n",
        "        id_1.append(line[0])\"\"\"\n"
      ],
      "execution_count": null,
      "outputs": []
    },
    {
      "cell_type": "code",
      "metadata": {
        "colab": {
          "base_uri": "https://localhost:8080/"
        },
        "id": "1-FLhxRGR55U",
        "outputId": "dfa502de-c0b5-4e09-cfed-caa80a02c98f"
      },
      "source": [
        "print(num_list)"
      ],
      "execution_count": null,
      "outputs": [
        {
          "output_type": "stream",
          "text": [
            "{1: 1, '1': 77, '2': 15, '3': 11, '4': 36, '5': 19, '6': 10, '7': 1, '8': 69, '9': 31, '10': 9, '11': 19, '12': 14, '13': 17, '14': 16, '15': 9, '16': 1, '17': 72, '18': 16, '19': 16, '20': 25, '21': 1, '22': 72, '23': 24, '24': 18, '25': 13, '26': 95, '27': 17, '28': 1, '29': 67, '30': 14, '31': 18, '32': 17, '33': 1, '34': 68, '35': 20, '36': 10, '37': 4, '38': 3, '39': 12, '40': 1, '41': 60, '42': 19, '43': 122, '44': 36, '45': 1, '46': 15, '47': 51, '48': 8, '49': 14, '50': 18, '51': 11, '52': 9, '53': 1, '54': 84, '55': 61, '56': 17, '57': 7, '58': 14, '59': 26, '60': 16, '61': 1, '62': 76, '63': 12, '64': 23, '65': 23, '66': 81, '67': 15, '68': 79, '69': 7, '70': 16, '71': 17, '72': 4, '73': 14, '74': 5, '75': 1, '76': 60, '77': 7, '78': 16, '79': 17, '80': 4, '81': 14, '82': 5, '83': 1, '84': 74, '85': 9, '86': 10, '87': 14, '88': 10, '89': 7, '90': 35, '91': 5, '92': 4, '93': 1, '94': 65, '95': 19, '96': 22, '97': 23, '98': 11, '99': 1, '100': 73, '101': 10, '102': 1, '103': 65, '104': 15, '105': 15, '106': 8, '107': 1, '108': 64, '109': 18, '110': 57, '111': 9, '112': 12, '113': 1, '114': 64, '115': 14, '116': 15, '117': 24, '118': 21, '119': 8, '120': 29, '121': 1, '122': 59, '123': 6, '124': 8, '125': 15, '126': 52, '127': 6, '128': 14, '129': 87, '130': 1, '131': 72, '132': 1, '133': 68, '134': 10, '135': 15, '136': 13, '137': 9, '138': 12, '139': 10, '140': 1, '141': 69, '142': 21, '143': 6, '144': 11, '145': 31, '146': 19, '147': 25, '148': 1, '149': 148, '150': 36, '151': 47, '152': 7, '153': 14, '154': 15, '155': 9, '156': 18, '157': 16, '158': 7, '159': 21, '160': 1, '161': 67, '162': 14, '163': 10, '164': 1, '165': 26, '166': 74, '167': 25, '168': 81, '169': 1, '170': 11, '171': 7, '172': 74, '173': 15, '174': 82, '175': 67, '176': 15, '177': 50, '178': 18, '179': 1, '180': 86, '181': 15, '182': 8, '183': 1, '184': 9, '185': 55, '186': 1, '187': 9, '188': 56, '189': 59, '190': 55, '191': 10, '192': 8, '193': 95, '194': 25, '195': 68, '196': 1, '197': 95, '198': 22, '199': 14, '200': 9, '201': 12, '202': 25, '203': 13, '204': 13, '205': 1, '206': 69, '207': 89, '208': 15, '209': 10, '210': 1, '211': 81, '212': 44, '213': 8, '214': 11, '215': 32, '216': 19, '217': 1, '218': 66, '219': 13, '220': 12, '221': 27, '222': 8, '223': 21, '224': 11, '225': 8, '226': 70, '227': 11, '228': 4, '229': 10, '230': 1, '231': 63, '232': 16, '233': 15, '234': 6, '235': 6, '236': 1, '237': 61, '238': 15, '239': 26, '240': 1, '241': 35, '242': 62, '243': 17, '244': 1, '245': 71, '246': 66, '247': 139, '248': 18, '249': 73, '250': 121, '251': 4, '252': 11, '253': 22, '254': 1, '255': 66, '256': 14, '257': 20, '258': 68, '259': 56, '260': 12, '261': 17, '262': 84, '263': 7, '264': 42, '265': 66, '266': 16, '267': 1, '268': 10, '269': 78, '270': 76, '271': 122, '272': 19, '273': 22, '274': 66, '275': 17, '276': 20, '277': 59, '278': 87, '279': 19, '280': 1, '281': 196, '282': 16, '283': 13, '284': 12, '285': 18, '286': 9, '287': 1, '288': 71, '289': 77, '290': 7, '291': 10, '292': 195, '293': 84, '294': 18, '296': 33, '297': 54, '298': 30, '299': 28, '300': 1, '301': 75, '302': 68, '303': 15, '304': 17, '305': 15, '306': 25, '307': 1, '308': 18, '309': 65, '310': 12, '311': 8, '312': 7, '313': 25, '314': 14, '315': 11, '319': 15, '320': 59, '321': 19, '322': 14, '323': 12, '324': 1, '325': 15, '326': 67, '327': 14, '328': 10, '329': 12, '330': 13, '331': 1, '332': 15, '333': 55, '334': 11, '335': 24, '336': 1, '337': 15, '338': 83, '339': 54, '340': 10, '341': 11, '342': 30, '343': 62, '344': 15, '345': 24, '346': 16, '347': 22, '348': 25, '349': 1, '350': 61, '351': 6, '352': 7, '353': 1, '354': 18, '355': 74, '356': 52, '357': 18, '358': 1, '359': 11, '360': 68, '361': 55, '362': 23, '363': 5, '364': 16, '365': 7, '366': 1, '367': 85, '368': 31, '369': 33, '370': 16, '371': 6, '372': 32, '373': 61, '374': 120, '375': 71, '376': 22, '377': 26, '378': 68, '379': 21, '380': 1, '381': 14, '382': 61, '383': 115, '384': 11, '385': 12, '386': 1, '387': 56, '388': 12, '389': 14, '390': 12, '391': 17, '392': 20, '393': 30, '394': 6, '395': 12, '396': 7, '397': 1, '398': 158, '399': 14, '400': 1, '401': 76, '402': 84, '403': 35, '404': 68, '405': 11, '406': 19, '407': 1, '408': 16, '409': 59, '410': 10, '411': 13, '412': 15, '413': 9, '414': 18, '415': 16, '416': 22, '417': 1, '418': 16, '419': 53, '420': 23, '421': 1, '422': 16, '423': 54, '424': 9, '425': 13, '426': 14, '427': 1, '428': 16, '429': 128, '430': 141, '431': 9, '432': 19, '433': 13, '434': 9, '435': 202, '436': 10, '437': 61, '438': 22, '439': 14, '440': 23, '441': 13, '442': 48, '443': 54, '444': 17, '445': 11, '446': 17, '447': 1, '448': 202, '449': 21, '450': 35, '451': 1, '452': 73, '453': 1, '454': 17, '455': 130, '456': 38, '457': 77, '458': 18, '459': 21, '460': 1, '461': 165, '462': 66, '463': 17, '464': 5, '465': 6, '466': 11, '467': 6, '468': 5, '469': 1, '470': 134, '471': 93, '472': 18, '473': 42, '474': 1, '475': 66, '476': 14, '477': 1, '478': 143, '479': 22, '480': 1, '481': 145, '482': 86, '483': 87, '484': 35, '485': 49, '486': 11, '487': 11, '488': 10, '489': 11, '490': 5, '491': 1, '492': 13, '493': 63, '494': 4, '495': 5, '496': 54, '497': 1, '498': 88, '499': 1, '500': 123, '501': 187, '502': 79, '503': 10, '504': 8, '505': 9, '506': 6, '507': 14, '508': 13, '509': 11, '510': 77, '511': 25, '512': 4, '513': 1, '514': 65, '515': 23, '516': 76, '517': 58, '518': 15, '519': 25, '520': 14, '521': 5, '522': 1, '523': 14, '524': 61, '525': 9, '526': 1, '527': 69, '528': 1, '529': 69, '530': 11, '531': 6, '532': 8, '533': 1, '534': 75, '535': 15, '536': 7, '537': 7, '538': 6, '539': 14, '540': 11, '541': 17, '542': 9, '543': 4, '544': 1, '545': 72, '546': 8, '547': 15, '548': 6, '549': 1, '550': 227, '551': 56, '552': 24, '553': 18, '554': 1, '555': 62, '556': 20, '557': 20, '558': 16, '559': 1, '560': 13, '561': 167, '562': 5, '563': 1, '564': 90, '565': 11, '566': 10, '567': 14, '568': 234, '569': 14, '570': 11, '571': 21, '572': 25, '573': 1, '574': 14, '575': 9, '576': 62, '577': 9, '578': 75, '579': 9, '580': 128, '581': 21, '582': 15, '583': 18, '584': 20, '585': 13, '586': 15, '587': 1, '588': 13, '589': 48, '590': 111, '591': 8, '592': 52, '593': 14, '594': 1, '595': 30, '596': 8, '597': 49, '598': 13, '599': 20, '600': 7, '601': 16, '602': 1, '603': 69, '604': 19, '605': 9, '606': 6, '607': 15, '608': 25, '609': 1, '610': 81, '611': 19, '612': 12, '613': 1, '614': 127, '615': 15, '616': 5, '617': 33, '618': 10, '619': 1, '620': 65, '621': 18, '622': 12, '623': 1, '624': 16, '625': 55, '626': 14, '627': 15, '628': 30, '629': 9, '630': 10, '631': 13, '632': 14, '633': 22, '634': 1, '635': 16, '636': 51, '637': 8, '638': 3, '639': 14, '640': 1, '641': 22, '642': 57, '643': 73, '644': 11, '645': 14, '646': 14, '647': 8, '648': 16, '649': 16, '650': 5, '651': 6, '652': 4, '653': 14, '654': 23, '655': 13, '656': 11, '657': 5, '658': 1, '659': 18, '660': 82, '661': 64, '662': 17, '663': 9, '664': 11, '665': 7, '666': 8, '667': 9, '668': 11, '669': 17, '670': 12, '671': 12, '672': 1, '673': 27, '674': 57, '675': 7, '676': 23, '677': 9, '678': 31, '679': 17, '680': 16, '681': 11, '682': 22, '683': 1, '684': 10, '685': 9, '686': 29, '687': 125, '688': 69, '689': 72, '690': 11, '691': 36, '692': 18, '693': 25, '694': 23, '695': 8, '696': 21, '697': 17, '698': 6, '699': 19, '700': 1, '701': 12, '702': 67, '703': 1, '704': 62, '705': 9, '706': 19, '707': 25, '708': 18, '709': 12, '710': 1, '711': 62, '712': 9, '713': 16, '714': 1, '715': 68, '716': 15, '717': 13, '718': 12, '719': 1, '720': 74, '721': 16, '722': 8, '723': 1, '724': 81, '725': 17, '726': 51, '727': 27, '728': 15, '729': 109, '730': 1, '731': 11, '732': 60, '733': 11, '734': 15, '735': 12, '736': 10, '737': 23, '738': 17, '739': 20, '740': 1, '741': 22, '742': 19, '743': 57, '744': 67, '745': 22, '746': 8, '747': 14, '748': 12, '749': 8, '750': 19, '751': 26, '752': 1, '753': 77, '754': 14, '755': 6, '756': 13, '757': 15, '758': 15, '759': 9, '760': 10, '761': 21, '762': 7, '763': 25, '764': 1, '765': 84, '766': 13, '767': 33, '768': 8, '769': 48, '770': 11, '771': 11, '772': 1, '773': 17, '774': 142, '775': 6, '776': 66, '777': 30, '778': 57, '779': 74, '780': 14, '781': 17, '782': 41, '783': 13, '784': 7, '785': 1, '786': 73, '787': 21, '788': 1, '789': 67, '790': 14, '791': 12, '792': 7, '793': 1, '794': 66, '795': 17, '796': 1, '797': 69, '798': 10, '799': 4, '800': 1, '801': 67, '802': 1, '803': 68, '804': 14, '805': 12, '806': 16, '807': 90, '808': 60, '809': 19, '810': 31, '811': 13, '812': 10, '813': 32, '814': 24, '815': 1, '816': 12, '817': 66, '818': 66, '819': 61, '820': 77, '821': 28, '822': 28, '823': 1, '824': 68, '825': 12, '826': 1, '827': 12, '828': 50, '829': 21, '830': 66, '831': 20, '832': 5, '833': 111, '834': 57, '835': 11, '836': 23, '837': 28, '838': 11, '839': 78, '840': 134, '841': 5, '842': 1, '843': 73, '844': 85, '845': 12, '846': 6, '847': 12, '848': 15, '849': 6, '850': 1, '851': 12, '852': 64, '853': 24, '854': 73, '855': 6, '856': 8, '857': 20, '858': 6, '859': 98, '860': 25, '861': 13, '862': 19, '863': 6, '864': 1, '865': 13, '866': 55, '867': 6, '868': 92, '869': 15, '870': 34, '871': 27, '872': 23, '873': 27, '874': 15, '875': 33, '876': 1, '877': 67, '878': 4, '879': 10, '880': 30, '881': 22, '882': 10, '883': 4, '884': 1, '885': 62, '886': 81, '887': 19, '888': 1, '889': 74, '890': 13, '891': 27, '892': 33, '893': 7, '894': 16, '895': 13, '896': 13, '897': 15, '898': 12, '899': 1, '900': 97, '901': 1, '902': 70, '903': 17, '904': 49, '905': 23, '906': 1, '907': 30, '908': 79, '909': 71, '910': 8, '911': 11, '912': 9, '913': 8, '914': 1, '915': 28, '916': 55, '917': 35, '918': 12, '919': 22, '920': 28, '921': 53, '922': 17, '923': 14, '924': 10, '925': 9, '926': 18, '927': 18, '928': 1, '929': 28, '930': 63, '931': 11, '932': 33, '933': 23, '934': 16, '935': 15, '936': 1, '937': 28, '938': 67, '939': 11, '940': 14, '941': 19, '942': 1, '943': 28, '944': 66, '945': 10, '946': 4, '947': 7, '948': 6, '949': 7, '950': 5, '951': 15, '952': 12, '953': 21, '954': 88, '955': 55, '956': 1, '957': 15, '958': 12, '959': 60, '960': 10, '961': 18, '962': 28, '963': 25, '964': 15, '965': 13, '966': 11, '967': 8, '968': 21, '969': 10, '970': 7, '971': 12, '972': 1, '973': 15, '974': 12, '975': 60, '976': 10, '977': 18, '978': 28, '979': 25, '980': 15, '981': 13, '982': 11, '983': 8, '984': 21, '985': 10, '986': 7, '987': 12, '988': 1, '989': 65, '990': 10, '991': 19, '992': 5, '993': 11, '994': 1, '995': 66, '996': 24, '997': 10, '998': 17, '999': 1, '1000': 138, '1001': 16, '1002': 88, '1003': 18, '1004': 10, '1005': 1, '1006': 16, '1007': 67, '1008': 54, '1009': 28, '1010': 51, '1011': 18, '1012': 19, '1013': 15, '1014': 7, '1015': 9, '1016': 1, '1017': 15, '1018': 54, '1019': 15, '1020': 9, '1021': 18, '1022': 1, '1023': 15, '1024': 56, '1025': 9, '1026': 1, '1027': 70, '1028': 15, '1029': 27, '1030': 68, '1031': 62, '1032': 1, '1033': 12, '1034': 5, '1035': 63, '1036': 48, '1037': 5, '1038': 56, '1039': 17, '1040': 25, '1041': 10, '1042': 1, '1043': 70, '1044': 6, '1045': 17, '1046': 1, '1047': 12, '1048': 5, '1049': 58, '1050': 22, '1051': 51, '1052': 1, '1053': 18, '1054': 54, '1055': 12, '1056': 10, '1057': 46, '1058': 199, '1059': 62, '1060': 5, '1061': 64, '1062': 73, '1063': 11, '1064': 20, '1065': 20, '1066': 71, '1067': 24, '1068': 11, '1069': 1, '1070': 141, '1071': 64, '1072': 14, '1073': 12, '1074': 1, '1075': 11, '1076': 73, '1077': 76, '1078': 1, '1079': 12, '1080': 72, '1081': 27, '1082': 16, '1083': 11, '1084': 1, '1085': 12, '1086': 63, '1087': 23, '1088': 16, '1089': 8, '1090': 1, '1091': 12, '1092': 71, '1093': 16, '1094': 18, '1095': 10, '1096': 6, '1097': 1, '1098': 12, '1099': 79, '1100': 13, '1101': 17, '1102': 26, '1103': 15, '1104': 18, '1105': 20, '1106': 1, '1107': 12, '1108': 88, '1109': 74, '1110': 83, '1111': 75, '1112': 20, '1113': 62, '1114': 14, '1115': 19, '1116': 6, '1117': 5, '1118': 9, '1119': 23, '1120': 67, '1121': 5, '1122': 11, '1123': 27, '1124': 24, '1125': 8, '1126': 28, '1127': 21, '1128': 70, '1129': 36, '1130': 67, '1131': 12, '1132': 7, '1133': 10, '1134': 24, '1135': 15, '1136': 12, '1137': 31, '1138': 24, '1139': 10, '1140': 1, '1141': 132, '1142': 68, '1143': 9, '1144': 8, '1145': 14, '1146': 1, '1147': 57, '1148': 14, '1149': 41, '1150': 16, '1151': 2, '1152': 1, '1153': 59, '1154': 7, '1155': 20, '1156': 15, '1157': 12, '1158': 1, '1159': 14, '1160': 59, '1161': 22, '1162': 28, '1163': 1, '1164': 14, '1165': 58, '1166': 19, '1167': 70, '1168': 49, '1169': 10, '1170': 18, '1171': 1, '1172': 15, '1173': 67, '1174': 11, '1175': 12, '1176': 1, '1177': 79, '1178': 16, '1179': 5, '1180': 25, '1181': 16, '1182': 1, '1183': 67, '1184': 26, '1185': 1, '1186': 78, '1187': 68, '1188': 9, '1189': 8, '1190': 12, '1191': 20, '1192': 14, '1193': 16, '1194': 26, '1195': 5, '1196': 1, '1197': 10, '1198': 61, '1199': 15, '1200': 9, '1201': 1, '1202': 10, '1203': 62, '1204': 19, '1205': 59, '1206': 11, '1207': 17, '1208': 78, '1209': 24, '1210': 65, '1211': 79, '1212': 13, '1213': 17, '1214': 25, '1215': 8, '1216': 13, '1217': 1, '1218': 58, '1219': 35, '1220': 49, '1221': 7, '1222': 19, '1223': 49, '1224': 16, '1225': 22, '1226': 13, '1227': 92, '1228': 10, '1229': 18, '1230': 37, '1231': 19, '1232': 68, '1233': 11, '1234': 1, '1235': 61, '1236': 11, '1237': 1, '1238': 78, '1239': 16, '1240': 24, '1241': 1, '1242': 58, '1243': 22, '1244': 48, '1245': 18, '1246': 1, '1247': 13, '1248': 60, '1249': 21, '1250': 19, '1251': 18, '1252': 11, '1253': 41, '1254': 1, '1255': 11, '1256': 53, '1257': 16, '1258': 16, '1259': 13, '1260': 25, '1261': 7, '1262': 1, '1263': 11, '1264': 60, '1265': 22, '1266': 15, '1267': 35, '1268': 68, '1269': 21, '1270': 34, '1271': 54, '1272': 22, '1273': 17, '1274': 26, '1275': 15, '1276': 16, '1277': 1, '1278': 11, '1279': 55, '1280': 14, '1281': 19, '1282': 1, '1283': 74, '1284': 16, '1285': 18, '1286': 1, '1287': 144, '1288': 25, '1289': 22, '1290': 15, '1291': 18, '1292': 1, '1293': 60, '1294': 52, '1295': 2, '1296': 98, '1297': 2, '1298': 67, '1299': 35, '1300': 2, '1301': 77, '1302': 104, '1303': 9, '1304': 122, '1305': 57, '1306': 11, '1307': 14, '1308': 16, '1309': 1, '1310': 13, '1311': 70, '1312': 20, '1313': 25, '1314': 1, '1315': 17, '1316': 60, '1317': 23, '1318': 22, '1319': 11, '1320': 28, '1321': 17, '1322': 1, '1323': 17, '1324': 50, '1325': 23, '1326': 71, '1327': 215, '1328': 18, '1329': 1, '1330': 11, '1331': 79, '1332': 1, '1333': 73, '1334': 1, '1335': 60, '1336': 8, '1337': 45, '1338': 59, '1339': 60, '1340': 9, '1341': 4, '1342': 78, '1343': 18, '1344': 14, '1345': 8, '1346': 6, '1347': 26, '1348': 16, '1349': 14, '1350': 156, '1351': 79, '1352': 9, '1353': 27, '1354': 11, '1355': 28, '1356': 1, '1357': 64, '1358': 76, '1359': 84, '1360': 13, '1361': 12, '1362': 8, '1363': 1, '1364': 75, '1365': 10, '1366': 26, '1367': 17, '1368': 84, '1369': 1, '1370': 14, '1371': 110, '1372': 13, '1373': 11, '1374': 1, '1375': 57, '1376': 65, '1377': 54, '1378': 15, '1379': 1, '1380': 78, '1381': 20, '1382': 13, '1383': 12, '1384': 1, '1385': 59, '1386': 9, '1387': 11, '1388': 18, '1389': 69, '1390': 9, '1391': 11, '1392': 18, '1393': 69, '1394': 9, '1395': 11, '1396': 18, '1397': 91, '1398': 25, '1399': 35, '1400': 1, '1401': 75, '1402': 28, '1403': 34, '1404': 20, '1405': 86, '1406': 18, '1407': 22, '1408': 1, '1409': 82, '1410': 15, '1411': 80, '1412': 77, '1413': 9, '1414': 17, '1415': 1, '1416': 10, '1417': 60, '1418': 1, '1419': 18, '1420': 53, '1421': 13, '1422': 1, '1423': 20, '1424': 53, '1425': 11, '1426': 1, '1427': 16, '1428': 53, '1429': 9, '1430': 9, '1431': 4, '1432': 1, '1433': 65, '1434': 14, '1435': 8, '1436': 16, '1437': 1, '1438': 22, '1439': 51, '1440': 25, '1441': 10, '1442': 50, '1443': 9, '1444': 43, '1445': 10, '1446': 58, '1447': 10, '1448': 10, '1449': 7, '1450': 16, '1451': 1, '1452': 16, '1453': 53, '1454': 16, '1455': 14, '1456': 8, '1457': 1, '1458': 134, '1459': 13, '1460': 24, '1461': 21, '1462': 8, '1463': 1, '1464': 13, '1465': 59, '1466': 15, '1467': 6, '1468': 6, '1469': 24, '1470': 1, '1471': 79, '1472': 12, '1473': 13, '1474': 18, '1475': 10, '1476': 12, '1477': 1, '1478': 16, '1479': 63, '1480': 6, '1481': 10, '1482': 7, '1483': 19, '1484': 1, '1485': 8, '1486': 58, '1487': 13, '1488': 18, '1489': 1}\n"
          ],
          "name": "stdout"
        }
      ]
    },
    {
      "cell_type": "code",
      "metadata": {
        "id": "rmfvD2eqShCf"
      },
      "source": [
        "num_list1 = num_list"
      ],
      "execution_count": null,
      "outputs": []
    },
    {
      "cell_type": "code",
      "metadata": {
        "colab": {
          "base_uri": "https://localhost:8080/"
        },
        "id": "g_7Ar5a6Sj5l",
        "outputId": "922c5293-f1ac-4030-8b21-c867ca0c138a"
      },
      "source": [
        "print(num_list1)"
      ],
      "execution_count": null,
      "outputs": [
        {
          "output_type": "stream",
          "text": [
            "{1: 1, '1': 77, '2': 15, '3': 11, '4': 36, '5': 19, '6': 10, '7': 1, '8': 69, '9': 31, '10': 9, '11': 19, '12': 14, '13': 17, '14': 16, '15': 9, '16': 1, '17': 72, '18': 16, '19': 16, '20': 25, '21': 1, '22': 72, '23': 24, '24': 18, '25': 13, '26': 95, '27': 17, '28': 1, '29': 67, '30': 14, '31': 18, '32': 17, '33': 1, '34': 68, '35': 20, '36': 10, '37': 4, '38': 3, '39': 12, '40': 1, '41': 60, '42': 19, '43': 122, '44': 36, '45': 1, '46': 15, '47': 51, '48': 8, '49': 14, '50': 18, '51': 11, '52': 9, '53': 1, '54': 84, '55': 61, '56': 17, '57': 7, '58': 14, '59': 26, '60': 16, '61': 1, '62': 76, '63': 12, '64': 23, '65': 23, '66': 81, '67': 15, '68': 79, '69': 7, '70': 16, '71': 17, '72': 4, '73': 14, '74': 5, '75': 1, '76': 60, '77': 7, '78': 16, '79': 17, '80': 4, '81': 14, '82': 5, '83': 1, '84': 74, '85': 9, '86': 10, '87': 14, '88': 10, '89': 7, '90': 35, '91': 5, '92': 4, '93': 1, '94': 65, '95': 19, '96': 22, '97': 23, '98': 11, '99': 1, '100': 73, '101': 10, '102': 1, '103': 65, '104': 15, '105': 15, '106': 8, '107': 1, '108': 64, '109': 18, '110': 57, '111': 9, '112': 12, '113': 1, '114': 64, '115': 14, '116': 15, '117': 24, '118': 21, '119': 8, '120': 29, '121': 1, '122': 59, '123': 6, '124': 8, '125': 15, '126': 52, '127': 6, '128': 14, '129': 87, '130': 1, '131': 72, '132': 1, '133': 68, '134': 10, '135': 15, '136': 13, '137': 9, '138': 12, '139': 10, '140': 1, '141': 69, '142': 21, '143': 6, '144': 11, '145': 31, '146': 19, '147': 25, '148': 1, '149': 148, '150': 36, '151': 47, '152': 7, '153': 14, '154': 15, '155': 9, '156': 18, '157': 16, '158': 7, '159': 21, '160': 1, '161': 67, '162': 14, '163': 10, '164': 1, '165': 26, '166': 74, '167': 25, '168': 81, '169': 1, '170': 11, '171': 7, '172': 74, '173': 15, '174': 82, '175': 67, '176': 15, '177': 50, '178': 18, '179': 1, '180': 86, '181': 15, '182': 8, '183': 1, '184': 9, '185': 55, '186': 1, '187': 9, '188': 56, '189': 59, '190': 55, '191': 10, '192': 8, '193': 95, '194': 25, '195': 68, '196': 1, '197': 95, '198': 22, '199': 14, '200': 9, '201': 12, '202': 25, '203': 13, '204': 13, '205': 1, '206': 69, '207': 89, '208': 15, '209': 10, '210': 1, '211': 81, '212': 44, '213': 8, '214': 11, '215': 32, '216': 19, '217': 1, '218': 66, '219': 13, '220': 12, '221': 27, '222': 8, '223': 21, '224': 11, '225': 8, '226': 70, '227': 11, '228': 4, '229': 10, '230': 1, '231': 63, '232': 16, '233': 15, '234': 6, '235': 6, '236': 1, '237': 61, '238': 15, '239': 26, '240': 1, '241': 35, '242': 62, '243': 17, '244': 1, '245': 71, '246': 66, '247': 139, '248': 18, '249': 73, '250': 121, '251': 4, '252': 11, '253': 22, '254': 1, '255': 66, '256': 14, '257': 20, '258': 68, '259': 56, '260': 12, '261': 17, '262': 84, '263': 7, '264': 42, '265': 66, '266': 16, '267': 1, '268': 10, '269': 78, '270': 76, '271': 122, '272': 19, '273': 22, '274': 66, '275': 17, '276': 20, '277': 59, '278': 87, '279': 19, '280': 1, '281': 196, '282': 16, '283': 13, '284': 12, '285': 18, '286': 9, '287': 1, '288': 71, '289': 77, '290': 7, '291': 10, '292': 195, '293': 84, '294': 18, '296': 33, '297': 54, '298': 30, '299': 28, '300': 1, '301': 75, '302': 68, '303': 15, '304': 17, '305': 15, '306': 25, '307': 1, '308': 18, '309': 65, '310': 12, '311': 8, '312': 7, '313': 25, '314': 14, '315': 11, '319': 15, '320': 59, '321': 19, '322': 14, '323': 12, '324': 1, '325': 15, '326': 67, '327': 14, '328': 10, '329': 12, '330': 13, '331': 1, '332': 15, '333': 55, '334': 11, '335': 24, '336': 1, '337': 15, '338': 83, '339': 54, '340': 10, '341': 11, '342': 30, '343': 62, '344': 15, '345': 24, '346': 16, '347': 22, '348': 25, '349': 1, '350': 61, '351': 6, '352': 7, '353': 1, '354': 18, '355': 74, '356': 52, '357': 18, '358': 1, '359': 11, '360': 68, '361': 55, '362': 23, '363': 5, '364': 16, '365': 7, '366': 1, '367': 85, '368': 31, '369': 33, '370': 16, '371': 6, '372': 32, '373': 61, '374': 120, '375': 71, '376': 22, '377': 26, '378': 68, '379': 21, '380': 1, '381': 14, '382': 61, '383': 115, '384': 11, '385': 12, '386': 1, '387': 56, '388': 12, '389': 14, '390': 12, '391': 17, '392': 20, '393': 30, '394': 6, '395': 12, '396': 7, '397': 1, '398': 158, '399': 14, '400': 1, '401': 76, '402': 84, '403': 35, '404': 68, '405': 11, '406': 19, '407': 1, '408': 16, '409': 59, '410': 10, '411': 13, '412': 15, '413': 9, '414': 18, '415': 16, '416': 22, '417': 1, '418': 16, '419': 53, '420': 23, '421': 1, '422': 16, '423': 54, '424': 9, '425': 13, '426': 14, '427': 1, '428': 16, '429': 128, '430': 141, '431': 9, '432': 19, '433': 13, '434': 9, '435': 202, '436': 10, '437': 61, '438': 22, '439': 14, '440': 23, '441': 13, '442': 48, '443': 54, '444': 17, '445': 11, '446': 17, '447': 1, '448': 202, '449': 21, '450': 35, '451': 1, '452': 73, '453': 1, '454': 17, '455': 130, '456': 38, '457': 78, '458': 18, '459': 22, '460': 12, '461': 12, '462': 14, '463': 11, '464': 21, '465': 24, '466': 11, '467': 1, '468': 67, '469': 66, '470': 17, '471': 5, '472': 6, '473': 11, '474': 6, '475': 5, '476': 1, '477': 134, '478': 93, '479': 18, '480': 42, '481': 1, '482': 66, '483': 14, '484': 1, '485': 143, '486': 22, '487': 1, '488': 145, '489': 86, '490': 87, '491': 35, '492': 49, '493': 11, '494': 11, '495': 10, '496': 11, '497': 5, '498': 1, '499': 13, '500': 63, '501': 4, '502': 5, '503': 54, '504': 1, '505': 90, '506': 20, '507': 93, '508': 187, '509': 79, '510': 10, '511': 8, '512': 9, '513': 6, '514': 14, '515': 13, '516': 11, '517': 77, '518': 25, '519': 4, '520': 1, '521': 65, '522': 23, '523': 76, '524': 58, '525': 15, '526': 25, '527': 14, '528': 5, '529': 1, '530': 14, '531': 61, '532': 9, '533': 1, '534': 69, '535': 1, '536': 69, '537': 11, '538': 6, '539': 8, '540': 1, '541': 75, '542': 15, '543': 7, '544': 7, '545': 6, '546': 14, '547': 11, '548': 17, '549': 9, '550': 4, '551': 1, '552': 72, '553': 8, '554': 15, '555': 6, '556': 1, '557': 227, '558': 56, '559': 24, '560': 18, '561': 1, '562': 62, '563': 20, '564': 20, '565': 16, '566': 1, '567': 13, '568': 167, '569': 5, '570': 1, '571': 90, '572': 11, '573': 10, '574': 14, '575': 234, '576': 14, '577': 11, '578': 21, '579': 25, '580': 1, '581': 14, '582': 9, '583': 62, '584': 9, '585': 75, '586': 9, '587': 128, '588': 21, '589': 15, '590': 18, '591': 20, '592': 13, '593': 15, '594': 1, '595': 13, '596': 48, '597': 111, '598': 8, '599': 52, '600': 14, '601': 1, '602': 30, '603': 8, '604': 49, '605': 13, '606': 20, '607': 7, '608': 16, '609': 1, '610': 69, '611': 19, '612': 9, '613': 6, '614': 15, '615': 25, '616': 1, '617': 81, '618': 19, '619': 12, '620': 1, '621': 127, '622': 15, '623': 5, '624': 33, '625': 10, '626': 1, '627': 65, '628': 18, '629': 12, '630': 1, '631': 16, '632': 55, '633': 14, '634': 15, '635': 30, '636': 9, '637': 10, '638': 13, '639': 14, '640': 22, '641': 1, '642': 16, '643': 51, '644': 8, '645': 3, '646': 14, '647': 1, '648': 22, '649': 57, '650': 73, '651': 11, '652': 14, '653': 14, '654': 8, '655': 16, '656': 16, '657': 5, '658': 6, '659': 4, '660': 14, '661': 23, '662': 13, '663': 11, '664': 5, '665': 1, '666': 18, '667': 82, '668': 64, '669': 17, '670': 9, '671': 11, '672': 7, '673': 8, '674': 9, '675': 11, '676': 17, '677': 12, '678': 12, '679': 1, '680': 27, '681': 57, '682': 7, '683': 23, '684': 9, '685': 31, '686': 17, '687': 16, '688': 11, '689': 22, '690': 1, '691': 10, '692': 9, '693': 29, '694': 125, '695': 69, '696': 72, '697': 11, '698': 36, '699': 18, '700': 25, '701': 23, '702': 8, '703': 21, '704': 17, '705': 6, '706': 19, '707': 1, '708': 12, '709': 67, '710': 1, '711': 62, '712': 9, '713': 19, '714': 25, '715': 18, '716': 12, '717': 1, '718': 62, '719': 9, '720': 16, '721': 1, '722': 68, '723': 15, '724': 13, '725': 12, '726': 1, '727': 74, '728': 16, '729': 8, '730': 1, '731': 81, '732': 17, '733': 51, '734': 27, '735': 15, '736': 109, '737': 1, '738': 11, '739': 60, '740': 11, '741': 15, '742': 12, '743': 10, '744': 23, '745': 17, '746': 20, '747': 1, '748': 22, '749': 19, '750': 57, '751': 67, '752': 22, '753': 8, '754': 14, '755': 12, '756': 8, '757': 19, '758': 26, '759': 1, '760': 77, '761': 14, '762': 6, '763': 13, '764': 15, '765': 15, '766': 9, '767': 10, '768': 21, '769': 7, '770': 25, '771': 1, '772': 84, '773': 13, '774': 33, '775': 8, '776': 48, '777': 11, '778': 11, '779': 1, '780': 17, '781': 142, '782': 6, '783': 66, '784': 30, '785': 57, '786': 74, '787': 14, '788': 17, '789': 41, '790': 13, '791': 7, '792': 1, '793': 73, '794': 21, '795': 1, '796': 67, '797': 14, '798': 12, '799': 7, '800': 1, '801': 66, '802': 17, '803': 1, '804': 69, '805': 10, '806': 4, '807': 1, '808': 67, '809': 1, '810': 68, '811': 14, '812': 12, '813': 16, '814': 90, '815': 60, '816': 19, '817': 31, '818': 13, '819': 10, '820': 32, '821': 24, '822': 1, '823': 12, '824': 66, '825': 66, '826': 61, '827': 77, '828': 28, '829': 28, '830': 1, '831': 68, '832': 12, '833': 1, '834': 12, '835': 50, '836': 21, '837': 66, '838': 20, '839': 5, '840': 111, '841': 57, '842': 11, '843': 23, '844': 28, '845': 11, '846': 78, '847': 134, '848': 5, '849': 1, '850': 73, '851': 85, '852': 12, '853': 6, '854': 12, '855': 15, '856': 6, '857': 1, '858': 12, '859': 64, '860': 24, '861': 73, '862': 6, '863': 8, '864': 20, '865': 6, '866': 98, '867': 25, '868': 13, '869': 19, '870': 6, '871': 1, '872': 13, '873': 55, '874': 6, '875': 92, '876': 15, '877': 34, '878': 27, '879': 23, '880': 27, '881': 15, '882': 33, '883': 1, '884': 67, '885': 4, '886': 10, '887': 30, '888': 22, '889': 10, '890': 4, '891': 1, '892': 62, '893': 81, '894': 19, '895': 1, '896': 74, '897': 13, '898': 27, '899': 33, '900': 7, '901': 16, '902': 13, '903': 13, '904': 15, '905': 12, '906': 1, '907': 97, '908': 1, '909': 70, '910': 17, '911': 49, '912': 23, '913': 1, '914': 30, '915': 79, '916': 71, '917': 8, '918': 11, '919': 9, '920': 8, '921': 1, '922': 28, '923': 55, '924': 35, '925': 12, '926': 22, '927': 28, '928': 53, '929': 17, '930': 14, '931': 10, '932': 9, '933': 18, '934': 18, '935': 1, '936': 28, '937': 63, '938': 11, '939': 33, '940': 23, '941': 16, '942': 15, '943': 1, '944': 28, '945': 67, '946': 11, '947': 14, '948': 19, '949': 1, '950': 28, '951': 67, '952': 10, '953': 4, '954': 7, '955': 6, '956': 7, '957': 5, '958': 15, '959': 12, '960': 21, '961': 14, '962': 19, '963': 4, '964': 1, '965': 28, '966': 55, '967': 1, '968': 15, '969': 12, '970': 60, '971': 10, '972': 18, '973': 28, '974': 25, '975': 15, '976': 13, '977': 11, '978': 8, '979': 21, '980': 10, '981': 7, '982': 12, '983': 1, '984': 15, '985': 12, '986': 60, '987': 10, '988': 18, '989': 28, '990': 25, '991': 15, '992': 13, '993': 11, '994': 8, '995': 21, '996': 10, '997': 7, '998': 12, '999': 1, '1000': 65, '1001': 10, '1002': 19, '1003': 5, '1004': 11, '1005': 1, '1006': 66, '1007': 24, '1008': 10, '1009': 17, '1010': 1, '1011': 138, '1012': 16, '1013': 88, '1014': 18, '1015': 10, '1016': 1, '1017': 16, '1018': 67, '1019': 54, '1020': 28, '1021': 51, '1022': 18, '1023': 19, '1024': 15, '1025': 7, '1026': 9, '1027': 1, '1028': 15, '1029': 54, '1030': 15, '1031': 9, '1032': 18, '1033': 1, '1034': 15, '1035': 56, '1036': 9, '1037': 1, '1038': 70, '1039': 15, '1040': 27, '1041': 68, '1042': 62, '1043': 1, '1044': 12, '1045': 5, '1046': 63, '1047': 48, '1048': 5, '1049': 56, '1050': 17, '1051': 25, '1052': 10, '1053': 1, '1054': 70, '1055': 6, '1056': 17, '1057': 1, '1058': 12, '1059': 5, '1060': 58, '1061': 22, '1062': 51, '1063': 1, '1064': 18, '1065': 54, '1066': 12, '1067': 10, '1068': 46, '1069': 199, '1070': 62, '1071': 5, '1072': 64, '1073': 73, '1074': 11, '1075': 20, '1076': 20, '1077': 71, '1078': 24, '1079': 11, '1080': 1, '1081': 141, '1082': 64, '1083': 14, '1084': 12, '1085': 1, '1086': 11, '1087': 73, '1088': 76, '1089': 1, '1090': 12, '1091': 72, '1092': 27, '1093': 16, '1094': 11, '1095': 1, '1096': 12, '1097': 63, '1098': 23, '1099': 16, '1100': 8, '1101': 1, '1102': 12, '1103': 71, '1104': 16, '1105': 18, '1106': 10, '1107': 6, '1108': 1, '1109': 12, '1110': 79, '1111': 13, '1112': 17, '1113': 26, '1114': 15, '1115': 18, '1116': 20, '1117': 1, '1118': 12, '1119': 88, '1120': 74, '1121': 83, '1122': 75, '1123': 20, '1124': 62, '1125': 14, '1126': 19, '1127': 6, '1128': 5, '1129': 9, '1130': 23, '1131': 67, '1132': 5, '1133': 11, '1134': 27, '1135': 24, '1136': 8, '1137': 28, '1138': 21, '1139': 70, '1140': 36, '1141': 67, '1142': 12, '1143': 7, '1144': 10, '1145': 24, '1146': 15, '1147': 12, '1148': 31, '1149': 24, '1150': 10, '1151': 1, '1152': 132, '1153': 68, '1154': 9, '1155': 8, '1156': 14, '1157': 1, '1158': 57, '1159': 14, '1160': 41, '1161': 16, '1162': 2, '1163': 1, '1164': 59, '1165': 7, '1166': 20, '1167': 15, '1168': 12, '1169': 1, '1170': 14, '1171': 59, '1172': 22, '1173': 28, '1174': 1, '1175': 14, '1176': 58, '1177': 19, '1178': 70, '1179': 49, '1180': 10, '1181': 18, '1182': 1, '1183': 15, '1184': 67, '1185': 11, '1186': 12, '1187': 1, '1188': 79, '1189': 16, '1190': 5, '1191': 25, '1192': 16, '1193': 1, '1194': 67, '1195': 26, '1196': 1, '1197': 78, '1198': 68, '1199': 9, '1200': 8, '1201': 12, '1202': 20, '1203': 14, '1204': 16, '1205': 26, '1206': 5, '1207': 1, '1208': 10, '1209': 61, '1210': 15, '1211': 9, '1212': 1, '1213': 10, '1214': 62, '1215': 19, '1216': 59, '1217': 11, '1218': 17, '1219': 78, '1220': 24, '1221': 65, '1222': 79, '1223': 13, '1224': 17, '1225': 25, '1226': 8, '1227': 13, '1228': 1, '1229': 58, '1230': 35, '1231': 49, '1232': 7, '1233': 19, '1234': 49, '1235': 16, '1236': 22, '1237': 13, '1238': 92, '1239': 10, '1240': 18, '1241': 37, '1242': 19, '1243': 68, '1244': 11, '1245': 1, '1246': 61, '1247': 11, '1248': 1, '1249': 78, '1250': 16, '1251': 24, '1252': 1, '1253': 58, '1254': 22, '1255': 48, '1256': 18, '1257': 1, '1258': 13, '1259': 60, '1260': 21, '1261': 19, '1262': 18, '1263': 11, '1264': 41, '1265': 1, '1266': 11, '1267': 53, '1268': 16, '1269': 16, '1270': 13, '1271': 25, '1272': 7, '1273': 1, '1274': 11, '1275': 60, '1276': 22, '1277': 15, '1278': 35, '1279': 68, '1280': 21, '1281': 34, '1282': 54, '1283': 22, '1284': 17, '1285': 26, '1286': 15, '1287': 16, '1288': 1, '1289': 11, '1290': 55, '1291': 14, '1292': 19, '1293': 1, '1294': 74, '1295': 16, '1296': 18, '1297': 1, '1298': 144, '1299': 25, '1300': 22, '1301': 15, '1302': 18, '1303': 1, '1304': 60, '1305': 52, '1306': 2, '1307': 98, '1308': 2, '1309': 67, '1310': 35, '1311': 2, '1312': 77, '1313': 104, '1314': 9, '1315': 122, '1316': 57, '1317': 11, '1318': 14, '1319': 16, '1320': 1, '1321': 13, '1322': 70, '1323': 20, '1324': 25, '1325': 1, '1326': 17, '1327': 60, '1328': 23, '1329': 22, '1330': 11, '1331': 28, '1332': 17, '1333': 1, '1334': 17, '1335': 50, '1336': 23, '1337': 71, '1338': 215, '1339': 18, '1340': 1, '1341': 11, '1342': 79, '1343': 1, '1344': 73, '1345': 1, '1346': 60, '1347': 8, '1348': 45, '1349': 59, '1350': 60, '1351': 9, '1352': 4, '1353': 78, '1354': 18, '1355': 14, '1356': 8, '1357': 6, '1358': 26, '1359': 16, '1360': 14, '1361': 156, '1362': 79, '1363': 9, '1364': 27, '1365': 11, '1366': 28, '1367': 1, '1368': 64, '1369': 76, '1370': 84, '1371': 13, '1372': 12, '1373': 8, '1374': 1, '1375': 75, '1376': 10, '1377': 26, '1378': 17, '1379': 84, '1380': 1, '1381': 14, '1382': 111, '1383': 13, '1384': 11, '1385': 1, '1386': 1, '1387': 8, '1388': 65, '1389': 54, '1390': 15, '1391': 1, '1392': 78, '1393': 20, '1394': 13, '1395': 12, '1396': 1, '1397': 59, '1398': 9, '1399': 11, '1400': 18, '1401': 69, '1402': 9, '1403': 11, '1404': 18, '1405': 69, '1406': 9, '1407': 11, '1408': 18, '1409': 91, '1410': 25, '1411': 35, '1412': 1, '1413': 75, '1414': 28, '1415': 34, '1416': 20, '1417': 86, '1418': 18, '1419': 22, '1420': 1, '1421': 82, '1422': 15, '1423': 80, '1424': 77, '1425': 9, '1426': 17, '1427': 1, '1428': 10, '1429': 60, '1430': 1, '1431': 18, '1432': 53, '1433': 13, '1434': 1, '1435': 20, '1436': 53, '1437': 11, '1438': 1, '1439': 16, '1440': 53, '1441': 9, '1442': 9, '1443': 4, '1444': 1, '1445': 65, '1446': 14, '1447': 8, '1448': 16, '1449': 1, '1450': 22, '1451': 51, '1452': 25, '1453': 10, '1454': 50, '1455': 9, '1456': 43, '1457': 10, '1458': 58, '1459': 10, '1460': 10, '1461': 7, '1462': 16, '1463': 1, '1464': 16, '1465': 53, '1466': 16, '1467': 14, '1468': 8, '1469': 1, '1470': 134, '1471': 13, '1472': 24, '1473': 21, '1474': 8, '1475': 1, '1476': 13, '1477': 59, '1478': 15, '1479': 6, '1480': 6, '1481': 24, '1482': 1, '1483': 79, '1484': 12, '1485': 13, '1486': 18, '1487': 10, '1488': 12, '1489': 1, '1490': 16, '1491': 63, '1492': 6, '1493': 10, '1494': 7, '1495': 19, '1496': 1, '1497': 8, '1498': 58, '1499': 13, '1500': 18, '1501': 1}\n"
          ],
          "name": "stdout"
        }
      ]
    },
    {
      "cell_type": "code",
      "metadata": {
        "id": "WitinDHnS9-e"
      },
      "source": [
        "for key in num_list:\n",
        "  #print(key, num_list[key])\n",
        "  for key1 in num_list1:\n",
        "    if(key==key1 and num_list[key]!=num_list1[key1]):\n",
        "      print(key,num_list[key],num_list1[key1])\n",
        ""
      ],
      "execution_count": null,
      "outputs": []
    },
    {
      "cell_type": "code",
      "metadata": {
        "id": "7sn-y7IUU5b9"
      },
      "source": [
        "import pandas as pd\n",
        "import csv\n",
        "\n",
        "id1 = set()\n",
        "num_list = {}\n",
        "num = 1\n",
        "count = 1\n",
        "with open(\"/content/converted_Prodigalson27-2_new.tsv\",\"r\") as f1:\n",
        "  with open(\"/content/converted_Prodigalson27-2_new1.tsv\",\"w\") as wf:\n",
        "    #text1 = csv.reader(f1)\n",
        "    text1 = f1.readlines()\n",
        "    for line in text1:\n",
        "      if(str(line).startswith(\"#\")==0 and line!=\"\\n\"):\n",
        "        end = str(line).find(\"-\")\n",
        "        new_num = str(line)[:end]\n",
        "        if(int(new_num)>325):\n",
        "          wf.write(str(int(new_num)-7)+str(line)[end:])\n",
        "        else:\n",
        "          wf.write(line)\n",
        "      else:\n",
        "        wf.write(line)"
      ],
      "execution_count": null,
      "outputs": []
    },
    {
      "cell_type": "markdown",
      "metadata": {
        "id": "Q_VQrVGs8Juo"
      },
      "source": [
        "统计词频"
      ]
    },
    {
      "cell_type": "code",
      "metadata": {
        "id": "niLyuwh18KvW"
      },
      "source": [
        "\n",
        "text = \"bupe PAWS from bupe bupe quit bupe and got back back on sublingual bupe back to sublingual bupe Movantik & opioid back to sublingual methadone and off bupe back on bupe sub Movantik off bupe bupe bupe Subutex back on bupe bupe Sublocade Suboxone switched back to Suboxone Sublocade Suboxone sublingually subs subs benzos bupe bupe Suboxone benzos and coke Trintellix subs Sublocade Suboxone bupe Sublocade sublingual bupe bupe bupe Suboxone off Suboxone bupe Sublocade weed subs subs Sublocade and Movantik sublingual bupe methadone benzos medical marijuana Suboxone different opiates Sublocade sub off benzos subs off subs back subs detox subs subs & methadone rehab methadone subs clonodine benzos Xanax & Kpin sublingual sublingual buccal Sublocade Suboxone back subs Sublocade Suboxone Suboxone Vivitrol Suboxone Suboxone Suboxone Subs Subs Suboxone Subs ibuprofen subs Sublocade Suboxone\"\n",
        "\n",
        "text = text.lower()\n",
        "frequency = {}\n",
        "\n",
        "for word in text.split():\n",
        "    if word not in frequency:\n",
        "        frequency[word] = 1\n",
        "    else:\n",
        "        frequency[word] += 1"
      ],
      "execution_count": null,
      "outputs": []
    },
    {
      "cell_type": "code",
      "metadata": {
        "id": "aONX9edQ-Vpw"
      },
      "source": [
        "from operator import itemgetter\n",
        "data_order = sorted(frequency.items(),key=itemgetter(1),reverse=True)"
      ],
      "execution_count": null,
      "outputs": []
    },
    {
      "cell_type": "code",
      "metadata": {
        "colab": {
          "base_uri": "https://localhost:8080/"
        },
        "id": "6dxfcrNz-JdU",
        "outputId": "2abcd57d-5a90-4798-bd1d-1adf83e4a665"
      },
      "source": [
        "print(data_order)"
      ],
      "execution_count": null,
      "outputs": [
        {
          "output_type": "stream",
          "text": [
            "[('bupe', 21), ('suboxone', 16), ('subs', 16), ('sublocade', 10), ('back', 9), ('sublingual', 7), ('off', 5), ('benzos', 5), ('and', 4), ('methadone', 4), ('on', 3), ('to', 3), ('movantik', 3), ('&', 3), ('sub', 2), ('paws', 1), ('from', 1), ('quit', 1), ('got', 1), ('opioid', 1), ('subutex', 1), ('switched', 1), ('sublingually', 1), ('coke', 1), ('trintellix', 1), ('weed', 1), ('medical', 1), ('marijuana', 1), ('different', 1), ('opiates', 1), ('detox', 1), ('rehab', 1), ('clonodine', 1), ('xanax', 1), ('kpin', 1), ('buccal', 1), ('vivitrol', 1), ('ibuprofen', 1)]\n"
          ],
          "name": "stdout"
        }
      ]
    },
    {
      "cell_type": "code",
      "metadata": {
        "id": "-ay0LeMkg_MC"
      },
      "source": [
        "import csv\n",
        "with open(\"/content/converted_Johndough10662_2.tsv\",\"r\") as f:\n",
        "  with open(\"/content/converted_Johndough10662_2.csv\",\"w\") as wf:\n",
        "    writer = csv.writer(wf,delimiter='\\t')\n",
        "    text = f.readlines()\n",
        "    for line in text:\n",
        "      if(str(line).startswith(\"id\")):\n",
        "        new_line = line.strip(\"\\n\").split(\"\\t\")\n",
        "        writer.writerow([new_line[0],new_line[1],new_line[2],new_line[3],new_line[4],new_line[5]])\n",
        "        print(line)\n",
        "      if(str(line).startswith(\"#Text=\")==0 and line!=\"\\n\" and str(line).startswith(\"id\")==0):\n",
        "        new_line = line.strip(\"\\n\").split(\"\\t\")\n",
        "        #new_line = line.replace(\"\\t\",\" \")\n",
        "        writer.writerow([new_line[0],new_line[1],new_line[2],new_line[3],new_line[4]])\n",
        "        print(line)\n",
        "        #writer.writerow(line.strip(\"\\n\"))\n",
        "      elif(str(line).startswith(\"#Text=\") and line!=\"\\n\"):\n",
        "        writer.writerow([line.strip(\"\\n\"),\"\",\"\",\"\",\"\",\"\",\"\"])\n",
        "      else:\n",
        "        writer.writerow(line.strip(\"\\n\"))"
      ],
      "execution_count": null,
      "outputs": []
    },
    {
      "cell_type": "code",
      "metadata": {
        "id": "H7IpJ2jo0sUa"
      },
      "source": [
        "import pandas as pd\n",
        "\n",
        "microwave = pd.read_csv(\"/content/converted_Johndough10662_2.tsv\", encoding = \"utf8\",sep=\"\\t\")\n",
        "microwave.to_excel(\"/content/converted_Johndough10662_2.xlsx\",encoding = \"utf8\",index=None)\n"
      ],
      "execution_count": null,
      "outputs": []
    },
    {
      "cell_type": "code",
      "metadata": {
        "id": "mnRxO6kfm2ra"
      },
      "source": [
        "import csv\n",
        "with open(\"/content/converted_Johndough10662_n2.tsv\",\"r\") as f:\n",
        "  with open(\"/content/converted_Johndough10662_nn2.tsv\",\"w\") as wf:\n",
        "    writer = csv.writer(wf,delimiter='\\t')\n",
        "    text = f.readlines()\n",
        "    for line in text:\n",
        "      \"\"\"if(str(line).startswith(\"#Text=\")==0 and line!=\"\\n\" and str(line).startswith(\"id\")==0):\n",
        "        new_line = line.strip(\"\\n\").split(\"\\t\")\n",
        "        #print(len(new_line))\n",
        "        #print(line)\n",
        "        #if(len(new_line)==6 or len(new_line)==5):\n",
        "        if(len(new_line))\n",
        "          print(new_line)\n",
        "          writer.writerow([new_line[0],new_line[1],new_line[2],new_line[3],new_line[4],\"_\",\"_\"])\n",
        "        else:\n",
        "          wf.write(line)\"\"\"\n",
        "      if(str(line).startswith(\"#Text=\") and str(line).startswith('#Text=\"\\\\r')==0 and str(line).startswith('#Text=\"submission_title')==0 and str(line).startswith(\"#Text=submission_subreddit\")==0 and str(line).startswith(\"#Text=submission_text\")==0):\n",
        "        #line = line.replace('#Text=\"\\r','')\n",
        "        wf.write(line)\n",
        "      elif(line==\"\\n\"):\n",
        "        wf.write(line)\n",
        "      elif(str(line).startswith(\"#Text=\")==0):\n",
        "        wf.write(line)"
      ],
      "execution_count": null,
      "outputs": []
    },
    {
      "cell_type": "code",
      "metadata": {
        "id": "Ogy4IolrL1x5"
      },
      "source": [
        "def f(a,b):\n",
        "    return a if a>b else b"
      ],
      "execution_count": null,
      "outputs": []
    },
    {
      "cell_type": "code",
      "metadata": {
        "id": "3T4J7hDi4jNr"
      },
      "source": [
        "import csv\n",
        "\n",
        "with open(\"/content/ready_brian61907_2.tsv\",\"r\") as f:\n",
        "  with open(\"/content/ready_brian61907--merge.tsv\",\"r\") as f1:\n",
        "    with open(\"/content/ready_brian61907--n2.tsv\",\"w\") as wf:\n",
        "      writer = csv.writer(wf,delimiter='\\t')\n",
        "      text = f.readlines()\n",
        "      text1 = f1.readlines()\n",
        "      #print(text[1096])\n",
        "      i = 0\n",
        "      #print(len(text))\n",
        "      while(i<len(text)):\n",
        "        line = text[i]\n",
        "        #print(line)\n",
        "        #i = i+1\n",
        "        if(str(line).startswith(\"#Text=\") and str(text[i+1]).startswith(\"#Text=\")==0):\n",
        "          j = i\n",
        "          id_44 = []\n",
        "          id_55 = []\n",
        "          wf.write(line)\n",
        "          while(line!=\"\\n\" and j<len(text)-1):\n",
        "            line = text[j+1]\n",
        "            new_line = line.strip(\"\\n\").split(\"\\t\")\n",
        "            id_44.append(new_line[0])\n",
        "            j+=1\n",
        "            #print(new_line)\n",
        "            #id_44.append(new_line[0])\n",
        "          #print(text[j])\n",
        "          print(id_44)\n",
        "          end = id_44[0].find(\"-\")\n",
        "          #print(id_44[0][:end])\n",
        "          str_start = str(id_44[0][:end]) + \"-\"\n",
        "          #print(str_start)\n",
        "          for line1 in text1:\n",
        "            if(str(line1).startswith(str_start)):\n",
        "              line1_list = line1.strip(\"\\n\").split(\"\\t\")\n",
        "              #print(line1_list)\n",
        "              if(line1_list[0] not in id_44):\n",
        "                id_55.append(line1_list[0])\n",
        "          #print(id_55)\n",
        "          if(len(id_44)>1):\n",
        "            a = id_44[-2][id_44[-2].find(\"-\")+1:]\n",
        "          else:\n",
        "            a = id_44[-2][id_44[-1].find(\"-\")+1:]\n",
        "          if(len(id_55)>0):\n",
        "            b = id_55[-1][id_55[-1].find(\"-\")+1:]\n",
        "            if(int(a)>int(b)):\n",
        "              max = int(a)\n",
        "            else:\n",
        "              max = int(b)\n",
        "          else:\n",
        "            max = int(a)\n",
        "          for k in range(1,max+1):\n",
        "            str_id = str(id_44[0][:end]) + \"-\" + str(k)\n",
        "            #print(str_id)\n",
        "            if(str_id in id_44):\n",
        "              #print(\"44\",str_id)\n",
        "              f.seek(0)\n",
        "              for line0 in text:\n",
        "                if(str(line0).startswith(str_id + \"\\t\")):\n",
        "                  #print(line0)\n",
        "                  wf.write(line0)\n",
        "                  #print(line0)\n",
        "            elif(str_id in id_55):\n",
        "              #print(\"55\",str_id)\n",
        "              f1.seek(0)\n",
        "              for line1 in text1:\n",
        "                if(str(line1).startswith(str_id + \"\\t\")):\n",
        "                  line1 = line1.strip(\"\\n\").split(\"\\t\")\n",
        "                  new_line1 = line1[0] + \"\\t\" +  line1[1] + \"\\t\" +  line1[2] + \"\\t\" +  line1[3] + \"\\t\" +  line1[6] + \"\\n\"\n",
        "                  wf.write(new_line1)\n",
        "                #print(line1)\n",
        "        elif(str(line).startswith(\"#Text=\") and str(text[i+1]).startswith(\"#Text=\")):\n",
        "          wf.write(line)\n",
        "        elif(line==\"\\n\"):\n",
        "          wf.write(line)\n",
        "        i = i+1\n",
        ""
      ],
      "execution_count": null,
      "outputs": []
    },
    {
      "cell_type": "code",
      "metadata": {
        "id": "mS-qfok_y7br"
      },
      "source": [
        "import pandas as pd\n",
        "import csv\n",
        "\n",
        "#path = \"/content/converted_Alexis224.tsv\"\n",
        "#path1 = \"/content/converted_Alexis224_new.tsv\"\n",
        "path = \"/content/ready_brian61907 (2).tsv\"\n",
        "path1 = \"/content/ready_brian619072--new.tsv\"\n",
        "\n",
        "with open(path,'r') as f:\n",
        "  with open(path1,'w') as wf:\n",
        "    #train=pd.read_csv(f, sep='\\t')\n",
        "    #print(train)\n",
        "    text = f.readlines()\n",
        "    #print(text)\n",
        "    for line in text:\n",
        "      if(line.startswith(\"#\")==0 and line!=\"\\n\"):\n",
        "        #print(line)\n",
        "        wf.write(line)"
      ],
      "execution_count": null,
      "outputs": []
    },
    {
      "cell_type": "code",
      "metadata": {
        "colab": {
          "base_uri": "https://localhost:8080/"
        },
        "id": "KeAHis27y76P",
        "outputId": "294ecd1b-9c9c-4145-e6fe-c8fad5b18264"
      },
      "source": [
        "import pandas as pd\n",
        "\n",
        "pd.set_option(\"display.max_columns\",500)\n",
        "\n",
        "df1 = pd.read_csv('/content/ready_brian61907--new.tsv', sep='\\t', quoting=csv.QUOTE_NONE,header=None)\n",
        "df2 = pd.read_csv('/content/ready_brian619072--new.tsv', sep='\\t', quoting=csv.QUOTE_NONE,header=None)\n",
        "\n",
        "\n",
        "print(df1)\n",
        "print(df2)"
      ],
      "execution_count": null,
      "outputs": [
        {
          "output_type": "stream",
          "text": [
            "             0              1                 2  3   4\n",
            "0          1-1            0-1                 \"  _ NaN\n",
            "1          1-2           1-17  submission_title  _ NaN\n",
            "2          1-3          17-18                 :  _ NaN\n",
            "3          1-4          18-19                 -  _ NaN\n",
            "4          1-5          21-23                An  _ NaN\n",
            "...        ...            ...               ... ..  ..\n",
            "35545  581-217  162634-162635                 -  _ NaN\n",
            "35546  581-218  162635-162636                 -  _ NaN\n",
            "35547  581-219  162636-162637                 -  _ NaN\n",
            "35548  581-220  162638-162641               LOL  _ NaN\n",
            "35549  581-221  162737-162738                 \"  _ NaN\n",
            "\n",
            "[35550 rows x 5 columns]\n",
            "             0              1                 2  3  4   5\n",
            "0          1-1            0-1                 \"  _  _ NaN\n",
            "1          1-2           1-17  submission_title  _  _ NaN\n",
            "2          1-3          17-18                 :  _  _ NaN\n",
            "3          1-4          18-19                 -  _  _ NaN\n",
            "4          1-5          21-23                An  _  _ NaN\n",
            "...        ...            ...               ... .. ..  ..\n",
            "35545  581-217  162634-162635                 -  _  _ NaN\n",
            "35546  581-218  162635-162636                 -  _  _ NaN\n",
            "35547  581-219  162636-162637                 -  _  _ NaN\n",
            "35548  581-220  162638-162641               LOL  _  _ NaN\n",
            "35549  581-221  162737-162738                 \"  _  _ NaN\n",
            "\n",
            "[35550 rows x 6 columns]\n"
          ],
          "name": "stdout"
        }
      ]
    },
    {
      "cell_type": "code",
      "metadata": {
        "colab": {
          "base_uri": "https://localhost:8080/"
        },
        "id": "8NVCPXAF7258",
        "outputId": "76c9dad4-a821-4c0c-c9b8-b62b5d4bcca6"
      },
      "source": [
        "result = pd.merge(df1,df2,on=[0,1,2])\n",
        "print(result)\n",
        "result.to_csv('/content/ready_brian61907--merge.tsv',index=False,header=None,sep='\\t')"
      ],
      "execution_count": null,
      "outputs": [
        {
          "output_type": "stream",
          "text": [
            "             0              1                 2 3_x  4_x 3_y 4_y   5\n",
            "0          1-1            0-1                 \"   _  NaN   _   _ NaN\n",
            "1          1-2           1-17  submission_title   _  NaN   _   _ NaN\n",
            "2          1-3          17-18                 :   _  NaN   _   _ NaN\n",
            "3          1-4          18-19                 -   _  NaN   _   _ NaN\n",
            "4          1-5          21-23                An   _  NaN   _   _ NaN\n",
            "...        ...            ...               ...  ..  ...  ..  ..  ..\n",
            "35545  581-217  162634-162635                 -   _  NaN   _   _ NaN\n",
            "35546  581-218  162635-162636                 -   _  NaN   _   _ NaN\n",
            "35547  581-219  162636-162637                 -   _  NaN   _   _ NaN\n",
            "35548  581-220  162638-162641               LOL   _  NaN   _   _ NaN\n",
            "35549  581-221  162737-162738                 \"   _  NaN   _   _ NaN\n",
            "\n",
            "[35550 rows x 8 columns]\n"
          ],
          "name": "stdout"
        }
      ]
    },
    {
      "cell_type": "markdown",
      "metadata": {
        "id": "n0OWwvZ-hTIV"
      },
      "source": [
        "canwesurf\n"
      ]
    },
    {
      "cell_type": "code",
      "metadata": {
        "id": "vpYpHoINhVG8"
      },
      "source": [
        "path = \"/content/converted_Canwesurf_2.tsv\"\n",
        "path1 = \"/content/converted_Canwesurf_2_new.tsv\"\n",
        "\n",
        "with open(path,'r') as f:\n",
        "  with open(path1,'w') as wf:\n",
        "    #train=pd.read_csv(f, sep='\\t')\n",
        "    #print(train)\n",
        "    text = f.readlines()\n",
        "    #print(text)\n",
        "    for line in text:\n",
        "      if(line.startswith(\"#\")==0 and line!=\"\\n\"):\n",
        "        #print(line)\n",
        "        line = line.strip(\"\\n\").split(\"\\t\")\n",
        "        new_line = line[0] + \"\\t\" +  line[1] + \"\\t\" +  line[2] + \"\\t\" +  line[4] + \"\\t\" +  line[6] + \"\\n\"\n",
        "        wf.write(new_line)\n",
        "      else:\n",
        "        wf.write(line)"
      ],
      "execution_count": null,
      "outputs": []
    },
    {
      "cell_type": "markdown",
      "metadata": {
        "id": "mKsnFE42lf5I"
      },
      "source": [
        "delete 冗余"
      ]
    },
    {
      "cell_type": "code",
      "metadata": {
        "id": "MJob-Yii0KxC"
      },
      "source": [
        "import csv\n",
        "with open(\"/content/ready_brian61907--n2.tsv\",\"r\") as f:\n",
        "  with open(\"/content/ready_brian61907_nn2.tsv\",\"w\") as wf:\n",
        "    writer = csv.writer(wf,delimiter='\\t')\n",
        "    text = f.readlines()\n",
        "    for line in text:\n",
        "      \"\"\"if(str(line).startswith(\"#Text=\")==0 and line!=\"\\n\" and str(line).startswith(\"id\")==0):\n",
        "        new_line = line.strip(\"\\n\").split(\"\\t\")\n",
        "        #print(len(new_line))\n",
        "        #print(line)\n",
        "        #if(len(new_line)==6 or len(new_line)==5):\n",
        "        if(len(new_line))\n",
        "          print(new_line)\n",
        "          writer.writerow([new_line[0],new_line[1],new_line[2],new_line[3],new_line[4],\"_\",\"_\"])\n",
        "        else:\n",
        "          wf.write(line)\"\"\"\n",
        "      if(str(line).startswith(\"#Text=\") and str(line).startswith('#Text=\"\\\\r')==0 and str(line).startswith('#Text=\"submission_title')==0 and str(line).startswith(\"#Text=submission_subreddit\")==0 and str(line).startswith(\"#Text=submission_text\")==0):\n",
        "        #line = line.replace('#Text=\"\\r','')\n",
        "        wf.write(line)\n",
        "      elif(line==\"\\n\"):\n",
        "        wf.write(line)\n",
        "      elif(str(line).startswith(\"#Text=\")==0):\n",
        "        wf.write(line)"
      ],
      "execution_count": null,
      "outputs": []
    },
    {
      "cell_type": "code",
      "metadata": {
        "id": "jksZEdutliin"
      },
      "source": [
        "path = \"/content/ready_brian61907_nn2.tsv\"\n",
        "path1 = \"/content/ready_brian61907_nnn2.tsv\"\n",
        "\n",
        "with open(path,'r') as f:\n",
        "  with open(path1,'w') as wf:\n",
        "    #train=pd.read_csv(f, sep='\\t')\n",
        "    #print(train)\n",
        "    text = f.readlines()\n",
        "    text1 = f.readlines()\n",
        "    i = 0\n",
        "    #print(len(text))\n",
        "    while(i<len(text)):\n",
        "      line = text[i]\n",
        "      #print(line)\n",
        "      #i = i+1\n",
        "      if(str(line).startswith(\"#Text=\")):\n",
        "        wf.write(line)\n",
        "        sentence_ls = line.strip(\"\\n\").split(\" \")\n",
        "        start = sentence_ls[0].find(\"=\")\n",
        "        first_word = sentence_ls[0][start+1:].replace(\",\",\"\")\n",
        "        #print(first_word)\n",
        "        j = i\n",
        "        max = 0\n",
        "        line = text[j+1]\n",
        "        start_id = \"0\"\n",
        "        new_line = line.strip(\"\\n\").split(\"\\t\")\n",
        "        str_id_front = new_line[0][:new_line[0].find(\"-\")]\n",
        "\n",
        "        while(line!=\"\\n\" and str(text[i+1]).startswith(\"#Text=\")==0 and j<len(text)-1):\n",
        "          line = text[j+1]\n",
        "          new_line = line.strip(\"\\n\").split(\"\\t\")\n",
        "          #print(new_line)\n",
        "          #str_id_front = new_line[0][:new_line[0].find(\"-\")]\n",
        "          if(len(new_line)>1):\n",
        "            if(new_line[2]==first_word and start_id==\"0\"):\n",
        "              start_id = new_line[0]\n",
        "              #print(start_id[start_id.find(\"-\")+1:])\n",
        "            if(int(new_line[0][new_line[0].find(\"-\")+1:])>max):\n",
        "              max = int(new_line[0][new_line[0].find(\"-\")+1:])\n",
        "          j+=1\n",
        "          start_num = int(start_id[start_id.find(\"-\")+1:])\n",
        "          #print(start_num)\n",
        "        #print(str_id_front)\n",
        "        for k in range(start_num,max+1):\n",
        "          str_id = str(str_id_front + \"-\" + str(k))\n",
        "          #print(str_id)\n",
        "          f.seek(0)\n",
        "          for line0 in text:\n",
        "            if(str(line0).startswith(str_id + \"\\t\")):\n",
        "              #print(line0)\n",
        "              wf.write(line0)\n",
        "              #print(line0)\n",
        "      #elif(str(line).startswith(\"#Text=\") and str(text[i+1]).startswith(\"#Text=\")):\n",
        "        #wf.write(line)\n",
        "      elif(line==\"\\n\"):\n",
        "        wf.write(line)\n",
        "      i = i+1\n"
      ],
      "execution_count": null,
      "outputs": []
    },
    {
      "cell_type": "markdown",
      "metadata": {
        "id": "MZs4JuGccso8"
      },
      "source": [
        "那些不一样的"
      ]
    },
    {
      "cell_type": "code",
      "metadata": {
        "colab": {
          "base_uri": "https://localhost:8080/"
        },
        "id": "r2LlY5_7cuC3",
        "outputId": "e16004fd-6696-4914-d693-cfacf5536d14"
      },
      "source": [
        "path = \"/content/converted_Prodigalson27_1.tsv\"\n",
        "path1 = \"/content/converted_Prodigalson27_n1.tsv\"\n",
        "\n",
        "with open(path,'r') as f:\n",
        "  with open(path1,'w') as wf:\n",
        "    #train=pd.read_csv(f, sep='\\t')\n",
        "    #print(train)\n",
        "    text = f.readlines()\n",
        "    #print(text)\n",
        "    for line in text:\n",
        "      if(line.startswith(\"#\")==0 and line!=\"\\n\"):\n",
        "        #print(line)\n",
        "        line = line.strip(\"\\n\").split(\"\\t\")\n",
        "        if(len(line)>5):\n",
        "          print(line)\n",
        "          new_line = line[0] + \"\\t\" +  line[1] + \"\\t\" +  line[2] + \"\\t\" +  line[4] + \"\\t\" +  line[8] + \"\\n\"\n",
        "          wf.write(new_line)\n",
        "        elif(len(line)>4):\n",
        "          #print(line)\n",
        "          new_line = line[0] + \"\\t\" +  line[1] + \"\\t\" +  line[2] + \"\\t\" +  line[4] + \"\\t\" + \"_\" + \"\\n\"\n",
        "          wf.write(new_line)\n",
        "        else:\n",
        "          new_line = line[0] + \"\\t\" +  line[1] + \"\\t\" +  line[2] + \"\\t\" +  line[3] + \"\\t\" + \"_\" + \"\\n\"\n",
        "          wf.write(new_line)\n",
        "      else:\n",
        "        wf.write(line)"
      ],
      "execution_count": null,
      "outputs": [
        {
          "output_type": "stream",
          "text": [
            "['208-10', '25320-25325', 'sores', '*[5]', 'Abuse/Misuse Clinical Impacts[5]', '208-10', '25320-25325', 'sores', 'IDU[23]']\n",
            "['208-11', '25326-25329', 'all', '*[5]', 'Abuse/Misuse Clinical Impacts[5]', '208-11', '25326-25329', 'all', 'IDU[23]']\n",
            "['208-12', '25330-25334', 'over', '*[5]', 'Abuse/Misuse Clinical Impacts[5]', '208-12', '25330-25334', 'over', 'IDU[23]']\n",
            "['208-13', '25335-25337', 'my', '*[5]', 'Abuse/Misuse Clinical Impacts[5]', '208-13', '25335-25337', 'my', 'IDU[23]']\n",
            "['208-14', '25338-25342', 'body', '*[5]', 'Abuse/Misuse Clinical Impacts[5]', '208-14', '25338-25342', 'body', 'IDU[23]']\n",
            "['313-1', '42783-42787', 'then', '_', '_', '312-1', '42749-42753', 'then', 'Supplements[39]']\n",
            "['313-2', '42788-42789', 'I', '_', '_', '312-2', '42754-42755', 'I', 'Supplements[39]']\n",
            "['313-3', '42790-42794', 'went', '*[7]', 'IDU: switch from or instead of prescription or in addition to[7]', '312-3', '42756-42760', 'went', 'Supplements[39]']\n",
            "['313-4', '42795-42799', 'from', '*[7]', 'IDU: switch from or instead of prescription or in addition to[7]', '312-4', '42761-42765', 'from', 'Supplements[39]']\n",
            "['313-5', '42800-42809', 'Methadone', '*[7]', 'IDU: switch from or instead of prescription or in addition to[7]', '312-5', '42766-42775', 'Methadone', 'Supplements[39]']\n",
            "['313-6', '42810-42812', 'to', '*[7]', 'IDU: switch from or instead of prescription or in addition to[7]', '312-6', '42776-42778', 'to', 'Supplements[39]']\n",
            "['313-7', '42813-42819', 'kratom', '*[7]', 'IDU: switch from or instead of prescription or in addition to[7]', '312-7', '42779-42785', 'kratom', 'Supplements[39]']\n",
            "['422-1', '56898-56899', 'I', '_', '_', '414-1', '56832-56833', 'I', 'Social Impacts[64]']\n",
            "['422-2', '56900-56903', 'was', '_', '_', '414-2', '56834-56837', 'was', 'Social Impacts[64]']\n",
            "['422-3', '56904-56912', 'homeless', '*', 'Abuse/Misuse Social Impacts', '414-3', '56838-56846', 'homeless', 'Social Impacts[64]']\n",
            "['422-4', '56913-56916', 'and', '_', '_', '414-4', '56847-56850', 'and', 'Social Impacts[64]']\n",
            "['422-5', '56917-56922', 'ready', '*[13]', 'Abuse/Misuse Clinical Impacts[13]', '414-5', '56851-56856', 'ready', 'Social Impacts[64]']\n",
            "['422-6', '56923-56925', 'to', '*[13]', 'Abuse/Misuse Clinical Impacts[13]', '414-6', '56857-56859', 'to', 'Social Impacts[64]']\n",
            "['422-7', '56926-56930', 'kill', '*[13]', 'Abuse/Misuse Clinical Impacts[13]', '414-7', '56860-56864', 'kill', 'Social Impacts[64]']\n",
            "['422-8', '56931-56937', 'myself', '*[13]', 'Abuse/Misuse Clinical Impacts[13]', '414-8', '56865-56871', 'myself', 'Social Impacts[64]']\n",
            "['454-1', '61896-61902', 'Kratom', '*', 'Illegal drug use', '446-1', '61830-61836', 'Kratom', 'Supplements[75]']\n",
            "['454-2', '61903-61909', 'helped', '_', '_', '446-2', '61837-61843', 'helped', 'Supplements[75]']\n",
            "['454-3', '61910-61912', 'me', '_', '_', '446-3', '61844-61846', 'me', 'Supplements[75]']\n",
            "['454-4', '61913-61917', 'quit', '_', '_', '446-4', '61847-61851', 'quit', 'Supplements[75]']\n",
            "['454-5', '61918-61919', 'a', '_', '_', '446-5', '61852-61853', 'a', 'Supplements[75]']\n",
            "['454-6', '61920-61921', 'g', '*[14]', 'IDU: Method of intake & frequency and amount[14]', '446-6', '61854-61855', 'g', 'Supplements[75]']\n",
            "['454-7', '61922-61923', 'a', '*[14]', 'IDU: Method of intake & frequency and amount[14]', '446-7', '61856-61857', 'a', 'Supplements[75]']\n",
            "['454-8', '61924-61927', 'day', '*[14]', 'IDU: Method of intake & frequency and amount[14]', '446-8', '61858-61861', 'day', 'Supplements[75]']\n",
            "['454-9', '61928-61934', 'heroin', '*', 'Illegal drug use', '446-9', '61862-61868', 'heroin', 'Supplements[75]']\n",
            "['454-10', '61935-61940', 'habit', '_', '_', '446-10', '61869-61874', 'habit', 'Supplements[75]']\n",
            "['458-11', '62978-62980', '15', '*[15]', 'IDU: Method of intake & frequency and amount[15]', '450-11', '62912-62914', '15', 'Supplements[77]']\n",
            "['458-12', '62981-62986', 'grams', '*[15]', 'IDU: Method of intake & frequency and amount[15]', '450-12', '62915-62920', 'grams', 'Supplements[77]']\n",
            "['458-13', '62987-62988', 'a', '*[15]', 'IDU: Method of intake & frequency and amount[15]', '450-13', '62921-62922', 'a', 'Supplements[77]']\n",
            "['458-14', '62989-62992', 'day', '*[15]', 'IDU: Method of intake & frequency and amount[15]', '450-14', '62923-62926', 'day', 'Supplements[77]']\n",
            "['466-53', '64592-64596', \"I've\", '_', '_', '458-52', '64521-64525', \"I've\", 'NMPDU[78]']\n",
            "['466-54', '64597-64605', 'suffered', '_', '_', '458-53', '64526-64534', 'suffered', 'NMPDU[78]']\n",
            "['466-55', '64606-64610', 'from', '_', '_', '458-54', '64535-64539', 'from', 'NMPDU[78]']\n",
            "['466-56', '64611-64617', 'opiate', '*[16]', 'Abuse/Misuse Clinical Impacts[16]', '458-55', '64540-64546', 'opiate', 'NMPDU[78]']\n",
            "['466-57', '64618-64627', 'addiction', '*[16]', 'Abuse/Misuse Clinical Impacts[16]', '458-56', '64547-64556', 'addiction', 'NMPDU[78]']\n",
            "['466-58', '64628-64631', 'for', '_', '_', '458-57', '64557-64560', 'for', 'NMPDU[78]']\n",
            "['466-59', '64632-64637', 'years', '_', '_', '458-58', '64561-64566', 'years', 'NMPDU[78]']\n",
            "['466-68', '64676-64683', 'running', '*[17]', 'Occupation[17]', '458-67', '64605-64612', 'running', '_']\n",
            "['466-69', '64684-64687', 'cnc', '*[17]', 'Occupation[17]', '458-68', '64613-64616', 'cnc', '_']\n",
            "['466-70', '64688-64693', 'mills', '*[17]', 'Occupation[17]', '458-69', '64617-64622', 'mills', '_']\n",
            "['466-71', '64694-64696', 'in', '*[17]', 'Occupation[17]', '458-70', '64623-64625', 'in', '_']\n",
            "['466-72', '64697-64700', 'the', '*[17]', 'Occupation[17]', '458-71', '64626-64629', 'the', '_']\n",
            "['466-73', '64701-64708', 'factory', '*[17]', 'Occupation[17]', '458-72', '64630-64637', 'factory', '_']\n",
            "['1180-51', '154638-154642', 'acid', '*[38]', 'Medical condition[38]', '1161-51', '154625-154629', 'acid', 'Medicine Intake[149]']\n",
            "['1180-52', '154643-154649', 'reflux', '*[38]', 'Medical condition[38]', '1161-52', '154630-154636', 'reflux', 'Medicine Intake[149]']\n",
            "['1180-53', '154650-154654', 'with', '_', '_', '1161-53', '154637-154641', 'with', 'Medicine Intake[149]']\n",
            "['1180-54', '154655-154661', 'Kratom', '*', 'Illegal drug use', '1161-54', '154642-154648', 'Kratom', 'Medicine Intake[149]']\n",
            "['1278-1', '167020-167024', 'When', '_', '_', '1259-1', '167007-167011', 'When', 'Supplements[157]']\n",
            "['1278-2', '167025-167026', 'I', '_', '_', '1259-2', '167012-167013', 'I', 'Supplements[157]']\n",
            "['1278-3', '167027-167033', 'switch', '*[39]', 'IDU: switch from or instead of prescription or in addition to[39]', '1259-3', '167014-167020', 'switch', 'Supplements[157]']\n",
            "['1278-4', '167034-167036', 'to', '*[39]', 'IDU: switch from or instead of prescription or in addition to[39]', '1259-4', '167021-167023', 'to', 'Supplements[157]']\n",
            "['1278-5', '167037-167043', 'Kratom', '*[39]', 'IDU: switch from or instead of prescription or in addition to[39]', '1259-5', '167024-167030', 'Kratom', 'Supplements[157]']\n",
            "['1294-1', '168961-168962', 'I', '_', '_', '1275-1', '168948-168949', 'I', 'Supplements[160]']\n",
            "['1294-2', '168963-168967', 'have', '_', '_', '1275-2', '168950-168954', 'have', 'Supplements[160]']\n",
            "['1294-3', '168968-168972', 'just', '_', '_', '1275-3', '168955-168959', 'just', 'Supplements[160]']\n",
            "['1294-4', '168973-168983', 'transition', '*[43]', 'IDU: switch from or instead of prescription or in addition to[43]', '1275-4', '168960-168970', 'transition', 'Supplements[160]']\n",
            "['1294-5', '168984-168988', 'from', '*[43]', 'IDU: switch from or instead of prescription or in addition to[43]', '1275-5', '168971-168975', 'from', 'Supplements[160]']\n",
            "['1294-6', '168989-168998', 'Methadone', '*[43]', 'IDU: switch from or instead of prescription or in addition to[43]', '1275-6', '168976-168985', 'Methadone', 'Supplements[160]']\n",
            "['1294-7', '168999-169001', 'to', '*[43]', 'IDU: switch from or instead of prescription or in addition to[43]', '1275-7', '168986-168988', 'to', 'Supplements[160]']\n",
            "['1294-8', '169002-169008', 'Kratom', '*[43]', 'IDU: switch from or instead of prescription or in addition to[43]', '1275-8', '168989-168995', 'Kratom', 'Supplements[160]']\n",
            "['1294-9', '169009-169014', 'about', '_', '_', '1275-9', '168996-169001', 'about', 'Supplements[160]']\n",
            "['1294-10', '169015-169016', 'a', '_', '_', '1275-10', '169002-169003', 'a', 'Supplements[160]']\n",
            "['1294-11', '169017-169022', 'month', '_', '_', '1275-11', '169004-169009', 'month', 'Supplements[160]']\n",
            "['1294-12', '169023-169026', 'ago', '_', '_', '1275-12', '169010-169013', 'ago', 'Supplements[160]']\n",
            "['1-57', '171-177', 'Kratom', '*', 'Illegal drug use', '1-57', '171-177', 'Kratom', 'Supplements[1]']\n",
            "['1-58', '178-184', 'helped', '_', '_', '1-58', '178-184', 'helped', 'Supplements[1]']\n",
            "['1-59', '185-187', 'me', '_', '_', '1-59', '185-187', 'me', 'Supplements[1]']\n",
            "['1-60', '188-192', 'quit', '_', '_', '1-60', '188-192', 'quit', 'Supplements[1]']\n",
            "['1-61', '193-199', 'heroin', '*', 'Illegal drug use', '1-61', '193-199', 'heroin', 'Supplements[1]']\n",
            "['1-62', '200-201', 'I', '_', '_', '1-62', '200-201', 'I', 'Supplements[1]']\n",
            "['1-63', '202-206', 'then', '_', '_', '1-63', '202-206', 'then', 'Supplements[1]']\n",
            "['1-64', '207-214', 'tapered', '_', '_', '1-64', '207-214', 'tapered', 'Supplements[1]']\n",
            "['1-65', '215-219', 'down', '_', '_', '1-65', '215-219', 'down', 'Supplements[1]']\n",
            "['1-66', '220-224', 'from', '_', '_', '1-66', '220-224', 'from', 'Supplements[1]']\n",
            "['1-67', '225-227', 'it', '_', '_', '1-67', '225-227', 'it', 'Supplements[1]']\n",
            "['1-68', '228-230', 'to', '_', '_', '1-68', '228-230', 'to', 'Supplements[1]']\n",
            "['1-69', '231-236', 'where', '_', '_', '1-69', '231-236', 'where', 'Supplements[1]']\n",
            "['1-70', '237-238', 'I', '_', '_', '1-70', '237-238', 'I', 'Supplements[1]']\n",
            "['1-71', '239-242', 'had', '_', '_', '1-71', '239-242', 'had', 'Supplements[1]']\n",
            "['1-72', '243-246', 'too', '_', '_', '1-72', '243-246', 'too', 'Supplements[1]']\n",
            "['1-73', '247-253', 'little', '_', '_', '1-73', '247-253', 'little', 'Supplements[1]']\n",
            "['1-74', '254-256', 'to', '_', '_', '1-74', '254-256', 'to', 'Supplements[1]']\n",
            "['1-75', '257-259', 'no', '_', '_', '1-75', '257-259', 'no', 'Supplements[1]']\n",
            "['1-76', '260-271', 'withdrawals', '_', '_', '1-76', '260-271', 'withdrawals', 'Supplements[1]']\n",
            "['1-77', '271-272', '.', '_', '_', '1-77', '271-272', '.', '_']\n",
            "['12-1', '1350-1351', 'I', '_', '_', '12-1', '1350-1351', 'I', 'Clinical Impacts[4]']\n",
            "['12-2', '1352-1360', 'overdose', '*[2]', 'Abuse/Misuse Clinical Impacts[2]', '12-2', '1352-1360', 'overdose', 'Clinical Impacts[4]']\n",
            "['12-3', '1361-1365', 'four', '*[2]', 'Abuse/Misuse Clinical Impacts[2]', '12-3', '1361-1365', 'four', 'Clinical Impacts[4]']\n",
            "['12-4', '1366-1371', 'times', '*[2]', 'Abuse/Misuse Clinical Impacts[2]', '12-4', '1366-1371', 'times', 'Clinical Impacts[4]']\n",
            "['12-5', '1372-1378', 'before', '_', '_', '12-5', '1372-1378', 'before', 'Clinical Impacts[4]']\n",
            "['12-6', '1379-1380', 'I', '_', '_', '12-6', '1379-1380', 'I', 'Clinical Impacts[4]']\n",
            "['12-7', '1381-1386', 'found', '_', '_', '12-7', '1381-1386', 'found', 'Clinical Impacts[4]']\n",
            "['12-8', '1387-1393', 'Kratom', '*', 'Illegal drug use', '12-8', '1387-1393', 'Kratom', 'Clinical Impacts[4]']\n",
            "['12-9', '1394-1397', 'and', '_', '_', '12-9', '1394-1397', 'and', 'Clinical Impacts[4]']\n",
            "['12-10', '1398-1404', 'almost', '_', '_', '12-10', '1398-1404', 'almost', 'Clinical Impacts[4]']\n",
            "['12-11', '1405-1409', 'died', '_', '_', '12-11', '1405-1409', 'died', 'Clinical Impacts[4]']\n",
            "['12-12', '1410-1414', 'each', '_', '_', '12-12', '1410-1414', 'each', 'Clinical Impacts[4]']\n",
            "['12-13', '1415-1419', 'time', '_', '_', '12-13', '1415-1419', 'time', 'Clinical Impacts[4]']\n",
            "['15-1', '1573-1574', 'I', '_', '_', '15-1', '1573-1574', 'I', 'Supplements[5]']\n",
            "['15-2', '1575-1578', 'got', '_', '_', '15-2', '1575-1578', 'got', 'Supplements[5]']\n",
            "['15-3', '1579-1581', 'my', '_', '_', '15-3', '1579-1581', 'my', 'Supplements[5]']\n",
            "['15-4', '1582-1586', 'life', '_', '_', '15-4', '1582-1586', 'life', 'Supplements[5]']\n",
            "['15-5', '1587-1591', 'back', '_', '_', '15-5', '1587-1591', 'back', 'Supplements[5]']\n",
            "['15-6', '1592-1595', 'all', '_', '_', '15-6', '1592-1595', 'all', 'Supplements[5]']\n",
            "['15-7', '1596-1603', 'because', '_', '_', '15-7', '1596-1603', 'because', 'Supplements[5]']\n",
            "['15-8', '1604-1606', 'of', '_', '_', '15-8', '1604-1606', 'of', 'Supplements[5]']\n",
            "['15-9', '1607-1613', 'Kratom', '*', 'Illegal drug use', '15-9', '1607-1613', 'Kratom', 'Supplements[5]']\n",
            "['44-1', '5355-5356', 'I', '_', '_', '44-1', '5355-5356', 'I', 'IDU[9]']\n",
            "['44-2', '5357-5362', 'never', '_', '_', '44-2', '5357-5362', 'never', 'IDU[9]']\n",
            "['44-3', '5363-5367', 'have', '_', '_', '44-3', '5363-5367', 'have', 'IDU[9]']\n",
            "['44-4', '5368-5369', 'a', '_', '_', '44-4', '5368-5369', 'a', 'IDU[9]']\n",
            "['44-5', '5370-5373', 'bad', '_', '_', '44-5', '5370-5373', 'bad', 'IDU[9]']\n",
            "['44-6', '5374-5378', 'come', '_', '_', '44-6', '5374-5378', 'come', 'IDU[9]']\n",
            "['44-7', '5379-5383', 'down', '_', '_', '44-7', '5379-5383', 'down', 'IDU[9]']\n",
            "['44-8', '5384-5386', 'on', '_', '_', '44-8', '5384-5386', 'on', 'IDU[9]']\n",
            "['44-9', '5387-5391', 'acid', '*', 'Illegal drug use', '44-9', '5387-5391', 'acid', 'IDU[9]']\n",
            "['44-10', '5392-5400', 'actually', '_', '_', '44-10', '5392-5400', 'actually', '_']\n",
            "['44-11', '5401-5405', 'have', '_', '_', '44-11', '5401-5405', 'have', '_']\n",
            "['44-12', '5406-5407', 'a', '_', '_', '44-12', '5406-5407', 'a', '_']\n",
            "['44-13', '5408-5417', 'Afterglow', '*', 'Illegal drug use', '44-13', '5408-5417', 'Afterglow', '_']\n",
            "['190-46', '22652-22653', 'I', '_', '_', '190-46', '22652-22653', 'I', 'Clinical Impacts[22]']\n",
            "['190-47', '22654-22658', \"OD'd\", '*', 'Abuse/Misuse Clinical Impacts', '190-47', '22654-22658', \"OD'd\", 'Clinical Impacts[22]']\n",
            "['190-48', '22659-22662', 'off', '_', '_', '190-48', '22659-22662', 'off', 'Clinical Impacts[22]']\n",
            "['190-49', '22663-22664', 'a', '_', '_', '190-49', '22663-22664', 'a', 'Clinical Impacts[22]']\n",
            "['190-50', '22665-22673', 'snorting', '*', 'IDU: Method of intake & frequency and amount', '190-50', '22665-22673', 'snorting', 'Clinical Impacts[22]']\n",
            "['190-51', '22674-22675', 'a', '_', '_', '190-51', '22674-22675', 'a', 'Clinical Impacts[22]']\n",
            "['190-52', '22676-22677', '5', '_', '_', '190-52', '22676-22677', '5', 'Clinical Impacts[22]']\n",
            "['190-53', '22677-22678', '$', '_', '_', '190-53', '22677-22678', '$', 'Clinical Impacts[22]']\n",
            "['190-54', '22679-22682', 'cap', '_', '_', '190-54', '22679-22682', 'cap', 'Clinical Impacts[22]']\n",
            "['190-55', '22682-22683', '.', '_', '_', '190-55', '22682-22683', '.', 'Clinical Impacts[22]']\n",
            "['270-46', '34229-34232', 'Try', '_', '_', '270-46', '34229-34232', 'Try', 'Advice to Others[30]']\n",
            "['270-47', '34233-34239', 'kratom', '*', 'Illegal drug use', '270-47', '34233-34239', 'kratom', 'Advice to Others[30]']\n",
            "['270-48', '34240-34245', 'first', '_', '_', '270-48', '34240-34245', 'first', 'Advice to Others[30]']\n",
            "['270-49', '34245-34246', ',', '_', '_', '270-49', '34245-34246', ',', 'Advice to Others[30]']\n",
            "['270-50', '34247-34248', 'I', '_', '_', '270-50', '34247-34248', 'I', 'Advice to Others[30]']\n",
            "['270-51', '34249-34251', 'am', '_', '_', '270-51', '34249-34251', 'am', 'Advice to Others[30]']\n",
            "['270-52', '34252-34259', 'telling', '_', '_', '270-52', '34252-34259', 'telling', 'Advice to Others[30]']\n",
            "['270-53', '34260-34263', 'you', '_', '_', '270-53', '34260-34263', 'you', 'Advice to Others[30]']\n",
            "['270-54', '34264-34266', 'it', '_', '_', '270-54', '34264-34266', 'it', 'Advice to Others[30]']\n",
            "['270-55', '34267-34272', 'helps', '_', '_', '270-55', '34267-34272', 'helps', 'Advice to Others[30]']\n",
            "['270-56', '34273-34274', 'a', '_', '_', '270-56', '34273-34274', 'a', 'Advice to Others[30]']\n",
            "['270-57', '34275-34278', 'lot', '_', '_', '270-57', '34275-34278', 'lot', 'Advice to Others[30]']\n",
            "['270-58', '34279-34285', 'better', '_', '_', '270-58', '34279-34285', 'better', 'Advice to Others[30]']\n",
            "['270-59', '34286-34289', 'for', '_', '_', '270-59', '34286-34289', 'for', 'Advice to Others[30]']\n",
            "['270-60', '34290-34294', 'pain', '_', '_', '270-60', '34290-34294', 'pain', 'Advice to Others[30]']\n",
            "['270-61', '34295-34299', 'then', '_', '_', '270-61', '34295-34299', 'then', 'Advice to Others[30]']\n",
            "['270-62', '34300-34308', 'Suboxone', '*', 'Medicine intake', '270-62', '34300-34308', 'Suboxone', 'Advice to Others[30]']\n",
            "['270-63', '34309-34313', 'ever', '_', '_', '270-63', '34309-34313', 'ever', 'Advice to Others[30]']\n",
            "['270-64', '34314-34317', 'did', '_', '_', '270-64', '34314-34317', 'did', 'Advice to Others[30]']\n",
            "['270-65', '34318-34322', 'with', '_', '_', '270-65', '34318-34322', 'with', 'Advice to Others[30]']\n",
            "['270-66', '34323-34325', 'me', '_', '_', '270-66', '34323-34325', 'me', 'Advice to Others[30]']\n",
            "['282-1', '37289-37292', \"I'm\", '_', '_', '282-1', '37289-37292', \"I'm\", 'Supplements[35]']\n",
            "['282-2', '37293-37298', 'about', '_', '_', '282-2', '37293-37298', 'about', 'Supplements[35]']\n",
            "['282-3', '37299-37301', '60', '_', '_', '282-3', '37299-37301', '60', 'Supplements[35]']\n",
            "['282-4', '37302-37306', 'days', '_', '_', '282-4', '37302-37306', 'days', 'Supplements[35]']\n",
            "['282-5', '37307-37312', 'clean', '_', '_', '282-5', '37307-37312', 'clean', 'Supplements[35]']\n",
            "['282-6', '37313-37319', 'myself', '_', '_', '282-6', '37313-37319', 'myself', 'Supplements[35]']\n",
            "['282-7', '37320-37323', 'but', '_', '_', '282-7', '37320-37323', 'but', 'Supplements[35]']\n",
            "['282-8', '37324-37325', 'I', '_', '_', '282-8', '37324-37325', 'I', 'Supplements[35]']\n",
            "['282-9', '37326-37330', 'have', '_', '_', '282-9', '37326-37330', 'have', 'Supplements[35]']\n",
            "['282-10', '37331-37335', 'been', '_', '_', '282-10', '37331-37335', 'been', 'Supplements[35]']\n",
            "['282-11', '37336-37341', 'using', '_', '_', '282-11', '37336-37341', 'using', 'Supplements[35]']\n",
            "['282-12', '37342-37348', 'kratom', '*', 'Illegal drug use', '282-12', '37342-37348', 'kratom', 'Supplements[35]']\n",
            "['282-13', '37349-37351', 'to', '_', '_', '282-13', '37349-37351', 'to', 'Supplements[35]']\n",
            "['282-14', '37352-37356', 'help', '_', '_', '282-14', '37352-37356', 'help', 'Supplements[35]']\n",
            "['282-15', '37357-37361', 'cope', '_', '_', '282-15', '37357-37361', 'cope', 'Supplements[35]']\n",
            "['307-1', '41916-41920', 'This', '_', '_', '306-1', '41891-41895', 'This', 'IDU[37]']\n",
            "['307-2', '41921-41923', 'is', '_', '_', '306-2', '41896-41898', 'is', 'IDU[37]']\n",
            "['307-3', '41924-41930', 'coming', '_', '_', '306-3', '41899-41905', 'coming', 'IDU[37]']\n",
            "['307-4', '41931-41935', 'from', '_', '_', '306-4', '41906-41910', 'from', 'IDU[37]']\n",
            "['307-5', '41936-41943', 'someone', '_', '_', '306-5', '41911-41918', 'someone', 'IDU[37]']\n",
            "['307-6', '41944-41947', 'who', '_', '_', '306-6', '41919-41922', 'who', 'IDU[37]']\n",
            "['307-7', '41948-41951', 'has', '_', '_', '306-7', '41923-41926', 'has', 'IDU[37]']\n",
            "['307-8', '41952-41956', 'been', '_', '_', '306-8', '41927-41931', 'been', 'IDU[37]']\n",
            "['307-9', '41957-41961', 'both', '_', '_', '306-9', '41932-41936', 'both', 'IDU[37]']\n",
            "['307-10', '41962-41970', 'addicted', '*', 'Abuse/Misuse Clinical Impacts', '306-10', '41937-41945', 'addicted', 'IDU[37]']\n",
            "['307-11', '41971-41973', 'to', '_', '_', '306-11', '41946-41948', 'to', 'IDU[37]']\n",
            "['307-12', '41974-41980', 'heroin', '*', 'Illegal drug use', '306-12', '41949-41955', 'heroin', 'IDU[37]']\n",
            "['307-13', '41981-41984', 'and', '_', '_', '306-13', '41956-41959', 'and', 'IDU[37]']\n",
            "['307-14', '41985-41992', 'cocaine', '*', 'Illegal drug use', '306-14', '41960-41967', 'cocaine', 'IDU[37]']\n",
            "['307-15', '41992-41993', '.', '_', '_', '306-15', '41967-41968', '.', 'IDU[37]']\n",
            "['317-1', '43047-43048', 'I', '_', '_', '316-1', '43013-43014', 'I', 'Supplements[41]']\n",
            "['317-2', '43049-43052', 'use', '_', '_', '316-2', '43015-43018', 'use', 'Supplements[41]']\n",
            "['317-3', '43053-43059', 'kratom', '*', 'Illegal drug use', '316-3', '43019-43025', 'kratom', 'Supplements[41]']\n",
            "['317-4', '43060-43062', 'on', '_', '_', '316-4', '43026-43028', 'on', 'Supplements[41]']\n",
            "['317-5', '43063-43066', 'the', '_', '_', '316-5', '43029-43032', 'the', 'Supplements[41]']\n",
            "['317-6', '43067-43071', 'days', '_', '_', '316-6', '43033-43037', 'days', 'Supplements[41]']\n",
            "['317-7', '43072-43076', 'that', '_', '_', '316-7', '43038-43042', 'that', 'Supplements[41]']\n",
            "['317-8', '43077-43078', 'I', '_', '_', '316-8', '43043-43044', 'I', 'Supplements[41]']\n",
            "['317-9', '43079-43084', \"don't\", '_', '_', '316-9', '43045-43050', \"don't\", 'Supplements[41]']\n",
            "['317-10', '43085-43089', 'have', '_', '_', '316-10', '43051-43055', 'have', 'Supplements[41]']\n",
            "['317-11', '43090-43099', 'methadone', '*', 'Nonmedical prescription drug use', '316-11', '43056-43065', 'methadone', 'Supplements[41]']\n",
            "['329-46', '44404-44407', 'Its', '_', '_', '321-46', '44338-44341', 'Its', 'Medicine Intake[42]']\n",
            "['329-47', '44408-44412', 'been', '_', '_', '321-47', '44342-44346', 'been', 'Medicine Intake[42]']\n",
            "['329-48', '44413-44418', 'about', '_', '_', '321-48', '44347-44352', 'about', 'Medicine Intake[42]']\n",
            "['329-49', '44419-44420', '3', '_', '_', '321-49', '44353-44354', '3', 'Medicine Intake[42]']\n",
            "['329-50', '44421-44427', 'mouths', '_', '_', '321-50', '44355-44361', 'mouths', 'Medicine Intake[42]']\n",
            "['329-51', '44428-44433', 'since', '_', '_', '321-51', '44362-44367', 'since', 'Medicine Intake[42]']\n",
            "['329-52', '44434-44435', 'i', '_', '_', '321-52', '44368-44369', 'i', 'Medicine Intake[42]']\n",
            "['329-53', '44436-44440', 'quit', '*[8]', 'NMPDU: illegal drug use[8]', '321-53', '44370-44374', 'quit', 'Medicine Intake[42]']\n",
            "['329-54', '44441-44447', 'heroin', '*[8]', 'NMPDU: illegal drug use[8]', '321-54', '44375-44381', 'heroin', 'Medicine Intake[42]']\n",
            "['329-55', '44448-44451', 'and', '*[8]', 'NMPDU: illegal drug use[8]', '321-55', '44382-44385', 'and', 'Medicine Intake[42]']\n",
            "['329-56', '44452-44458', 'switch', '*[8]', 'NMPDU: illegal drug use[8]', '321-56', '44386-44392', 'switch', 'Medicine Intake[42]']\n",
            "['329-57', '44459-44461', 'to', '*[8]', 'NMPDU: illegal drug use[8]', '321-57', '44393-44395', 'to', 'Medicine Intake[42]']\n",
            "['329-58', '44462-44471', 'methadone', '*[8]', 'NMPDU: illegal drug use[8]', '321-58', '44396-44405', 'methadone', 'Medicine Intake[42]']\n",
            "['330-1', '44474-44475', 'I', '_', '_', '322-1', '44408-44409', 'I', 'Supplements[43]']\n",
            "['330-2', '44476-44481', 'dosed', '_', '_', '322-2', '44410-44415', 'dosed', 'Supplements[43]']\n",
            "['330-3', '44482-44485', 'for', '_', '_', '322-3', '44416-44419', 'for', 'Supplements[43]']\n",
            "['330-4', '44486-44487', '4', '_', '_', '322-4', '44420-44421', '4', 'Supplements[43]']\n",
            "['330-5', '44488-44492', 'days', '_', '_', '322-5', '44422-44426', 'days', 'Supplements[43]']\n",
            "['330-6', '44493-44497', 'then', '_', '_', '322-6', '44427-44431', 'then', 'Supplements[43]']\n",
            "['330-7', '44498-44506', 'switched', '_', '_', '322-7', '44432-44440', 'switched', 'Supplements[43]']\n",
            "['330-8', '44507-44509', 'to', '_', '_', '322-8', '44441-44443', 'to', 'Supplements[43]']\n",
            "['330-9', '44510-44516', 'kratom', '*', 'Illegal drug use', '322-9', '44444-44450', 'kratom', 'Supplements[43]']\n",
            "['330-10', '44517-44520', 'for', '_', '_', '322-10', '44451-44454', 'for', 'Supplements[43]']\n",
            "['330-11', '44521-44526', 'about', '_', '_', '322-11', '44455-44460', 'about', 'Supplements[43]']\n",
            "['330-12', '44527-44528', 'a', '_', '_', '322-12', '44461-44462', 'a', 'Supplements[43]']\n",
            "['330-13', '44529-44534', 'month', '_', '_', '322-13', '44463-44468', 'month', 'Supplements[43]']\n",
            "['331-1', '44563-44565', 'So', '_', '_', '323-1', '44497-44499', 'So', 'Medicine Intake Dosage/Frequency[44]']\n",
            "['331-2', '44566-44567', 'i', '_', '_', '323-2', '44500-44501', 'i', 'Medicine Intake Dosage/Frequency[44]']\n",
            "['331-3', '44568-44575', 'started', '_', '_', '323-3', '44502-44509', 'started', 'Medicine Intake Dosage/Frequency[44]']\n",
            "['331-4', '44576-44582', 'taking', '_', '_', '323-4', '44510-44516', 'taking', 'Medicine Intake Dosage/Frequency[44]']\n",
            "['331-5', '44583-44592', 'methadone', '*', 'Nonmedical prescription drug use', '323-5', '44517-44526', 'methadone', 'Medicine Intake Dosage/Frequency[44]']\n",
            "['331-6', '44593-44594', '1', '_', '_', '323-6', '44527-44528', '1', 'Medicine Intake Dosage/Frequency[44]']\n",
            "['331-7', '44595-44597', 'or', '_', '_', '323-7', '44529-44531', 'or', 'Medicine Intake Dosage/Frequency[44]']\n",
            "['331-8', '44598-44603', 'twice', '_', '_', '323-8', '44532-44537', 'twice', 'Medicine Intake Dosage/Frequency[44]']\n",
            "['331-9', '44604-44605', 'a', '_', '_', '323-9', '44538-44539', 'a', 'Medicine Intake Dosage/Frequency[44]']\n",
            "['331-10', '44606-44610', 'week', '_', '_', '323-10', '44540-44544', 'week', 'Medicine Intake Dosage/Frequency[44]']\n",
            "['331-11', '44611-44614', 'for', '_', '_', '323-11', '44545-44548', 'for', 'Medicine Intake Dosage/Frequency[44]']\n",
            "['331-12', '44615-44616', 'a', '_', '_', '323-12', '44549-44550', 'a', 'Medicine Intake Dosage/Frequency[44]']\n",
            "['331-13', '44617-44622', 'month', '_', '_', '323-13', '44551-44556', 'month', 'Medicine Intake Dosage/Frequency[44]']\n",
            "['331-14', '44622-44623', '.', '_', '_', '323-14', '44556-44557', '.', 'Medicine Intake Dosage/Frequency[44]']\n",
            "['338-1', '45183-45184', 'I', '_', '_', '330-1', '45117-45118', 'I', 'Supplements[45]']\n",
            "['338-2', '45185-45193', 'probably', '_', '_', '330-2', '45119-45127', 'probably', 'Supplements[45]']\n",
            "['338-3', '45194-45198', 'will', '_', '_', '330-3', '45128-45132', 'will', 'Supplements[45]']\n",
            "['338-4', '45199-45202', 'try', '_', '_', '330-4', '45133-45136', 'try', 'Supplements[45]']\n",
            "['338-5', '45203-45205', 'to', '_', '_', '330-5', '45137-45139', 'to', 'Supplements[45]']\n",
            "['338-6', '45206-45210', 'quit', '_', '_', '330-6', '45140-45144', 'quit', 'Supplements[45]']\n",
            "['338-7', '45211-45220', 'Methadone', '*', 'Nonmedical prescription drug use', '330-7', '45145-45154', 'Methadone', 'Supplements[45]']\n",
            "['338-8', '45221-45224', 'and', '_', '_', '330-8', '45155-45158', 'and', 'Supplements[45]']\n",
            "['338-9', '45225-45230', 'stick', '_', '_', '330-9', '45159-45164', 'stick', 'Supplements[45]']\n",
            "['338-10', '45231-45233', 'to', '_', '_', '330-10', '45165-45167', 'to', 'Supplements[45]']\n",
            "['338-11', '45234-45240', 'kratom', '*', 'Illegal drug use', '330-11', '45168-45174', 'kratom', 'Supplements[45]']\n",
            "['338-12', '45240-45241', '.', '_', '_', '330-12', '45174-45175', '.', 'Supplements[45]']\n",
            "['347-47', '46076-46077', 'I', '_', '_', '339-47', '46010-46011', 'I', 'Supplements[46]']\n",
            "['347-48', '46078-46084', 'always', '_', '_', '339-48', '46012-46018', 'always', 'Supplements[46]']\n",
            "['347-49', '46085-46089', 'keep', '_', '_', '339-49', '46019-46023', 'keep', 'Supplements[46]']\n",
            "['347-50', '46090-46091', 'a', '_', '_', '339-50', '46024-46025', 'a', 'Supplements[46]']\n",
            "['347-51', '46092-46098', 'record', '_', '_', '339-51', '46026-46032', 'record', 'Supplements[46]']\n",
            "['347-52', '46099-46101', 'on', '_', '_', '339-52', '46033-46035', 'on', 'Supplements[46]']\n",
            "['347-53', '46102-46105', 'how', '_', '_', '339-53', '46036-46039', 'how', 'Supplements[46]']\n",
            "['347-54', '46106-46110', 'much', '_', '_', '339-54', '46040-46044', 'much', 'Supplements[46]']\n",
            "['347-55', '46111-46117', 'kratom', '*', 'Illegal drug use', '339-55', '46045-46051', 'kratom', 'Supplements[46]']\n",
            "['347-56', '46118-46120', 'in', '_', '_', '339-56', '46052-46054', 'in', '_']\n",
            "['347-57', '46121-46130', 'methadone', '*', 'Nonmedical prescription drug use', '339-57', '46055-46064', 'methadone', 'Medicine Intake[47]']\n",
            "['347-58', '46131-46132', 'I', '_', '_', '339-58', '46065-46066', 'I', 'Medicine Intake[47]']\n",
            "['347-59', '46133-46137', 'take', '_', '_', '339-59', '46067-46071', 'take', 'Medicine Intake[47]']\n",
            "['347-60', '46138-46141', 'per', '_', '_', '339-60', '46072-46075', 'per', 'Medicine Intake[47]']\n",
            "['347-61', '46142-46145', 'day', '_', '_', '339-61', '46076-46079', 'day', 'Medicine Intake[47]']\n",
            "['347-62', '46146-46149', 'and', '_', '_', '339-62', '46080-46083', 'and', 'Medicine Intake[47]']\n",
            "['347-63', '46150-46155', 'which', '_', '_', '339-63', '46084-46089', 'which', 'Medicine Intake[47]']\n",
            "['347-64', '46156-46160', 'days', '_', '_', '339-64', '46090-46094', 'days', 'Medicine Intake[47]']\n",
            "['347-65', '46161-46162', 'I', '_', '_', '339-65', '46095-46096', 'I', 'Medicine Intake[47]']\n",
            "['347-66', '46163-46167', 'take', '_', '_', '339-66', '46097-46101', 'take', 'Medicine Intake[47]']\n",
            "['347-67', '46168-46172', 'them', '_', '_', '339-67', '46102-46106', 'them', 'Medicine Intake[47]']\n",
            "['347-68', '46173-46175', 'on', '_', '_', '339-68', '46107-46109', 'on', 'Medicine Intake[47]']\n",
            "['348-46', '46461-46462', 'I', '_', '_', '340-46', '46395-46396', 'I', 'Supplements[48]']\n",
            "['348-47', '46463-46470', 'already', '_', '_', '340-47', '46397-46404', 'already', 'Supplements[48]']\n",
            "['348-48', '46471-46475', 'know', '_', '_', '340-48', '46405-46409', 'know', 'Supplements[48]']\n",
            "['348-49', '46476-46480', 'that', '_', '_', '340-49', '46410-46414', 'that', 'Supplements[48]']\n",
            "['348-50', '46481-46484', \"I'm\", '_', '_', '340-50', '46415-46418', \"I'm\", 'Supplements[48]']\n",
            "['348-51', '46485-46493', 'addicted', '_', '_', '340-51', '46419-46427', 'addicted', 'Supplements[48]']\n",
            "['348-52', '46494-46496', 'to', '_', '_', '340-52', '46428-46430', 'to', 'Supplements[48]']\n",
            "['348-53', '46497-46503', 'kratom', '*', 'Illegal drug use', '340-53', '46431-46437', 'kratom', 'Supplements[48]']\n",
            "['350-1', '46550-46552', 'My', '_', '_', '342-1', '46484-46486', 'My', 'Medicine Intake[49]']\n",
            "['350-2', '46553-46561', 'question', '_', '_', '342-2', '46487-46495', 'question', 'Medicine Intake[49]']\n",
            "['350-3', '46562-46565', 'was', '_', '_', '342-3', '46496-46499', 'was', 'Medicine Intake[49]']\n",
            "['350-4', '46566-46568', 'am', '_', '_', '342-4', '46500-46502', 'am', 'Medicine Intake[49]']\n",
            "['350-5', '46569-46570', 'I', '_', '_', '342-5', '46503-46504', 'I', 'Medicine Intake[49]']\n",
            "['350-6', '46571-46581', 'developing', '_', '_', '342-6', '46505-46515', 'developing', 'Medicine Intake[49]']\n",
            "['350-7', '46582-46583', 'a', '_', '_', '342-7', '46516-46517', 'a', 'Medicine Intake[49]']\n",
            "['350-8', '46584-46594', 'dependency', '_', '_', '342-8', '46518-46528', 'dependency', 'Medicine Intake[49]']\n",
            "['350-9', '46595-46597', 'to', '_', '_', '342-9', '46529-46531', 'to', 'Medicine Intake[49]']\n",
            "['350-10', '46598-46607', 'methadone', '*', 'Nonmedical prescription drug use', '342-10', '46532-46541', 'methadone', 'Medicine Intake[49]']\n",
            "['350-11', '46607-46608', '.', '_', '_', '342-11', '46541-46542', '.', 'Medicine Intake[49]']\n",
            "['351-1', '46610-46611', 'I', '_', '_', '343-1', '46544-46545', 'I', 'Supplements[50]']\n",
            "['351-2', '46612-46617', 'think', '_', '_', '343-2', '46546-46551', 'think', 'Supplements[50]']\n",
            "['351-3', '46618-46619', 'I', '_', '_', '343-3', '46552-46553', 'I', 'Supplements[50]']\n",
            "['351-4', '46620-46622', 'am', '_', '_', '343-4', '46554-46556', 'am', 'Supplements[50]']\n",
            "['351-5', '46623-46625', 'so', '_', '_', '343-5', '46557-46559', 'so', 'Supplements[50]']\n",
            "['351-6', '46626-46629', \"I'm\", '_', '_', '343-6', '46560-46563', \"I'm\", 'Supplements[50]']\n",
            "['351-7', '46630-46635', 'going', '_', '_', '343-7', '46564-46569', 'going', 'Supplements[50]']\n",
            "['351-8', '46636-46638', 'to', '_', '_', '343-8', '46570-46572', 'to', 'Supplements[50]']\n",
            "['351-9', '46639-46643', 'just', '_', '_', '343-9', '46573-46577', 'just', 'Supplements[50]']\n",
            "['351-10', '46644-46649', 'stick', '_', '_', '343-10', '46578-46583', 'stick', 'Supplements[50]']\n",
            "['351-11', '46650-46652', 'to', '_', '_', '343-11', '46584-46586', 'to', 'Supplements[50]']\n",
            "['351-12', '46653-46656', 'the', '_', '_', '343-12', '46587-46590', 'the', 'Supplements[50]']\n",
            "['351-13', '46657-46663', 'Kratom', '*', 'Illegal drug use', '343-13', '46591-46597', 'Kratom', 'Supplements[50]']\n",
            "['351-14', '46664-46667', 'for', '_', '_', '343-14', '46598-46601', 'for', 'Supplements[50]']\n",
            "['351-15', '46668-46671', 'now', '_', '_', '343-15', '46602-46605', 'now', 'Supplements[50]']\n",
            "['354-1', '47091-47092', 'I', '_', '_', '346-1', '47025-47026', 'I', 'Supplements[53]']\n",
            "['354-2', '47093-47095', 'am', '_', '_', '346-2', '47027-47029', 'am', 'Supplements[53]']\n",
            "['354-3', '47096-47099', 'now', '_', '_', '346-3', '47030-47033', 'now', 'Supplements[53]']\n",
            "['354-4', '47100-47106', 'coping', '_', '_', '346-4', '47034-47040', 'coping', 'Supplements[53]']\n",
            "['354-5', '47107-47111', 'with', '_', '_', '346-5', '47041-47045', 'with', 'Supplements[53]']\n",
            "['354-6', '47112-47118', 'Kratom', '*', 'Illegal drug use', '346-6', '47046-47052', 'Kratom', 'Supplements[53]']\n",
            "['354-7', '47119-47120', 'I', '_', '_', '346-7', '47053-47054', 'I', 'Supplements[53]']\n",
            "['354-8', '47121-47123', 'am', '_', '_', '346-8', '47055-47057', 'am', 'Supplements[53]']\n",
            "['354-9', '47124-47128', 'okay', '_', '_', '346-9', '47058-47062', 'okay', 'Supplements[53]']\n",
            "['354-10', '47129-47134', 'being', '_', '_', '346-10', '47063-47068', 'being', 'Supplements[53]']\n",
            "['354-11', '47135-47143', 'addicted', '_', '_', '346-11', '47069-47077', 'addicted', 'Supplements[53]']\n",
            "['354-12', '47144-47146', 'to', '_', '_', '346-12', '47078-47080', 'to', 'Supplements[53]']\n",
            "['354-13', '47147-47153', 'Kratom', '_', '_', '346-13', '47081-47087', 'Kratom', 'Supplements[53]']\n",
            "['354-14', '47154-47156', 'it', '_', '_', '346-14', '47088-47090', 'it', 'Supplements[53]']\n",
            "['354-15', '47157-47159', 'is', '_', '_', '346-15', '47091-47093', 'is', 'Supplements[53]']\n",
            "['354-16', '47160-47161', 'a', '_', '_', '346-16', '47094-47095', 'a', 'Supplements[53]']\n",
            "['354-17', '47162-47165', 'lot', '_', '_', '346-17', '47096-47099', 'lot', 'Supplements[53]']\n",
            "['354-18', '47166-47172', 'better', '_', '_', '346-18', '47100-47106', 'better', 'Supplements[53]']\n",
            "['354-19', '47173-47177', 'than', '_', '_', '346-19', '47107-47111', 'than', 'Supplements[53]']\n",
            "['354-20', '47178-47183', 'being', '_', '_', '346-20', '47112-47117', 'being', 'Supplements[53]']\n",
            "['354-21', '47184-47192', 'addicted', '_', '_', '346-21', '47118-47126', 'addicted', 'Supplements[53]']\n",
            "['354-22', '47193-47195', 'to', '_', '_', '346-22', '47127-47129', 'to', 'Supplements[53]']\n",
            "['354-23', '47196-47200', 'dope', '_', '_', '346-23', '47130-47134', 'dope', 'Supplements[53]']\n",
            "['354-24', '47200-47201', '.', '_', '_', '346-24', '47134-47135', '.', 'Supplements[53]']\n",
            "['356-1', '47273-47275', 'My', '_', '_', '348-1', '47207-47209', 'My', 'Medicine Intake[54]']\n",
            "['356-2', '47276-47280', 'only', '_', '_', '348-2', '47210-47214', 'only', 'Medicine Intake[54]']\n",
            "['356-3', '47281-47289', 'question', '_', '_', '348-3', '47215-47223', 'question', 'Medicine Intake[54]']\n",
            "['356-4', '47290-47293', 'was', '_', '_', '348-4', '47224-47227', 'was', 'Medicine Intake[54]']\n",
            "['356-5', '47294-47296', 'am', '_', '_', '348-5', '47228-47230', 'am', 'Medicine Intake[54]']\n",
            "['356-6', '47297-47298', 'I', '_', '_', '348-6', '47231-47232', 'I', 'Medicine Intake[54]']\n",
            "['356-7', '47299-47306', 'getting', '_', '_', '348-7', '47233-47240', 'getting', 'Medicine Intake[54]']\n",
            "['356-8', '47307-47308', 'a', '_', '_', '348-8', '47241-47242', 'a', 'Medicine Intake[54]']\n",
            "['356-9', '47309-47319', 'dependency', '_', '_', '348-9', '47243-47253', 'dependency', 'Medicine Intake[54]']\n",
            "['356-10', '47320-47322', 'to', '_', '_', '348-10', '47254-47256', 'to', 'Medicine Intake[54]']\n",
            "['356-11', '47323-47332', 'methadone', '*', 'Nonmedical prescription drug use', '348-11', '47257-47266', 'methadone', 'Medicine Intake[54]']\n",
            "['357-1', '47385-47387', 'So', '_', '_', '349-1', '47319-47321', 'So', 'Supplements[55]']\n",
            "['357-2', '47388-47389', 'I', '_', '_', '349-2', '47322-47323', 'I', 'Supplements[55]']\n",
            "['357-3', '47390-47392', 'am', '_', '_', '349-3', '47324-47326', 'am', 'Supplements[55]']\n",
            "['357-4', '47393-47398', 'going', '_', '_', '349-4', '47327-47332', 'going', 'Supplements[55]']\n",
            "['357-5', '47399-47401', 'to', '_', '_', '349-5', '47333-47335', 'to', 'Supplements[55]']\n",
            "['357-6', '47402-47406', 'stop', '_', '_', '349-6', '47336-47340', 'stop', 'Supplements[55]']\n",
            "['357-7', '47407-47413', 'taking', '_', '_', '349-7', '47341-47347', 'taking', 'Supplements[55]']\n",
            "['357-8', '47414-47416', 'it', '_', '_', '349-8', '47348-47350', 'it', 'Supplements[55]']\n",
            "['357-9', '47417-47420', 'and', '_', '_', '349-9', '47351-47354', 'and', 'Supplements[55]']\n",
            "['357-10', '47421-47429', 'continue', '_', '_', '349-10', '47355-47363', 'continue', 'Supplements[55]']\n",
            "['357-11', '47430-47433', 'the', '_', '_', '349-11', '47364-47367', 'the', 'Supplements[55]']\n",
            "['357-12', '47434-47440', 'Kratom', '*', 'Illegal drug use', '349-12', '47368-47374', 'Kratom', 'Supplements[55]']\n",
            "['413-57', '56193-56196', 'but', '_', '_', '405-57', '56127-56130', 'but', 'Supplements[61]']\n",
            "['413-58', '56197-56203', 'people', '_', '_', '405-58', '56131-56137', 'people', 'Supplements[61]']\n",
            "['413-59', '56204-56208', 'like', '_', '_', '405-59', '56138-56142', 'like', 'Supplements[61]']\n",
            "['413-60', '56209-56215', 'myself', '_', '_', '405-60', '56143-56149', 'myself', 'Supplements[61]']\n",
            "['413-61', '56216-56219', 'who', '_', '_', '405-61', '56150-56153', 'who', 'Supplements[61]']\n",
            "['413-62', '56220-56223', 'use', '_', '_', '405-62', '56154-56157', 'use', 'Supplements[61]']\n",
            "['413-63', '56224-56230', 'kratom', '*', 'Illegal drug use', '405-63', '56158-56164', 'kratom', 'Supplements[61]']\n",
            "['413-64', '56231-56233', 'to', '_', '_', '405-64', '56165-56167', 'to', 'Supplements[61]']\n",
            "['413-65', '56234-56238', 'stop', '_', '_', '405-65', '56168-56172', 'stop', 'Supplements[61]']\n",
            "['413-66', '56239-56245', 'heroin', '*', 'Illegal drug use', '405-66', '56173-56179', 'heroin', 'Supplements[61]']\n",
            "['413-67', '56246-56249', 'use', '_', '_', '405-67', '56180-56183', 'use', 'Supplements[61]']\n",
            "['414-1', '56252-56253', 'I', '_', '_', '406-1', '56186-56187', 'I', 'Supplements[62]']\n",
            "['414-2', '56254-56256', 'am', '_', '_', '406-2', '56188-56190', 'am', 'Supplements[62]']\n",
            "['414-3', '56257-56258', '5', '_', '_', '406-3', '56191-56192', '5', 'Supplements[62]']\n",
            "['414-4', '56259-56265', 'months', '_', '_', '406-4', '56193-56199', 'months', 'Supplements[62]']\n",
            "['414-5', '56266-56271', 'clean', '_', '_', '406-5', '56200-56205', 'clean', 'Supplements[62]']\n",
            "['414-6', '56272-56275', 'and', '_', '_', '406-6', '56206-56209', 'and', 'Supplements[62]']\n",
            "['414-7', '56276-56280', 'only', '_', '_', '406-7', '56210-56214', 'only', 'Supplements[62]']\n",
            "['414-8', '56281-56288', 'because', '_', '_', '406-8', '56215-56222', 'because', 'Supplements[62]']\n",
            "['414-9', '56289-56291', 'of', '_', '_', '406-9', '56223-56225', 'of', 'Supplements[62]']\n",
            "['414-10', '56292-56298', 'kratom', '*', 'Illegal drug use', '406-10', '56226-56232', 'kratom', 'Supplements[62]']\n",
            "['423-1', '56940-56941', 'I', '_', '_', '415-1', '56874-56875', 'I', 'Supplements[65]']\n",
            "['423-2', '56942-56947', 'found', '_', '_', '415-2', '56876-56881', 'found', 'Supplements[65]']\n",
            "['423-3', '56948-56954', 'kratom', '*', 'Illegal drug use', '415-3', '56882-56888', 'kratom', 'Supplements[65]']\n",
            "['423-4', '56954-56955', ',', '_', '_', '415-4', '56888-56889', ',', 'Supplements[65]']\n",
            "['423-5', '56956-56959', 'got', '_', '_', '415-5', '56890-56893', 'got', 'Supplements[65]']\n",
            "['423-6', '56960-56961', 'a', '_', '_', '415-6', '56894-56895', 'a', 'Supplements[65]']\n",
            "['423-7', '56962-56965', 'job', '_', '_', '415-7', '56896-56899', 'job', 'Supplements[65]']\n",
            "['423-8', '56965-56966', ',', '_', '_', '415-8', '56899-56900', ',', 'Supplements[65]']\n",
            "['423-9', '56967-56968', 'a', '_', '_', '415-9', '56901-56902', 'a', 'Supplements[65]']\n",
            "['423-10', '56969-56974', 'place', '_', '_', '415-10', '56903-56908', 'place', 'Supplements[65]']\n",
            "['423-11', '56975-56977', 'to', '_', '_', '415-11', '56909-56911', 'to', 'Supplements[65]']\n",
            "['423-12', '56978-56982', 'stay', '_', '_', '415-12', '56912-56916', 'stay', 'Supplements[65]']\n",
            "['423-13', '56983-56986', 'and', '_', '_', '415-13', '56917-56920', 'and', 'Supplements[65]']\n",
            "['423-14', '56987-56993', 'gained', '_', '_', '415-14', '56921-56927', 'gained', 'Supplements[65]']\n",
            "['423-15', '56994-56999', 'about', '_', '_', '415-15', '56928-56933', 'about', 'Supplements[65]']\n",
            "['423-16', '57000-57002', '50', '_', '_', '415-16', '56934-56936', '50', 'Supplements[65]']\n",
            "['423-17', '57003-57009', 'pounds', '_', '_', '415-17', '56937-56943', 'pounds', 'Supplements[65]']\n",
            "['432-51', '57920-57929', 'Methadone', '*', 'Nonmedical prescription drug use', '424-51', '57854-57863', 'Methadone', 'Medicine Intake[66]']\n",
            "['432-52', '57930-57933', 'was', '_', '_', '424-52', '57864-57867', 'was', 'Medicine Intake[66]']\n",
            "['432-53', '57934-57938', 'hell', '_', '_', '424-53', '57868-57872', 'hell', 'Medicine Intake[66]']\n",
            "['432-54', '57938-57939', '.', '_', '_', '424-54', '57872-57873', '.', 'Medicine Intake[66]']\n",
            "['438-109', '58690-58694', \"I've\", '_', '_', '430-109', '58624-58628', \"I've\", 'IDU[67]']\n",
            "['438-110', '58695-58698', 'had', '_', '_', '430-110', '58629-58632', 'had', 'IDU[67]']\n",
            "['438-111', '58699-58706', 'similar', '_', '_', '430-111', '58633-58640', 'similar', 'IDU[67]']\n",
            "['438-112', '58707-58718', 'experiences', '_', '_', '430-112', '58641-58652', 'experiences', 'IDU[67]']\n",
            "['438-113', '58719-58724', \"we're\", '_', '_', '430-113', '58653-58658', \"we're\", 'IDU[67]']\n",
            "['438-114', '58725-58729', 'just', '_', '_', '430-114', '58659-58663', 'just', 'IDU[67]']\n",
            "['438-115', '58730-58737', 'smoking', '*', 'IDU: Method of intake & frequency and amount', '430-115', '58664-58671', 'smoking', 'IDU[67]']\n",
            "['438-116', '58738-58742', 'weed', '*', 'Illegal drug use', '430-116', '58672-58676', 'weed', 'IDU[67]']\n",
            "['441-1', '59510-59511', 'I', '_', '_', '433-1', '59444-59445', 'I', 'IDU[70]']\n",
            "['441-2', '59512-59519', 'noticed', '_', '_', '433-2', '59446-59453', 'noticed', 'IDU[70]']\n",
            "['441-3', '59520-59522', 'if', '_', '_', '433-3', '59454-59456', 'if', 'IDU[70]']\n",
            "['441-4', '59523-59524', 'I', '_', '_', '433-4', '59457-59458', 'I', 'IDU[70]']\n",
            "['441-5', '59525-59529', 'take', '_', '_', '433-5', '59459-59463', 'take', 'IDU[70]']\n",
            "['441-6', '59530-59542', 'psychedelics', '*', 'Illegal drug use', '433-6', '59464-59476', 'psychedelics', 'IDU[70]']\n",
            "['441-7', '59543-59547', 'more', '_', '_', '433-7', '59477-59481', 'more', 'IDU[70]']\n",
            "['441-8', '59548-59552', 'than', '_', '_', '433-8', '59482-59486', 'than', 'IDU[70]']\n",
            "['441-9', '59553-59557', 'once', '_', '_', '433-9', '59487-59491', 'once', 'IDU[70]']\n",
            "['441-10', '59558-59563', 'every', '_', '_', '433-10', '59492-59497', 'every', 'IDU[70]']\n",
            "['441-11', '59564-59570', 'couple', '_', '_', '433-11', '59498-59504', 'couple', 'IDU[70]']\n",
            "['441-12', '59571-59577', 'months', '_', '_', '433-12', '59505-59511', 'months', 'IDU[70]']\n",
            "['441-13', '59578-59580', 'it', '_', '_', '433-13', '59512-59514', 'it', 'IDU[70]']\n",
            "['441-14', '59581-59589', 'actually', '_', '_', '433-14', '59515-59523', 'actually', 'IDU[70]']\n",
            "['441-15', '59590-59595', 'makes', '_', '_', '433-15', '59524-59529', 'makes', 'IDU[70]']\n",
            "['441-16', '59596-59598', 'my', '_', '_', '433-16', '59530-59532', 'my', 'IDU[70]']\n",
            "['441-17', '59599-59612', 'schizophrenia', '*', 'Medical condition', '433-17', '59533-59546', 'schizophrenia', 'IDU[70]']\n",
            "['441-18', '59613-59618', 'worse', '_', '_', '433-18', '59547-59552', 'worse', 'IDU[70]']\n",
            "['467-1', '64725-64729', \"I've\", '_', '_', '459-1', '64654-64658', \"I've\", 'Supplements[79]']\n",
            "['467-2', '64730-64734', 'been', '_', '_', '459-2', '64659-64663', 'been', 'Supplements[79]']\n",
            "['467-3', '64735-64741', 'taking', '_', '_', '459-3', '64664-64670', 'taking', 'Supplements[79]']\n",
            "['467-4', '64742-64748', 'kratom', '*', 'Illegal drug use', '459-4', '64671-64677', 'kratom', 'Supplements[79]']\n",
            "['467-5', '64749-64755', 'lately', '_', '_', '459-5', '64678-64684', 'lately', 'Supplements[79]']\n",
            "['467-6', '64756-64759', 'and', '_', '_', '459-6', '64685-64688', 'and', 'Supplements[79]']\n",
            "['467-7', '64760-64762', 'it', '_', '_', '459-7', '64689-64691', 'it', 'Supplements[79]']\n",
            "['467-8', '64763-64767', 'help', '_', '_', '459-8', '64692-64696', 'help', 'Supplements[79]']\n",
            "['467-9', '64768-64772', 'keep', '_', '_', '459-9', '64697-64701', 'keep', 'Supplements[79]']\n",
            "['467-10', '64773-64775', 'my', '_', '_', '459-10', '64702-64704', 'my', 'Supplements[79]']\n",
            "['467-11', '64776-64780', 'mind', '_', '_', '459-11', '64705-64709', 'mind', 'Supplements[79]']\n",
            "['467-12', '64781-64783', 'of', '_', '_', '459-12', '64710-64712', 'of', 'Supplements[79]']\n",
            "['467-13', '64784-64785', 'H', '_', '_', '459-13', '64713-64714', 'H', 'Supplements[79]']\n",
            "['467-14', '64786-64789', 'and', '_', '_', '459-14', '64715-64718', 'and', 'Supplements[79]']\n",
            "['467-15', '64790-64795', 'other', '_', '_', '459-15', '64719-64724', 'other', 'Supplements[79]']\n",
            "['467-16', '64796-64801', 'stong', '_', '_', '459-16', '64725-64730', 'stong', 'Supplements[79]']\n",
            "['467-17', '64802-64809', 'opiates', '_', '_', '459-17', '64731-64738', 'opiates', 'Supplements[79]']\n",
            "['468-1', '64812-64813', 'I', '_', '_', '460-1', '64741-64742', 'I', 'Medicine Intake Dosage/Frequency[80]']\n",
            "['468-2', '64814-64818', 'take', '_', '_', '460-2', '64743-64747', 'take', 'Medicine Intake Dosage/Frequency[80]']\n",
            "['468-3', '64819-64828', 'methadone', '*', 'Nonmedical prescription drug use', '460-3', '64748-64757', 'methadone', 'Medicine Intake Dosage/Frequency[80]']\n",
            "['468-4', '64829-64833', 'like', '_', '_', '460-4', '64758-64762', 'like', 'Medicine Intake Dosage/Frequency[80]']\n",
            "['468-5', '64834-64838', 'once', '_', '_', '460-5', '64763-64767', 'once', 'Medicine Intake Dosage/Frequency[80]']\n",
            "['468-6', '64839-64844', 'every', '_', '_', '460-6', '64768-64773', 'every', 'Medicine Intake Dosage/Frequency[80]']\n",
            "['468-7', '64845-64851', 'couple', '_', '_', '460-7', '64774-64780', 'couple', 'Medicine Intake Dosage/Frequency[80]']\n",
            "['468-8', '64852-64857', 'weeks', '_', '_', '460-8', '64781-64786', 'weeks', 'Medicine Intake Dosage/Frequency[80]']\n",
            "['468-9', '64858-64860', 'or', '_', '_', '460-9', '64787-64789', 'or', 'Medicine Intake Dosage/Frequency[80]']\n",
            "['468-10', '64861-64865', 'when', '_', '_', '460-10', '64790-64794', 'when', 'Medicine Intake Dosage/Frequency[80]']\n",
            "['468-11', '64866-64870', 'ever', '_', '_', '460-11', '64795-64799', 'ever', 'Medicine Intake Dosage/Frequency[80]']\n",
            "['468-12', '64871-64872', 'i', '_', '_', '460-12', '64800-64801', 'i', 'Medicine Intake Dosage/Frequency[80]']\n",
            "['468-13', '64873-64878', 'crave', '_', '_', '460-13', '64802-64807', 'crave', 'Medicine Intake Dosage/Frequency[80]']\n",
            "['468-14', '64879-64880', 'h', '_', '_', '460-14', '64808-64809', 'h', 'Medicine Intake Dosage/Frequency[80]']\n",
            "['468-15', '64881-64883', 'to', '_', '_', '460-15', '64810-64812', 'to', 'Medicine Intake Dosage/Frequency[80]']\n",
            "['468-16', '64884-64888', 'wear', '_', '_', '460-16', '64813-64817', 'wear', 'Medicine Intake Dosage/Frequency[80]']\n",
            "['468-17', '64889-64892', 'the', '_', '_', '460-17', '64818-64821', 'the', 'Medicine Intake Dosage/Frequency[80]']\n",
            "['468-18', '64893-64899', 'kratom', '_', '_', '460-18', '64822-64828', 'kratom', 'Medicine Intake Dosage/Frequency[80]']\n",
            "['468-19', '64900-64905', \"ain't\", '_', '_', '460-19', '64829-64834', \"ain't\", 'Medicine Intake Dosage/Frequency[80]']\n",
            "['468-20', '64906-64913', 'cutting', '_', '_', '460-20', '64835-64842', 'cutting', 'Medicine Intake Dosage/Frequency[80]']\n",
            "['468-21', '64914-64916', 'it', '_', '_', '460-21', '64843-64845', 'it', 'Medicine Intake Dosage/Frequency[80]']\n",
            "['523-1', '73697-73701', 'Also', '_', '_', '508-1', '73609-73613', 'Also', 'Supplements[83]']\n",
            "['523-2', '73702-73708', 'Kratom', '*', 'Illegal drug use', '508-2', '73614-73620', 'Kratom', 'Supplements[83]']\n",
            "['523-3', '73709-73713', 'dude', '_', '_', '508-3', '73621-73625', 'dude', 'Supplements[83]']\n",
            "['523-4', '73713-73714', ',', '_', '_', '508-4', '73625-73626', ',', 'Supplements[83]']\n",
            "['523-5', '73715-73716', 'I', '_', '_', '508-5', '73627-73628', 'I', 'Supplements[83]']\n",
            "['523-6', '73717-73725', \"wouldn't\", '_', '_', '508-6', '73629-73637', \"wouldn't\", 'Supplements[83]']\n",
            "['523-7', '73726-73730', 'have', '_', '_', '508-7', '73638-73642', 'have', 'Supplements[83]']\n",
            "['523-8', '73731-73735', 'been', '_', '_', '508-8', '73643-73647', 'been', 'Supplements[83]']\n",
            "['523-9', '73736-73740', 'able', '_', '_', '508-9', '73648-73652', 'able', 'Supplements[83]']\n",
            "['523-10', '73741-73743', 'to', '_', '_', '508-10', '73653-73655', 'to', 'Supplements[83]']\n",
            "['523-11', '73744-73746', 'do', '_', '_', '508-11', '73656-73658', 'do', 'Supplements[83]']\n",
            "['523-12', '73747-73754', 'without', '_', '_', '508-12', '73659-73666', 'without', 'Supplements[83]']\n",
            "['523-13', '73755-73757', 'it', '_', '_', '508-13', '73667-73669', 'it', 'Supplements[83]']\n",
            "['643-1', '89706-89707', 'I', '_', '_', '628-1', '89618-89619', 'I', 'Supplements[93]']\n",
            "['643-2', '89708-89710', 'am', '_', '_', '628-2', '89620-89622', 'am', 'Supplements[93]']\n",
            "['643-3', '89711-89719', 'actually', '_', '_', '628-3', '89623-89631', 'actually', 'Supplements[93]']\n",
            "['643-4', '89720-89723', 'off', '_', '_', '628-4', '89632-89635', 'off', 'Supplements[93]']\n",
            "['643-5', '89724-89726', 'of', '_', '_', '628-5', '89636-89638', 'of', 'Supplements[93]']\n",
            "['643-6', '89727-89736', 'methadone', '_', '_', '628-6', '89639-89648', 'methadone', 'Supplements[93]']\n",
            "['643-7', '89737-89740', 'now', '_', '_', '628-7', '89649-89652', 'now', 'Supplements[93]']\n",
            "['643-8', '89741-89747', 'thanks', '_', '_', '628-8', '89653-89659', 'thanks', 'Supplements[93]']\n",
            "['643-9', '89748-89750', 'to', '_', '_', '628-9', '89660-89662', 'to', 'Supplements[93]']\n",
            "['643-10', '89751-89761', 'meditation', '_', '_', '628-10', '89663-89673', 'meditation', 'Supplements[93]']\n",
            "['643-11', '89761-89762', ',', '_', '_', '628-11', '89673-89674', ',', 'Supplements[93]']\n",
            "['643-12', '89763-89769', 'kratom', '*', 'Illegal drug use', '628-12', '89675-89681', 'kratom', 'Supplements[93]']\n",
            "['643-13', '89770-89773', 'and', '_', '_', '628-13', '89682-89685', 'and', 'Supplements[93]']\n",
            "['643-14', '89774-89778', 'yoga', '_', '_', '628-14', '89686-89690', 'yoga', 'Supplements[93]']\n",
            "['696-1', '94231-94235', 'Like', '_', '_', '681-1', '94143-94147', 'Like', 'Medicine Intake Dosage/Frequency[101]']\n",
            "['696-2', '94236-94239', 'you', '_', '_', '681-2', '94148-94151', 'you', 'Medicine Intake Dosage/Frequency[101]']\n",
            "['696-3', '94240-94241', 'I', '_', '_', '681-3', '94152-94153', 'I', 'Medicine Intake Dosage/Frequency[101]']\n",
            "['696-4', '94242-94245', 'had', '_', '_', '681-4', '94154-94157', 'had', 'Medicine Intake Dosage/Frequency[101]']\n",
            "['696-5', '94246-94250', 'some', '_', '_', '681-5', '94158-94162', 'some', 'Medicine Intake Dosage/Frequency[101]']\n",
            "['696-6', '94251-94260', 'methadone', '*', 'Nonmedical prescription drug use', '681-6', '94163-94172', 'methadone', 'Medicine Intake Dosage/Frequency[101]']\n",
            "['696-7', '94261-94266', 'saved', '*', 'NMPDU: source of drug', '681-7', '94173-94178', 'saved', 'Medicine Intake Dosage/Frequency[101]']\n",
            "['696-8', '94267-94271', 'back', '_', '_', '681-8', '94179-94183', 'back', 'Medicine Intake Dosage/Frequency[101]']\n",
            "['696-9', '94272-94276', 'that', '_', '_', '681-9', '94184-94188', 'that', 'Medicine Intake Dosage/Frequency[101]']\n",
            "['696-10', '94277-94278', 'I', '_', '_', '681-10', '94189-94190', 'I', 'Medicine Intake Dosage/Frequency[101]']\n",
            "['696-11', '94279-94283', 'used', '_', '_', '681-11', '94191-94195', 'used', 'Medicine Intake Dosage/Frequency[101]']\n",
            "['696-12', '94284-94287', 'for', '_', '_', '681-12', '94196-94199', 'for', 'Medicine Intake Dosage/Frequency[101]']\n",
            "['696-13', '94288-94293', 'about', '_', '_', '681-13', '94200-94205', 'about', 'Medicine Intake Dosage/Frequency[101]']\n",
            "['696-14', '94294-94296', '15', '_', '_', '681-14', '94206-94208', '15', 'Medicine Intake Dosage/Frequency[101]']\n",
            "['696-15', '94297-94301', 'days', '_', '_', '681-15', '94209-94213', 'days', 'Medicine Intake Dosage/Frequency[101]']\n",
            "['714-1', '96644-96648', 'Also', '_', '_', '699-1', '96556-96560', 'Also', 'Supplements[103]']\n",
            "['714-2', '96649-96655', 'Kratom', '*', 'Illegal drug use', '699-2', '96561-96567', 'Kratom', 'Supplements[103]']\n",
            "['714-3', '96656-96662', 'helped', '_', '_', '699-3', '96568-96574', 'helped', 'Supplements[103]']\n",
            "['714-4', '96663-96664', 'a', '_', '_', '699-4', '96575-96576', 'a', 'Supplements[103]']\n",
            "['714-5', '96665-96668', 'lot', '_', '_', '699-5', '96577-96580', 'lot', 'Supplements[103]']\n",
            "['732-1', '98534-98535', 'I', '_', '_', '717-1', '98446-98447', 'I', 'IDU Co-ingestion[105]']\n",
            "['732-2', '98536-98539', 'had', '_', '_', '717-2', '98448-98451', 'had', 'IDU Co-ingestion[105]']\n",
            "['732-3', '98540-98541', 'a', '_', '_', '717-3', '98452-98453', 'a', 'IDU Co-ingestion[105]']\n",
            "['732-4', '98542-98547', 'outer', '_', '_', '717-4', '98454-98459', 'outer', 'IDU Co-ingestion[105]']\n",
            "['732-5', '98548-98552', 'body', '_', '_', '717-5', '98460-98464', 'body', 'IDU Co-ingestion[105]']\n",
            "['732-6', '98553-98563', 'experience', '_', '_', '717-6', '98465-98475', 'experience', 'IDU Co-ingestion[105]']\n",
            "['732-7', '98564-98567', 'one', '_', '_', '717-7', '98476-98479', 'one', 'IDU Co-ingestion[105]']\n",
            "['732-8', '98568-98572', 'time', '_', '_', '717-8', '98480-98484', 'time', 'IDU Co-ingestion[105]']\n",
            "['732-9', '98573-98577', 'when', '_', '_', '717-9', '98485-98489', 'when', 'IDU Co-ingestion[105]']\n",
            "['732-10', '98578-98579', 'I', '_', '_', '717-10', '98490-98491', 'I', 'IDU Co-ingestion[105]']\n",
            "['732-11', '98580-98585', 'mixed', '*[21]', 'NMPDU: illegal drug use[21]', '717-11', '98492-98497', 'mixed', 'IDU Co-ingestion[105]']\n",
            "['732-12', '98586-98589', 'DXM', '*[21]', 'NMPDU: illegal drug use[21]', '717-12', '98498-98501', 'DXM', 'IDU Co-ingestion[105]']\n",
            "['732-13', '98590-98594', 'with', '*[21]', 'NMPDU: illegal drug use[21]', '717-13', '98502-98506', 'with', 'IDU Co-ingestion[105]']\n",
            "['732-14', '98595-98598', 'LSD', '*[21]', 'NMPDU: illegal drug use[21]', '717-14', '98507-98510', 'LSD', 'IDU Co-ingestion[105]']\n",
            "['734-1', '98678-98679', 'I', '_', '_', '719-1', '98590-98591', 'I', 'IDU Co-Ingestion[106]']\n",
            "['734-2', '98680-98684', 'took', '_', '_', '719-2', '98592-98596', 'took', 'IDU Co-Ingestion[106]']\n",
            "['734-3', '98685-98688', '200', '*[22]', 'NMPDU: amount[22]', '719-3', '98597-98600', '200', 'IDU Co-Ingestion[106]']\n",
            "['734-4', '98689-98691', 'mg', '*[22]', 'NMPDU: amount[22]', '719-4', '98601-98603', 'mg', 'IDU Co-Ingestion[106]']\n",
            "['734-5', '98692-98694', 'of', '_', '_', '719-5', '98604-98606', 'of', 'IDU Co-Ingestion[106]']\n",
            "['734-6', '98695-98698', 'DXM', '*', 'Nonmedical prescription drug use', '719-6', '98607-98610', 'DXM', 'IDU Co-Ingestion[106]']\n",
            "['734-7', '98698-98699', ',', '_', '_', '719-7', '98610-98611', ',', 'IDU Co-Ingestion[106]']\n",
            "['734-8', '98700-98703', 'and', '_', '_', '719-8', '98612-98615', 'and', 'IDU Co-Ingestion[106]']\n",
            "['734-9', '98704-98707', '800', '*[23]', 'IDU: Method of intake & frequency and amount[23]', '719-9', '98616-98619', '800', 'IDU Co-Ingestion[106]']\n",
            "['734-10', '98708-98718', 'micrograms', '*[23]', 'IDU: Method of intake & frequency and amount[23]', '719-10', '98620-98630', 'micrograms', 'IDU Co-Ingestion[106]']\n",
            "['734-11', '98719-98721', 'of', '_', '_', '719-11', '98631-98633', 'of', 'IDU Co-Ingestion[106]']\n",
            "['734-12', '98722-98725', 'LSD', '*', 'Illegal drug use', '719-12', '98634-98637', 'LSD', 'IDU Co-Ingestion[106]']\n",
            "['743-12', '99852-99859', 'blacked', '*[28]', 'Abuse/Misuse Clinical Impacts[28]', '728-12', '99764-99771', 'blacked', 'NMPDU Amount[109]']\n",
            "['743-13', '99860-99863', 'out', '*[28]', 'Abuse/Misuse Clinical Impacts[28]', '728-13', '99772-99775', 'out', 'NMPDU Amount[109]']\n",
            "['814-1', '108370-108372', 'Im', '_', '_', '799-1', '108282-108284', 'Im', 'Supplements[117]']\n",
            "['814-2', '108373-108374', '8', '_', '_', '799-2', '108285-108286', '8', 'Supplements[117]']\n",
            "['814-3', '108375-108381', 'months', '_', '_', '799-3', '108287-108293', 'months', 'Supplements[117]']\n",
            "['814-4', '108382-108387', 'clean', '_', '_', '799-4', '108294-108299', 'clean', 'Supplements[117]']\n",
            "['814-5', '108388-108392', 'from', '_', '_', '799-5', '108300-108304', 'from', 'Supplements[117]']\n",
            "['814-6', '108393-108399', 'heroin', '*', 'Illegal drug use', '799-6', '108305-108311', 'heroin', 'Supplements[117]']\n",
            "['814-7', '108400-108406', 'thanks', '_', '_', '799-7', '108312-108318', 'thanks', 'Supplements[117]']\n",
            "['814-8', '108407-108409', 'to', '_', '_', '799-8', '108319-108321', 'to', 'Supplements[117]']\n",
            "['814-9', '108410-108416', 'kratom', '*', 'Illegal drug use', '799-9', '108322-108328', 'kratom', 'Supplements[117]']\n",
            "['856-126', '115471-115477', 'Kratom', '*', 'Illegal drug use', '841-126', '115383-115389', 'Kratom', 'Supplements[122]']\n",
            "['856-127', '115478-115481', 'has', '_', '_', '841-127', '115390-115393', 'has', 'Supplements[122]']\n",
            "['856-128', '115482-115488', 'helped', '_', '_', '841-128', '115394-115400', 'helped', 'Supplements[122]']\n",
            "['856-129', '115489-115491', 'me', '_', '_', '841-129', '115401-115403', 'me', 'Supplements[122]']\n",
            "['856-130', '115492-115496', 'alot', '_', '_', '841-130', '115404-115408', 'alot', 'Supplements[122]']\n",
            "['856-131', '115497-115499', 'in', '_', '_', '841-131', '115409-115411', 'in', 'Supplements[122]']\n",
            "['856-132', '115500-115502', 'my', '_', '_', '841-132', '115412-115414', 'my', 'Supplements[122]']\n",
            "['856-133', '115503-115513', 'recovering', '_', '_', '841-133', '115415-115425', 'recovering', 'Supplements[122]']\n",
            "['889-1', '119563-119564', 'I', '_', '_', '874-1', '119475-119476', 'I', 'Supplements[127]']\n",
            "['889-2', '119565-119568', 'was', '_', '_', '874-2', '119477-119480', 'was', 'Supplements[127]']\n",
            "['889-3', '119569-119571', 'on', '_', '_', '874-3', '119481-119483', 'on', 'Supplements[127]']\n",
            "['889-4', '119572-119578', 'Kratom', '*', 'Illegal drug use', '874-4', '119484-119490', 'Kratom', 'Supplements[127]']\n",
            "['889-5', '119579-119582', 'for', '_', '_', '874-5', '119491-119494', 'for', 'Supplements[127]']\n",
            "['889-6', '119583-119584', 'a', '_', '_', '874-6', '119495-119496', 'a', 'Supplements[127]']\n",
            "['889-7', '119585-119589', 'year', '_', '_', '874-7', '119497-119501', 'year', 'Supplements[127]']\n",
            "['889-8', '119590-119593', 'and', '_', '_', '874-8', '119502-119505', 'and', 'Supplements[127]']\n",
            "['889-9', '119594-119599', 'after', '_', '_', '874-9', '119506-119511', 'after', 'Supplements[127]']\n",
            "['889-10', '119600-119601', 'I', '_', '_', '874-10', '119512-119513', 'I', 'Supplements[127]']\n",
            "['889-11', '119602-119606', 'take', '_', '_', '874-11', '119514-119518', 'take', 'Supplements[127]']\n",
            "['889-12', '119607-119610', 'her', '_', '_', '874-12', '119519-119522', 'her', 'Supplements[127]']\n",
            "['889-13', '119611-119615', 'down', '_', '_', '874-13', '119523-119527', 'down', 'Supplements[127]']\n",
            "['889-14', '119616-119618', 'to', '_', '_', '874-14', '119528-119530', 'to', 'Supplements[127]']\n",
            "['889-15', '119619-119621', '15', '_', '_', '874-15', '119531-119533', '15', 'Supplements[127]']\n",
            "['889-16', '119622-119627', 'grams', '_', '_', '874-16', '119534-119539', 'grams', 'Supplements[127]']\n",
            "['889-17', '119628-119631', 'was', '_', '_', '874-17', '119540-119543', 'was', 'Supplements[127]']\n",
            "['889-18', '119632-119636', 'able', '_', '_', '874-18', '119544-119548', 'able', 'Supplements[127]']\n",
            "['889-19', '119637-119639', 'to', '_', '_', '874-19', '119549-119551', 'to', 'Supplements[127]']\n",
            "['889-20', '119640-119644', 'quit', '_', '_', '874-20', '119552-119556', 'quit', 'Supplements[127]']\n",
            "['889-21', '119645-119647', 'it', '_', '_', '874-21', '119557-119559', 'it', 'Supplements[127]']\n",
            "['889-22', '119648-119652', 'with', '_', '_', '874-22', '119560-119564', 'with', 'Supplements[127]']\n",
            "['889-23', '119653-119655', 'no', '_', '_', '874-23', '119565-119567', 'no', 'Supplements[127]']\n",
            "['889-24', '119656-119663', 'problem', '_', '_', '874-24', '119568-119575', 'problem', 'Supplements[127]']\n",
            "['889-25', '119664-119666', 'at', '_', '_', '874-25', '119576-119578', 'at', 'Supplements[127]']\n",
            "['889-26', '119667-119670', 'all', '_', '_', '874-26', '119579-119582', 'all', 'Supplements[127]']\n",
            "['933-1', '124996-124997', 'I', '_', '_', '918-1', '124908-124909', 'I', 'Supplements[134]']\n",
            "['933-2', '124998-125002', 'have', '_', '_', '918-2', '124910-124914', 'have', 'Supplements[134]']\n",
            "['933-3', '125003-125007', 'been', '_', '_', '918-3', '124915-124919', 'been', 'Supplements[134]']\n",
            "['933-4', '125008-125014', 'taking', '_', '_', '918-4', '124920-124926', 'taking', 'Supplements[134]']\n",
            "['933-5', '125015-125021', 'Kratom', '*', 'Illegal drug use', '918-5', '124927-124933', 'Kratom', 'Supplements[134]']\n",
            "['933-6', '125022-125025', 'for', '_', '_', '918-6', '124934-124937', 'for', 'Supplements[134]']\n",
            "['933-7', '125026-125027', 'a', '_', '_', '918-7', '124938-124939', 'a', 'Supplements[134]']\n",
            "['933-8', '125028-125033', 'while', '_', '_', '918-8', '124940-124945', 'while', 'Supplements[134]']\n",
            "['933-9', '125034-125037', 'now', '_', '_', '918-9', '124946-124949', 'now', 'Supplements[134]']\n",
            "['954-46', '127353-127354', 'I', '_', '_', '939-46', '127265-127266', 'I', 'Supplements[136]']\n",
            "['954-47', '127355-127359', 'love', '_', '_', '939-47', '127267-127271', 'love', 'Supplements[136]']\n",
            "['954-48', '127360-127366', 'Kratom', '*', 'Illegal drug use', '939-48', '127272-127278', 'Kratom', 'Supplements[136]']\n",
            "['954-49', '127367-127373', 'though', '_', '_', '939-49', '127279-127285', 'though', 'Supplements[136]']\n",
            "['954-50', '127374-127377', 'and', '_', '_', '939-50', '127286-127289', 'and', 'Supplements[136]']\n",
            "['954-51', '127378-127379', 'I', '_', '_', '939-51', '127290-127291', 'I', 'Supplements[136]']\n",
            "['954-52', '127380-127390', 'definitely', '_', '_', '939-52', '127292-127302', 'definitely', 'Supplements[136]']\n",
            "['954-53', '127391-127396', \"don't\", '_', '_', '939-53', '127303-127308', \"don't\", 'Supplements[136]']\n",
            "['954-54', '127397-127401', 'want', '_', '_', '939-54', '127309-127313', 'want', 'Supplements[136]']\n",
            "['954-55', '127402-127404', 'to', '_', '_', '939-55', '127314-127316', 'to', 'Supplements[136]']\n",
            "['954-56', '127405-127409', 'quit', '_', '_', '939-56', '127317-127321', 'quit', 'Supplements[136]']\n",
            "['954-57', '127410-127417', 'because', '_', '_', '939-57', '127322-127329', 'because', 'Supplements[136]']\n",
            "['954-58', '127418-127420', 'it', '_', '_', '939-58', '127330-127332', 'it', 'Supplements[136]']\n",
            "['954-59', '127421-127426', 'helps', '_', '_', '939-59', '127333-127338', 'helps', 'Supplements[136]']\n",
            "['954-60', '127427-127429', 'me', '_', '_', '939-60', '127339-127341', 'me', 'Supplements[136]']\n",
            "['954-61', '127430-127433', 'and', '_', '_', '939-61', '127342-127345', 'and', 'Supplements[136]']\n",
            "['954-62', '127434-127439', 'every', '_', '_', '939-62', '127346-127351', 'every', 'Supplements[136]']\n",
            "['954-63', '127440-127445', 'other', '_', '_', '939-63', '127352-127357', 'other', 'Supplements[136]']\n",
            "['954-64', '127446-127452', 'aspect', '_', '_', '939-64', '127358-127364', 'aspect', 'Supplements[136]']\n",
            "['954-65', '127453-127455', 'of', '_', '_', '939-65', '127365-127367', 'of', 'Supplements[136]']\n",
            "['954-66', '127456-127460', 'life', '_', '_', '939-66', '127368-127372', 'life', 'Supplements[136]']\n",
            "['961-1', '128113-128115', 'To', '_', '_', '946-1', '128019-128021', 'To', 'Supplements[137]']\n",
            "['961-2', '128116-128122', 'taking', '_', '_', '946-2', '128022-128028', 'taking', 'Supplements[137]']\n",
            "['961-3', '128123-128124', 'a', '_', '_', '946-3', '128029-128030', 'a', 'Supplements[137]']\n",
            "['961-4', '128125-128130', 'glass', '_', '_', '946-4', '128031-128036', 'glass', 'Supplements[137]']\n",
            "['961-5', '128131-128133', 'of', '_', '_', '946-5', '128037-128039', 'of', 'Supplements[137]']\n",
            "['961-6', '128134-128140', 'Kratom', '*', 'Illegal drug use', '946-6', '128040-128046', 'Kratom', 'Supplements[137]']\n",
            "['961-7', '128141-128149', 'everyday', '_', '_', '946-7', '128047-128055', 'everyday', 'Supplements[137]']\n",
            "['961-8', '128150-128156', 'waking', '_', '_', '946-8', '128056-128062', 'waking', 'Supplements[137]']\n",
            "['961-9', '128157-128159', 'up', '_', '_', '946-9', '128063-128065', 'up', 'Supplements[137]']\n",
            "['979-46', '129424-129425', 'I', '_', '_', '976-46', '130608-130609', 'I', 'Supplements[141]']\n",
            "['979-47', '129426-129430', 'felt', '_', '_', '976-47', '130610-130614', 'felt', 'Supplements[141]']\n",
            "['979-48', '129431-129438', 'exactly', '_', '_', '976-48', '130615-130622', 'exactly', 'Supplements[141]']\n",
            "['979-49', '129439-129443', 'like', '_', '_', '976-49', '130623-130627', 'like', 'Supplements[141]']\n",
            "['979-50', '129444-129447', 'you', '_', '_', '976-50', '130628-130631', 'you', 'Supplements[141]']\n",
            "['979-51', '129448-129454', 'before', '_', '_', '976-51', '130632-130638', 'before', 'Supplements[141]']\n",
            "['979-52', '129455-129456', 'I', '_', '_', '976-52', '130639-130640', 'I', 'Supplements[141]']\n",
            "['979-53', '129457-129463', 'switch', '_', '_', '976-53', '130641-130647', 'switch', 'Supplements[141]']\n",
            "['979-54', '129464-129466', 'to', '_', '_', '976-54', '130648-130650', 'to', 'Supplements[141]']\n",
            "['979-55', '129467-129473', 'Kratom', '*', 'Illegal drug use', '976-55', '130651-130657', 'Kratom', 'Supplements[141]']\n",
            "['979-56', '129474-129479', 'about', '_', '_', '976-56', '130658-130663', 'about', 'Supplements[141]']\n",
            "['979-57', '129480-129482', '10', '_', '_', '976-57', '130664-130666', '10', 'Supplements[141]']\n",
            "['979-58', '129483-129487', 'days', '_', '_', '976-58', '130667-130671', 'days', 'Supplements[141]']\n",
            "['979-59', '129488-129491', 'ago', '_', '_', '976-59', '130672-130675', 'ago', 'Supplements[141]']\n",
            "['988-1', '130075-130078', 'Now', '_', '_', '985-1', '131259-131262', 'Now', 'Supplements[142]']\n",
            "['988-2', '130079-130083', 'that', '_', '_', '985-2', '131263-131267', 'that', 'Supplements[142]']\n",
            "['988-3', '130084-130087', \"I'm\", '_', '_', '985-3', '131268-131271', \"I'm\", 'Supplements[142]']\n",
            "['988-4', '130088-130090', 'on', '_', '_', '985-4', '131272-131274', 'on', 'Supplements[142]']\n",
            "['988-5', '130091-130097', 'kratom', '*', 'Illegal drug use', '985-5', '131275-131281', 'kratom', 'Supplements[142]']\n",
            "['988-6', '130097-130098', ',', '_', '_', '985-6', '131281-131282', ',', 'Supplements[142]']\n",
            "['988-7', '130099-130103', \"it's\", '_', '_', '985-7', '131283-131287', \"it's\", 'Supplements[142]']\n",
            "['988-8', '130104-130108', 'only', '_', '_', '985-8', '131288-131292', 'only', 'Supplements[142]']\n",
            "['988-9', '130109-130113', 'been', '_', '_', '985-9', '131293-131297', 'been', 'Supplements[142]']\n",
            "['988-10', '130114-130116', '10', '_', '_', '985-10', '131298-131300', '10', 'Supplements[142]']\n",
            "['988-11', '130117-130121', 'days', '_', '_', '985-11', '131301-131305', 'days', 'Supplements[142]']\n",
            "['988-12', '130122-130125', 'and', '_', '_', '985-12', '131306-131309', 'and', 'Supplements[142]']\n",
            "['988-13', '130126-130127', 'I', '_', '_', '985-13', '131310-131311', 'I', 'Supplements[142]']\n",
            "['988-14', '130128-130132', 'feel', '_', '_', '985-14', '131312-131316', 'feel', 'Supplements[142]']\n",
            "['988-15', '130133-130134', 'a', '_', '_', '985-15', '131317-131318', 'a', 'Supplements[142]']\n",
            "['988-16', '130135-130139', 'hell', '_', '_', '985-16', '131319-131323', 'hell', 'Supplements[142]']\n",
            "['988-17', '130140-130142', 'of', '_', '_', '985-17', '131324-131326', 'of', 'Supplements[142]']\n",
            "['988-18', '130143-130144', 'a', '_', '_', '985-18', '131327-131328', 'a', 'Supplements[142]']\n",
            "['988-19', '130145-130148', 'lot', '_', '_', '985-19', '131329-131332', 'lot', 'Supplements[142]']\n",
            "['988-20', '130149-130155', 'better', '_', '_', '985-20', '131333-131339', 'better', 'Supplements[142]']\n",
            "['988-21', '130155-130156', '.', '_', '_', '985-21', '131339-131340', '.', 'Supplements[142]']\n",
            "['1023-1', '133766-133767', 'I', '_', '_', '1004-1', '133753-133754', 'I', 'Supplements[143]']\n",
            "['1023-2', '133768-133770', 'am', '_', '_', '1004-2', '133755-133757', 'am', 'Supplements[143]']\n",
            "['1023-3', '133771-133780', 'currently', '_', '_', '1004-3', '133758-133767', 'currently', 'Supplements[143]']\n",
            "['1023-4', '133781-133787', 'taking', '_', '_', '1004-4', '133768-133774', 'taking', 'Supplements[143]']\n",
            "['1023-5', '133788-133794', 'kratom', '*', 'IDU: switch from or instead of prescription or in addition to', '1004-5', '133775-133781', 'kratom', 'Supplements[143]']\n",
            "['1023-6', '133795-133798', 'and', '_', '_', '1004-6', '133782-133785', 'and', 'Supplements[143]']\n",
            "['1023-7', '133799-133801', 'it', '_', '_', '1004-7', '133786-133788', 'it', 'Supplements[143]']\n",
            "['1023-8', '133802-133804', 'is', '_', '_', '1004-8', '133789-133791', 'is', 'Supplements[143]']\n",
            "['1023-9', '133805-133812', 'helping', '_', '_', '1004-9', '133792-133799', 'helping', 'Supplements[143]']\n",
            "['1023-10', '133813-133816', 'but', '_', '_', '1004-10', '133800-133803', 'but', 'Supplements[143]']\n",
            "['1023-11', '133817-133818', 'I', '_', '_', '1004-11', '133804-133805', 'I', 'Supplements[143]']\n",
            "['1023-12', '133819-133824', 'still', '_', '_', '1004-12', '133806-133811', 'still', 'Supplements[143]']\n",
            "['1023-13', '133825-133829', 'kind', '_', '_', '1004-13', '133812-133816', 'kind', 'Supplements[143]']\n",
            "['1023-14', '133830-133832', 'of', '_', '_', '1004-14', '133817-133819', 'of', 'Supplements[143]']\n",
            "['1023-15', '133833-133837', 'feel', '_', '_', '1004-15', '133820-133824', 'feel', 'Supplements[143]']\n",
            "['1023-16', '133838-133842', 'like', '_', '_', '1004-16', '133825-133829', 'like', 'Supplements[143]']\n",
            "['1023-17', '133843-133847', 'shit', '_', '_', '1004-17', '133830-133834', 'shit', 'Supplements[143]']\n",
            "['1244-1', '162761-162768', \"There's\", '_', '_', '1225-1', '162748-162755', \"There's\", 'Medicine Intake[154]']\n",
            "['1244-2', '162769-162773', 'some', '_', '_', '1225-2', '162756-162760', 'some', 'Medicine Intake[154]']\n",
            "['1244-3', '162774-162778', 'days', '_', '_', '1225-3', '162761-162765', 'days', 'Medicine Intake[154]']\n",
            "['1244-4', '162779-162783', 'when', '_', '_', '1225-4', '162766-162770', 'when', 'Medicine Intake[154]']\n",
            "['1244-5', '162784-162788', \"I'll\", '_', '_', '1225-5', '162771-162775', \"I'll\", 'Medicine Intake[154]']\n",
            "['1244-6', '162789-162792', 'get', '_', '_', '1225-6', '162776-162779', 'get', 'Medicine Intake[154]']\n",
            "['1244-7', '162793-162794', 'a', '_', '_', '1225-7', '162780-162781', 'a', 'Medicine Intake[154]']\n",
            "['1244-8', '162795-162801', 'couple', '_', '_', '1225-8', '162782-162788', 'couple', 'Medicine Intake[154]']\n",
            "['1244-9', '162802-162811', 'Percocets', '*', 'Medicine intake', '1225-9', '162789-162798', 'Percocets', 'Medicine Intake[154]']\n",
            "['1244-10', '162812-162816', 'when', '_', '_', '1225-10', '162799-162803', 'when', 'Medicine Intake[154]']\n",
            "['1244-11', '162817-162820', \"I'm\", '_', '_', '1225-11', '162804-162807', \"I'm\", 'Medicine Intake[154]']\n",
            "['1244-12', '162821-162823', 'in', '_', '_', '1225-12', '162808-162810', 'in', 'Medicine Intake[154]']\n",
            "['1244-13', '162824-162828', 'real', '_', '_', '1225-13', '162811-162815', 'real', 'Medicine Intake[154]']\n",
            "['1244-14', '162829-162832', 'bad', '_', '_', '1225-14', '162816-162819', 'bad', 'Medicine Intake[154]']\n",
            "['1244-15', '162833-162837', 'pain', '*', 'Medical condition', '1225-15', '162820-162824', 'pain', 'Medicine Intake[154]']\n",
            "['1269-1', '166131-166132', 'I', '_', '_', '1250-1', '166118-166119', 'I', 'Supplements[155]']\n",
            "['1269-2', '166133-166137', 'used', '_', '_', '1250-2', '166120-166124', 'used', 'Supplements[155]']\n",
            "['1269-3', '166138-166140', 'to', '_', '_', '1250-3', '166125-166127', 'to', 'Supplements[155]']\n",
            "['1269-4', '166141-166145', 'need', '_', '_', '1250-4', '166128-166132', 'need', 'Supplements[155]']\n",
            "['1269-5', '166146-166147', 'a', '_', '_', '1250-5', '166133-166134', 'a', 'Supplements[155]']\n",
            "['1269-6', '166148-166152', 'shot', '*', 'IDU: Method of intake & frequency and amount', '1250-6', '166135-166139', 'shot', 'Supplements[155]']\n",
            "['1269-7', '166153-166155', 'of', '_', '_', '1250-7', '166140-166142', 'of', 'Supplements[155]']\n",
            "['1269-8', '166156-166162', 'heroin', '*', 'Illegal drug use', '1250-8', '166143-166149', 'heroin', 'Supplements[155]']\n",
            "['1269-9', '166163-166165', 'on', '_', '_', '1250-9', '166150-166152', 'on', 'Supplements[155]']\n",
            "['1269-10', '166166-166171', 'every', '_', '_', '1250-10', '166153-166158', 'every', 'Supplements[155]']\n",
            "['1269-11', '166172-166179', 'morning', '_', '_', '1250-11', '166159-166166', 'morning', 'Supplements[155]']\n",
            "['1269-12', '166180-166183', 'now', '_', '_', '1250-12', '166167-166170', 'now', 'Supplements[155]']\n",
            "['1269-13', '166184-166185', 'I', '_', '_', '1250-13', '166171-166172', 'I', 'Supplements[155]']\n",
            "['1269-14', '166186-166190', 'just', '_', '_', '1250-14', '166173-166177', 'just', 'Supplements[155]']\n",
            "['1269-15', '166191-166195', 'take', '_', '_', '1250-15', '166178-166182', 'take', 'Supplements[155]']\n",
            "['1269-16', '166196-166197', 'a', '_', '_', '1250-16', '166183-166184', 'a', 'Supplements[155]']\n",
            "['1269-17', '166198-166203', 'glass', '_', '_', '1250-17', '166185-166190', 'glass', 'Supplements[155]']\n",
            "['1269-18', '166204-166206', 'of', '_', '_', '1250-18', '166191-166193', 'of', 'Supplements[155]']\n",
            "['1269-19', '166207-166213', 'Kratom', '*', 'Illegal drug use', '1250-19', '166194-166200', 'Kratom', 'Supplements[155]']\n",
            "['1269-20', '166214-166217', 'lol', '_', '_', '1250-20', '166201-166204', 'lol', 'Supplements[155]']\n",
            "['1425-1', '189067-189071', \"I've\", '_', '_', '1405-1', '189268-189272', \"I've\", 'NMPDU Amount[171]']\n",
            "['1425-2', '189072-189080', 'actually', '_', '_', '1405-2', '189273-189281', 'actually', 'NMPDU Amount[171]']\n",
            "['1425-3', '189081-189085', 'done', '_', '_', '1405-3', '189282-189286', 'done', 'NMPDU Amount[171]']\n",
            "['1425-4', '189086-189092', 'xanaxs', '*', 'Nonmedical prescription drug use', '1405-4', '189287-189293', 'xanaxs', 'NMPDU Amount[171]']\n",
            "['1425-5', '189093-189096', 'for', '_', '_', '1405-5', '189294-189297', 'for', 'NMPDU Amount[171]']\n",
            "['1425-6', '189097-189098', 'a', '_', '_', '1405-6', '189298-189299', 'a', 'NMPDU Amount[171]']\n",
            "['1425-7', '189099-189103', 'week', '_', '_', '1405-7', '189300-189304', 'week', 'NMPDU Amount[171]']\n",
            "['1425-8', '189104-189106', 'or', '_', '_', '1405-8', '189305-189307', 'or', 'NMPDU Amount[171]']\n",
            "['1425-9', '189107-189110', 'two', '_', '_', '1405-9', '189308-189311', 'two', 'NMPDU Amount[171]']\n",
            "['1425-10', '189111-189113', 'in', '_', '_', '1405-10', '189312-189314', 'in', 'NMPDU Amount[171]']\n",
            "['1425-11', '189114-189115', 'a', '_', '_', '1405-11', '189315-189316', 'a', 'NMPDU Amount[171]']\n",
            "['1425-12', '189116-189119', 'row', '_', '_', '1405-12', '189317-189320', 'row', 'NMPDU Amount[171]']\n"
          ],
          "name": "stdout"
        }
      ]
    },
    {
      "cell_type": "code",
      "metadata": {
        "id": "hgwatAZaQyL5"
      },
      "source": [
        "path = \"/content/social impacts.txt\"\n",
        "path1 = \"/content/social impacts1.txt\"\n",
        "\n",
        "with open(path,'r') as f:\n",
        "  with open(path1,'w') as wf:\n",
        "    #train=pd.read_csv(f, sep='\\t')\n",
        "    #print(train)\n",
        "    text = f.readlines()\n",
        "    #print(text)\n",
        "    for line in text:\n",
        "      if(line.startswith(\"#\")):\n",
        "        #print(line)\n",
        "        wf.write(line)"
      ],
      "execution_count": null,
      "outputs": []
    }
  ]
}